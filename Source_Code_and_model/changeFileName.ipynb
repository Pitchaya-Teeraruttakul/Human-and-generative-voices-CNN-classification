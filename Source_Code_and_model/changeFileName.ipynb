{
 "cells": [
  {
   "cell_type": "markdown",
   "metadata": {},
   "source": [
    "# __Change file name to the formated one__ &#11088;"
   ]
  },
  {
   "cell_type": "code",
   "execution_count": 1,
   "metadata": {},
   "outputs": [],
   "source": [
    "import os"
   ]
  },
  {
   "cell_type": "code",
   "execution_count": 12,
   "metadata": {},
   "outputs": [],
   "source": [
    "name = \"Tong\""
   ]
  },
  {
   "cell_type": "code",
   "execution_count": 13,
   "metadata": {},
   "outputs": [],
   "source": [
    "def changeFilenames(path, word):\n",
    "    for filename in os.listdir(path):\n",
    "        full_path = os.path.join(path, filename)\n",
    "        if os.path.isfile(full_path):\n",
    "\n",
    "            base, ext = os.path.splitext(filename)\n",
    "            new_filename = word + base + ext\n",
    "            new_full_path = os.path.join(path, new_filename)\n",
    "\n",
    "\n",
    "            os.rename(full_path, new_full_path)\n",
    "\n",
    "\n",
    "# inputPath = \"C:/Users/jeant/OneDrive - Chulalongkorn University/Desktop/Senior Project/Dataset/Raw voice/Bright voice/\"\n",
    "# inputPath = \"C:/Users/jeant/OneDrive - Chulalongkorn University/Desktop/Senior Project/Dataset/AI voice (16000)/{}/\".format(name)\n",
    "inputPath = \"C:/Users/jeant/OneDrive - Chulalongkorn University/Desktop/Senior Project/Dataset/Wav voice (16000)/{}.wav/\".format(name)\n",
    "#inputPath = \"C:/Users/jeant/OneDrive - Chulalongkorn University/Desktop/Senior Project/Dataset/Wav voice (16000)/Bright.wav (trimmed)/\"\n",
    "insertWord = \"{} \".format(name)\n",
    "\n",
    "\n",
    "changeFilenames(inputPath, insertWord)"
   ]
  },
  {
   "cell_type": "code",
   "execution_count": 5,
   "metadata": {},
   "outputs": [
    {
     "name": "stdout",
     "output_type": "stream",
     "text": [
      "Files renamed successfully!\n"
     ]
    }
   ],
   "source": [
    "def undo(directory_path):\n",
    "  for filename in os.listdir(directory_path):\n",
    "    full_path = os.path.join(directory_path, filename)\n",
    "    if os.path.isfile(full_path):\n",
    "      \n",
    "      new_filename = filename[5:]\n",
    "\n",
    "      new_full_path = os.path.join(directory_path, new_filename)\n",
    "      i = 1\n",
    "      while os.path.exists(new_full_path):\n",
    "        new_filename = filename[-2:] + str(i)\n",
    "        new_full_path = os.path.join(directory_path, new_filename)\n",
    "        i += 1\n",
    "\n",
    "      os.rename(full_path, new_full_path)\n",
    "\n",
    "\n",
    "directory_path = \"C:/Users/jeant/OneDrive - Chulalongkorn University/Desktop/Senior Project/Dataset/Wav voice (16000)/Besty.wav/\" \n",
    "\n",
    "\n",
    "undo(directory_path)\n",
    "\n",
    "print(\"Files renamed successfully!\")"
   ]
  },
  {
   "cell_type": "code",
   "execution_count": 5,
   "metadata": {},
   "outputs": [
    {
     "name": "stdout",
     "output_type": "stream",
     "text": [
      "File 'Best Besty 1.wav' renamed to 'Besty 1.wav'.\n",
      "File 'Best Besty 10.wav' renamed to 'Besty 10.wav'.\n",
      "File 'Best Besty 11.wav' renamed to 'Besty 11.wav'.\n",
      "File 'Best Besty 12.wav' renamed to 'Besty 12.wav'.\n",
      "File 'Best Besty 13.wav' renamed to 'Besty 13.wav'.\n",
      "File 'Best Besty 14.wav' renamed to 'Besty 14.wav'.\n",
      "File 'Best Besty 15.wav' renamed to 'Besty 15.wav'.\n",
      "File 'Best Besty 16.wav' renamed to 'Besty 16.wav'.\n",
      "File 'Best Besty 17.wav' renamed to 'Besty 17.wav'.\n",
      "File 'Best Besty 18.wav' renamed to 'Besty 18.wav'.\n",
      "File 'Best Besty 19.wav' renamed to 'Besty 19.wav'.\n",
      "File 'Best Besty 2.wav' renamed to 'Besty 2.wav'.\n",
      "File 'Best Besty 20.wav' renamed to 'Besty 20.wav'.\n",
      "File 'Best Besty 21.wav' renamed to 'Besty 21.wav'.\n",
      "File 'Best Besty 22.wav' renamed to 'Besty 22.wav'.\n",
      "File 'Best Besty 23.wav' renamed to 'Besty 23.wav'.\n",
      "File 'Best Besty 24.wav' renamed to 'Besty 24.wav'.\n",
      "File 'Best Besty 25.wav' renamed to 'Besty 25.wav'.\n",
      "File 'Best Besty 26.wav' renamed to 'Besty 26.wav'.\n",
      "File 'Best Besty 27.wav' renamed to 'Besty 27.wav'.\n",
      "File 'Best Besty 28.wav' renamed to 'Besty 28.wav'.\n",
      "File 'Best Besty 29.wav' renamed to 'Besty 29.wav'.\n",
      "File 'Best Besty 3.wav' renamed to 'Besty 3.wav'.\n",
      "File 'Best Besty 30.wav' renamed to 'Besty 30.wav'.\n",
      "File 'Best Besty 31.wav' renamed to 'Besty 31.wav'.\n",
      "File 'Best Besty 32.wav' renamed to 'Besty 32.wav'.\n",
      "File 'Best Besty 33.wav' renamed to 'Besty 33.wav'.\n",
      "File 'Best Besty 34.wav' renamed to 'Besty 34.wav'.\n",
      "File 'Best Besty 35.wav' renamed to 'Besty 35.wav'.\n",
      "File 'Best Besty 36.wav' renamed to 'Besty 36.wav'.\n",
      "File 'Best Besty 37.wav' renamed to 'Besty 37.wav'.\n",
      "File 'Best Besty 38.wav' renamed to 'Besty 38.wav'.\n",
      "File 'Best Besty 39.wav' renamed to 'Besty 39.wav'.\n",
      "File 'Best Besty 4.wav' renamed to 'Besty 4.wav'.\n",
      "File 'Best Besty 40.wav' renamed to 'Besty 40.wav'.\n",
      "File 'Best Besty 41.wav' renamed to 'Besty 41.wav'.\n",
      "File 'Best Besty 42.wav' renamed to 'Besty 42.wav'.\n",
      "File 'Best Besty 43.wav' renamed to 'Besty 43.wav'.\n",
      "File 'Best Besty 44.wav' renamed to 'Besty 44.wav'.\n",
      "File 'Best Besty 45.wav' renamed to 'Besty 45.wav'.\n",
      "File 'Best Besty 46.wav' renamed to 'Besty 46.wav'.\n",
      "File 'Best Besty 47.wav' renamed to 'Besty 47.wav'.\n",
      "File 'Best Besty 48.wav' renamed to 'Besty 48.wav'.\n",
      "File 'Best Besty 49.wav' renamed to 'Besty 49.wav'.\n",
      "File 'Best Besty 5.wav' renamed to 'Besty 5.wav'.\n",
      "File 'Best Besty 50.wav' renamed to 'Besty 50.wav'.\n",
      "File 'Best Besty 6.wav' renamed to 'Besty 6.wav'.\n",
      "File 'Best Besty 7.wav' renamed to 'Besty 7.wav'.\n",
      "File 'Best Besty 8.wav' renamed to 'Besty 8.wav'.\n",
      "File 'Best Besty 9.wav' renamed to 'Besty 9.wav'.\n"
     ]
    }
   ],
   "source": [
    "def cut_and_save_filename(directory_path):\n",
    "    # Get a list of all files in the specified directory\n",
    "    files = os.listdir(directory_path)\n",
    "\n",
    "    # Iterate through each file in the directory\n",
    "    for filename in files:\n",
    "        # Check if the file is a regular file (not a directory)\n",
    "        if os.path.isfile(os.path.join(directory_path, filename)):\n",
    "            # Cut the first 5 characters of the filename\n",
    "            new_filename = filename[5:]\n",
    "\n",
    "            # Build the full paths for the old and new filenames\n",
    "            old_filepath = os.path.join(directory_path, filename)\n",
    "            new_filepath = os.path.join(directory_path, new_filename)\n",
    "\n",
    "            # Rename the file by moving it to the new path\n",
    "            os.rename(old_filepath, new_filepath)\n",
    "\n",
    "            print(f\"File '{filename}' renamed to '{new_filename}'.\")\n",
    "\n",
    "# Specify the directory path where the files are located\n",
    "directory_path = \"C:/Users/jeant/OneDrive - Chulalongkorn University/Desktop/Senior Project/Dataset/Wav voice (16000)/Besty.wav/\" \n",
    "\n",
    "# Call the function to cut and save filenames\n",
    "cut_and_save_filename(directory_path)"
   ]
  },
  {
   "cell_type": "code",
   "execution_count": 5,
   "metadata": {},
   "outputs": [],
   "source": [
    "directory_path = \"C:/Users/jeant/OneDrive - Chulalongkorn University/Desktop/Senior Project/Dataset/Raw voice/Bright voice/\"  \n",
    "\n",
    "for filename in os.listdir(directory_path):\n",
    "    if filename.endswith(\".m4a\"): \n",
    "        old_filename = os.path.join(directory_path, filename)\n",
    "        new_filename = os.path.join(directory_path, filename[1:])  \n",
    "        os.rename(old_filename, new_filename)"
   ]
  },
  {
   "cell_type": "code",
   "execution_count": 3,
   "metadata": {},
   "outputs": [],
   "source": [
    "directory_path = \"C:/Users/jeant/OneDrive - Chulalongkorn University/Desktop/Senior Project/Dataset/Raw voice/Besty voice/\"  \n",
    "\n",
    "for filename in os.listdir(directory_path):\n",
    "    if filename.endswith(\".m4a\"): \n",
    "        old_filename = os.path.join(directory_path, filename)\n",
    "        new_filename = os.path.join(directory_path, filename[2:])  \n",
    "        os.rename(old_filename, new_filename)"
   ]
  },
  {
   "cell_type": "code",
   "execution_count": null,
   "metadata": {},
   "outputs": [],
   "source": [
    "HumanNameIndex = {\"Jean\":5, \"Tong\":6, \"Pom\":7, \"Best\":8,\"Jean\":5, \"Tong\":6, \"Pom\":7, \"Best\":8}\n",
    "AINameIndex = {\"Jean\":5, \"Tong\":6, \"Pom\":7, \"Best\":8, \"Jean\":5, \"Tong\":6, \"Pom\":7, \"Best\":8}"
   ]
  }
 ],
 "metadata": {
  "kernelspec": {
   "display_name": "Python 3",
   "language": "python",
   "name": "python3"
  },
  "language_info": {
   "codemirror_mode": {
    "name": "ipython",
    "version": 3
   },
   "file_extension": ".py",
   "mimetype": "text/x-python",
   "name": "python",
   "nbconvert_exporter": "python",
   "pygments_lexer": "ipython3",
   "version": "3.10.1"
  }
 },
 "nbformat": 4,
 "nbformat_minor": 2
}
