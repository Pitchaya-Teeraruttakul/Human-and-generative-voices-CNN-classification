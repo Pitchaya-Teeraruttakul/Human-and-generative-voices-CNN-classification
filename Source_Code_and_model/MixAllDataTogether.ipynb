{
 "cells": [
  {
   "cell_type": "markdown",
   "metadata": {},
   "source": [
    "# __Shuffle all data__ &#11088;"
   ]
  },
  {
   "cell_type": "code",
   "execution_count": 1,
   "metadata": {},
   "outputs": [],
   "source": [
    "import os\n",
    "import re\n",
    "import glob\n",
    "import random"
   ]
  },
  {
   "cell_type": "code",
   "execution_count": 11,
   "metadata": {},
   "outputs": [],
   "source": [
    "HumanVoiceDir = \"C:/Users/jeant/OneDrive - Chulalongkorn University/Desktop/Senior Project/Dataset/Human Ver.3 Mix Pic/Human pic/\"\n",
    "AIVoiceDIr = \"C:/Users/jeant/OneDrive - Chulalongkorn University/Desktop/Senior Project/Dataset/AI Ver.3 Mix Pic/AI pic/\""
   ]
  },
  {
   "cell_type": "code",
   "execution_count": 7,
   "metadata": {},
   "outputs": [],
   "source": [
    "augTrainDir = \"C:/Users/jeant/OneDrive - Chulalongkorn University/Desktop/Senior Project/Convertor code/Model/data1/augmentedTrainSet/AI\"\n"
   ]
  },
  {
   "cell_type": "code",
   "execution_count": 8,
   "metadata": {},
   "outputs": [
    {
     "name": "stdout",
     "output_type": "stream",
     "text": [
      "The directory 'C:/Users/jeant/OneDrive - Chulalongkorn University/Desktop/Senior Project/Convertor code/Model/data1/augmentedTrainSet/AI' exists.\n"
     ]
    }
   ],
   "source": [
    "if os.path.exists(augTrainDir):\n",
    "    print(f\"The directory '{augTrainDir}' exists.\")\n",
    "else:\n",
    "    print(f\"The directory '{augTrainDir}' does not exist.\")"
   ]
  },
  {
   "cell_type": "code",
   "execution_count": 9,
   "metadata": {},
   "outputs": [
    {
     "name": "stdout",
     "output_type": "stream",
     "text": [
      "Number of .png files in audio folder =  480 \n",
      "\n",
      "['Alan 1.png', 'Alan 2.png', 'Alan 3.png', 'Alan 4.png', 'Alan 5.png', 'Alan 6.png', 'Alan 7.png', 'Alan 8.png', 'Alan 9.png', 'Alan 10.png', 'Alan 11.png', 'Alan 12.png', 'Alan 13.png', 'Alan 14.png', 'Alan 15.png', 'Alan 16.png', 'Alan 17.png', 'Alan 18.png', 'Alan 19.png', 'Alan 20.png', 'Alan 21.png', 'Alan 22.png', 'Alan 23.png', 'Alan 24.png', 'Alan 25.png', 'Alan 26.png', 'Alan 27.png', 'Alan 28.png', 'Alan 29.png', 'Alan 30.png', 'Alan 31.png', 'Alan 32.png', 'Alan 33.png', 'Alan 34.png', 'Alan 35.png', 'Alan 36.png', 'Alan 37.png', 'Alan 38.png', 'Alan 39.png', 'Alan 40.png', 'Alan 41.png', 'Alan 42.png', 'Alan 43.png', 'Alan 44.png', 'Alan 45.png', 'Alan 46.png', 'Alan 47.png', 'Alan 48.png', 'Alan 49.png', 'Alan 50.png', 'Ava 1.png', 'Ava 2.png', 'Ava 3.png', 'Ava 4.png', 'Ava 5.png', 'Ava 6.png', 'Ava 7.png', 'Ava 8.png', 'Ava 9.png', 'Ava 10.png', 'Ava 11.png', 'Ava 12.png', 'Ava 13.png', 'Ava 14.png', 'Ava 15.png', 'Ava 16.png', 'Ava 17.png', 'Ava 18.png', 'Ava 19.png', 'Ava 20.png', 'Ava 21.png', 'Ava 22.png', 'Ava 23.png', 'Ava 24.png', 'Ava 25.png', 'Ava 26.png', 'Ava 27.png', 'Ava 28.png', 'Ava 29.png', 'Ava 30.png', 'Ava 31.png', 'Ava 32.png', 'Ava 33.png', 'Ava 34.png', 'Ava 35.png', 'Ava 36.png', 'Ava 37.png', 'Ava 38.png', 'Ava 39.png', 'Ava 40.png', 'Ava 41.png', 'Ava 42.png', 'Ava 43.png', 'Ava 44.png', 'Ava 45.png', 'Ava 46.png', 'Ava 47.png', 'Ava 48.png', 'Ava 49.png', 'Ava 50.png', 'Irene 1.png', 'Irene 2.png', 'Irene 3.png', 'Irene 4.png', 'Irene 5.png', 'Irene 6.png', 'Irene 7.png', 'Irene 8.png', 'Irene 9.png', 'Irene 10.png', 'Irene 11.png', 'Irene 12.png', 'Irene 13.png', 'Irene 14.png', 'Irene 15.png', 'Irene 16.png', 'Irene 17.png', 'Irene 18.png', 'Irene 19.png', 'Irene 20.png', 'Max 1.png', 'Max 2.png', 'Max 3.png', 'Max 4.png', 'Max 5.png', 'Max 6.png', 'Max 7.png', 'Max 8.png', 'Max 9.png', 'Max 10.png', 'Max 11.png', 'Max 12.png', 'Max 13.png', 'Max 14.png', 'Max 15.png', 'Max 16.png', 'Max 17.png', 'Max 18.png', 'Max 19.png', 'Max 20.png', 'Saree 1.png', 'Saree 2.png', 'Saree 3.png', 'Saree 4.png', 'Saree 5.png', 'Saree 6.png', 'Saree 7.png', 'Saree 8.png', 'Saree 9.png', 'Saree 10.png', 'Saree 11.png', 'Saree 12.png', 'Saree 13.png', 'Saree 14.png', 'Saree 15.png', 'Saree 16.png', 'Saree 17.png', 'Saree 18.png', 'Saree 19.png', 'Saree 20.png', 'Saree 21.png', 'Saree 22.png', 'Saree 23.png', 'Saree 24.png', 'Saree 25.png', 'Saree 26.png', 'Saree 27.png', 'Saree 28.png', 'Saree 29.png', 'Saree 30.png', 'Saree 31.png', 'Saree 32.png', 'Saree 33.png', 'Saree 34.png', 'Saree 35.png', 'Saree 36.png', 'Saree 37.png', 'Saree 38.png', 'Saree 39.png', 'Saree 40.png', 'Saree 41.png', 'Saree 42.png', 'Saree 43.png', 'Saree 44.png', 'Saree 45.png', 'Saree 46.png', 'Saree 47.png', 'Saree 48.png', 'Saree 49.png', 'Saree 50.png', 'Top 1.png', 'Top 2.png', 'Top 3.png', 'Top 4.png', 'Top 5.png', 'Top 6.png', 'Top 7.png', 'Top 8.png', 'Top 9.png', 'Top 10.png', 'Top 11.png', 'Top 12.png', 'Top 13.png', 'Top 14.png', 'Top 15.png', 'Top 16.png', 'Top 17.png', 'Top 18.png', 'Top 19.png', 'Top 20.png', 'Top 21.png', 'Top 22.png', 'Top 23.png', 'Top 24.png', 'Top 25.png', 'Top 26.png', 'Top 27.png', 'Top 28.png', 'Top 29.png', 'Top 30.png', 'Top 31.png', 'Top 32.png', 'Top 33.png', 'Top 34.png', 'Top 35.png', 'Top 36.png', 'Top 37.png', 'Top 38.png', 'Top 39.png', 'Top 40.png', 'Top 41.png', 'Top 42.png', 'Top 43.png', 'Top 44.png', 'Top 45.png', 'Top 46.png', 'Top 47.png', 'Top 48.png', 'Top 49.png', 'Top 50.png', 'aug_Alan 1.png', 'aug_Alan 2.png', 'aug_Alan 3.png', 'aug_Alan 4.png', 'aug_Alan 5.png', 'aug_Alan 6.png', 'aug_Alan 7.png', 'aug_Alan 8.png', 'aug_Alan 9.png', 'aug_Alan 10.png', 'aug_Alan 11.png', 'aug_Alan 12.png', 'aug_Alan 13.png', 'aug_Alan 14.png', 'aug_Alan 15.png', 'aug_Alan 16.png', 'aug_Alan 17.png', 'aug_Alan 18.png', 'aug_Alan 19.png', 'aug_Alan 20.png', 'aug_Alan 21.png', 'aug_Alan 22.png', 'aug_Alan 23.png', 'aug_Alan 24.png', 'aug_Alan 25.png', 'aug_Alan 26.png', 'aug_Alan 27.png', 'aug_Alan 28.png', 'aug_Alan 29.png', 'aug_Alan 30.png', 'aug_Alan 31.png', 'aug_Alan 32.png', 'aug_Alan 33.png', 'aug_Alan 34.png', 'aug_Alan 35.png', 'aug_Alan 36.png', 'aug_Alan 37.png', 'aug_Alan 38.png', 'aug_Alan 39.png', 'aug_Alan 40.png', 'aug_Alan 41.png', 'aug_Alan 42.png', 'aug_Alan 43.png', 'aug_Alan 44.png', 'aug_Alan 45.png', 'aug_Alan 46.png', 'aug_Alan 47.png', 'aug_Alan 48.png', 'aug_Alan 49.png', 'aug_Alan 50.png', 'aug_Ava 1.png', 'aug_Ava 2.png', 'aug_Ava 3.png', 'aug_Ava 4.png', 'aug_Ava 5.png', 'aug_Ava 6.png', 'aug_Ava 7.png', 'aug_Ava 8.png', 'aug_Ava 9.png', 'aug_Ava 10.png', 'aug_Ava 11.png', 'aug_Ava 12.png', 'aug_Ava 13.png', 'aug_Ava 14.png', 'aug_Ava 15.png', 'aug_Ava 16.png', 'aug_Ava 17.png', 'aug_Ava 18.png', 'aug_Ava 19.png', 'aug_Ava 20.png', 'aug_Ava 21.png', 'aug_Ava 22.png', 'aug_Ava 23.png', 'aug_Ava 24.png', 'aug_Ava 25.png', 'aug_Ava 26.png', 'aug_Ava 27.png', 'aug_Ava 28.png', 'aug_Ava 29.png', 'aug_Ava 30.png', 'aug_Ava 31.png', 'aug_Ava 32.png', 'aug_Ava 33.png', 'aug_Ava 34.png', 'aug_Ava 35.png', 'aug_Ava 36.png', 'aug_Ava 37.png', 'aug_Ava 38.png', 'aug_Ava 39.png', 'aug_Ava 40.png', 'aug_Ava 41.png', 'aug_Ava 42.png', 'aug_Ava 43.png', 'aug_Ava 44.png', 'aug_Ava 45.png', 'aug_Ava 46.png', 'aug_Ava 47.png', 'aug_Ava 48.png', 'aug_Ava 49.png', 'aug_Ava 50.png', 'aug_Irene 1.png', 'aug_Irene 2.png', 'aug_Irene 3.png', 'aug_Irene 4.png', 'aug_Irene 5.png', 'aug_Irene 6.png', 'aug_Irene 7.png', 'aug_Irene 8.png', 'aug_Irene 9.png', 'aug_Irene 10.png', 'aug_Irene 11.png', 'aug_Irene 12.png', 'aug_Irene 13.png', 'aug_Irene 14.png', 'aug_Irene 15.png', 'aug_Irene 16.png', 'aug_Irene 17.png', 'aug_Irene 18.png', 'aug_Irene 19.png', 'aug_Irene 20.png', 'aug_Max 1.png', 'aug_Max 2.png', 'aug_Max 3.png', 'aug_Max 4.png', 'aug_Max 5.png', 'aug_Max 6.png', 'aug_Max 7.png', 'aug_Max 8.png', 'aug_Max 9.png', 'aug_Max 10.png', 'aug_Max 11.png', 'aug_Max 12.png', 'aug_Max 13.png', 'aug_Max 14.png', 'aug_Max 15.png', 'aug_Max 16.png', 'aug_Max 17.png', 'aug_Max 18.png', 'aug_Max 19.png', 'aug_Max 20.png', 'aug_Saree 1.png', 'aug_Saree 2.png', 'aug_Saree 3.png', 'aug_Saree 4.png', 'aug_Saree 5.png', 'aug_Saree 6.png', 'aug_Saree 7.png', 'aug_Saree 8.png', 'aug_Saree 9.png', 'aug_Saree 10.png', 'aug_Saree 11.png', 'aug_Saree 12.png', 'aug_Saree 13.png', 'aug_Saree 14.png', 'aug_Saree 15.png', 'aug_Saree 16.png', 'aug_Saree 17.png', 'aug_Saree 18.png', 'aug_Saree 19.png', 'aug_Saree 20.png', 'aug_Saree 21.png', 'aug_Saree 22.png', 'aug_Saree 23.png', 'aug_Saree 24.png', 'aug_Saree 25.png', 'aug_Saree 26.png', 'aug_Saree 27.png', 'aug_Saree 28.png', 'aug_Saree 29.png', 'aug_Saree 30.png', 'aug_Saree 31.png', 'aug_Saree 32.png', 'aug_Saree 33.png', 'aug_Saree 34.png', 'aug_Saree 35.png', 'aug_Saree 36.png', 'aug_Saree 37.png', 'aug_Saree 38.png', 'aug_Saree 39.png', 'aug_Saree 40.png', 'aug_Saree 41.png', 'aug_Saree 42.png', 'aug_Saree 43.png', 'aug_Saree 44.png', 'aug_Saree 45.png', 'aug_Saree 46.png', 'aug_Saree 47.png', 'aug_Saree 48.png', 'aug_Saree 49.png', 'aug_Saree 50.png', 'aug_Top 1.png', 'aug_Top 2.png', 'aug_Top 3.png', 'aug_Top 4.png', 'aug_Top 5.png', 'aug_Top 6.png', 'aug_Top 7.png', 'aug_Top 8.png', 'aug_Top 9.png', 'aug_Top 10.png', 'aug_Top 11.png', 'aug_Top 12.png', 'aug_Top 13.png', 'aug_Top 14.png', 'aug_Top 15.png', 'aug_Top 16.png', 'aug_Top 17.png', 'aug_Top 18.png', 'aug_Top 19.png', 'aug_Top 20.png', 'aug_Top 21.png', 'aug_Top 22.png', 'aug_Top 23.png', 'aug_Top 24.png', 'aug_Top 25.png', 'aug_Top 26.png', 'aug_Top 27.png', 'aug_Top 28.png', 'aug_Top 29.png', 'aug_Top 30.png', 'aug_Top 31.png', 'aug_Top 32.png', 'aug_Top 33.png', 'aug_Top 34.png', 'aug_Top 35.png', 'aug_Top 36.png', 'aug_Top 37.png', 'aug_Top 38.png', 'aug_Top 39.png', 'aug_Top 40.png', 'aug_Top 41.png', 'aug_Top 42.png', 'aug_Top 43.png', 'aug_Top 44.png', 'aug_Top 45.png', 'aug_Top 46.png', 'aug_Top 47.png', 'aug_Top 48.png', 'aug_Top 49.png', 'aug_Top 50.png']\n"
     ]
    }
   ],
   "source": [
    "Pic = [os.path.basename(x) for x in glob.glob(os.path.join(augTrainDir, \"*.png\"))]\n",
    "print(\"Number of .png files in audio folder = \", len(Pic), '\\n')\n",
    "\n",
    "def sortFileName(filename):\n",
    "    return [int(s) if s.isdigit() else s for s in re.split(r\"(\\d+)\", filename)]\n",
    "\n",
    "\n",
    "Pic = sorted(Pic, key=sortFileName)\n",
    "print(Pic)"
   ]
  },
  {
   "cell_type": "code",
   "execution_count": 10,
   "metadata": {},
   "outputs": [],
   "source": [
    "# Human\n",
    "HumanFile = [f for f in os.listdir(augTrainDir) if f.endswith('.png')]\n",
    "\n",
    "# Shuffle the list of files randomly\n",
    "random.shuffle(HumanFile)\n",
    "\n",
    "# Iterate through the shuffled files and rename them\n",
    "for i, filename in enumerate(HumanFile):\n",
    "    new_filename = f'Human{i+1}.png'\n",
    "    os.rename(os.path.join(augTrainDir, filename), os.path.join(augTrainDir, new_filename))"
   ]
  },
  {
   "cell_type": "code",
   "execution_count": 11,
   "metadata": {},
   "outputs": [],
   "source": [
    "# AI\n",
    "AIFile = [f for f in os.listdir(augTrainDir) if f.endswith('.png')]\n",
    "\n",
    "# Shuffle the list of files randomly\n",
    "random.shuffle(AIFile)\n",
    "\n",
    "# Iterate through the shuffled files and rename them\n",
    "for i, filename in enumerate(AIFile):\n",
    "    new_filename = f'AI{i+1}.png'\n",
    "    os.rename(os.path.join(augTrainDir, filename), os.path.join(augTrainDir, new_filename))"
   ]
  }
 ],
 "metadata": {
  "kernelspec": {
   "display_name": "Python 3",
   "language": "python",
   "name": "python3"
  },
  "language_info": {
   "codemirror_mode": {
    "name": "ipython",
    "version": 3
   },
   "file_extension": ".py",
   "mimetype": "text/x-python",
   "name": "python",
   "nbconvert_exporter": "python",
   "pygments_lexer": "ipython3",
   "version": "3.10.1"
  }
 },
 "nbformat": 4,
 "nbformat_minor": 2
}
