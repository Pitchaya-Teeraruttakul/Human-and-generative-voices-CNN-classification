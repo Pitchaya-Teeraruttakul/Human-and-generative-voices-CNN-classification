{
 "cells": [
  {
   "cell_type": "code",
   "execution_count": 1,
   "metadata": {},
   "outputs": [],
   "source": [
    "import os\n",
    "import subprocess\n",
    "\n",
    "# inputDir = \"C:\\Users\\jeant\\OneDrive - Chulalongkorn University\\Desktop\\Senior Project\\Dataset\\Human voice(Mp.4)\"\n",
    "# outputDir = \"C:\\Users\\jeant\\OneDrive - Chulalongkorn University\\Desktop\\Senior Project\\Dataset\\Human voice(wav.)\""
   ]
  },
  {
   "cell_type": "code",
   "execution_count": 7,
   "metadata": {},
   "outputs": [],
   "source": [
    "def convertMp4ToWav(inputFile, outputFile):\n",
    "    Convertor = [\n",
    "        \"ffmpeg\",\n",
    "        \"-i\",\n",
    "        inputFile,\n",
    "        \"-vn\",\n",
    "        \"-acodec\",\n",
    "        \"pcm_s16le\",\n",
    "        \"-ar\",\n",
    "        \"22500\",\n",
    "        outputFile,\n",
    "    ]\n",
    "\n",
    "    try:\n",
    "        subprocess.run(Convertor, check=True)\n",
    "        print(\"Successfully converted!!\")\n",
    "    except subprocess.CalledProcessError as e:\n",
    "        print(\"Conversion failed!\")"
   ]
  },
  {
   "cell_type": "code",
   "execution_count": 4,
   "metadata": {},
   "outputs": [],
   "source": [
    "for i, filename in enumerate(os.listdir(\".\")):\n",
    "    actualFilename = filename[:-4]\n",
    "    if filename.endswith(\".mp4\"):\n",
    "        convertMp4ToWav(filename, actualFilename + \".wav\")"
   ]
  },
  {
   "cell_type": "code",
   "execution_count": 8,
   "metadata": {},
   "outputs": [
    {
     "name": "stdout",
     "output_type": "stream",
     "text": [
      "Successfully converted!!\n",
      "Successfully converted!!\n"
     ]
    }
   ],
   "source": [
    "for i, filename in enumerate(os.listdir(\".\")):\n",
    "    actualFilename = filename[:-4]\n",
    "    if filename.endswith(\".m4a\"):\n",
    "        convertMp4ToWav(filename, actualFilename + \".wav\")"
   ]
  },
  {
   "cell_type": "code",
   "execution_count": null,
   "metadata": {},
   "outputs": [],
   "source": []
  }
 ],
 "metadata": {
  "kernelspec": {
   "display_name": "Python 3",
   "language": "python",
   "name": "python3"
  },
  "language_info": {
   "codemirror_mode": {
    "name": "ipython",
    "version": 3
   },
   "file_extension": ".py",
   "mimetype": "text/x-python",
   "name": "python",
   "nbconvert_exporter": "python",
   "pygments_lexer": "ipython3",
   "version": "3.10.1"
  }
 },
 "nbformat": 4,
 "nbformat_minor": 2
}
