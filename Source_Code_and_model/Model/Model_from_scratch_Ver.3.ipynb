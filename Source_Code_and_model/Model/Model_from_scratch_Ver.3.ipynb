{
 "cells": [
  {
   "cell_type": "code",
   "execution_count": 1,
   "metadata": {},
   "outputs": [],
   "source": [
    "from matplotlib import pyplot as plt\n",
    "import tensorflow as tf\n",
    "import numpy as np\n",
    "import pandas as pd\n",
    "import matplotlib\n",
    "import glob\n",
    "import os\n",
    "\n",
    "from PIL import Image\n",
    "from tensorflow import keras\n",
    "from tensorflow.keras import Sequential, Input, Model\n",
    "from tensorflow.keras.utils import timeseries_dataset_from_array\n",
    "from tensorflow.keras.layers import Dense, Flatten, Softmax, Dropout, Conv2D, MaxPooling2D, BatchNormalization, Activation, AveragePooling2D\n",
    "from tensorflow.keras.layers import RandomFlip, RandomRotation, RandomZoom, Rescaling, RandomWidth, RandomHeight, Lambda\n",
    "from tensorflow.keras.callbacks import EarlyStopping, ModelCheckpoint, ReduceLROnPlateau, LearningRateScheduler\n",
    "from tensorflow.keras.applications.vgg16 import VGG16, preprocess_input, decode_predictions\n",
    "from tensorflow.keras.preprocessing.image import ImageDataGenerator,load_img, img_to_array\n",
    "from tensorflow.keras.layers import SeparableConv2D, add, GlobalAveragePooling2D\n",
    "from tensorflow.keras.utils import image_dataset_from_directory\n",
    "from tensorflow.keras.optimizers import RMSprop, Adam, SGD\n",
    "from sklearn.metrics import precision_recall_curve\n",
    "from tensorflow.keras.regularizers import l2\n",
    "from sklearn.metrics import roc_curve, auc\n",
    "from tensorflow.keras.layers import Dense\n",
    "from tensorflow.keras.models import Sequential\n",
    "from tensorflow.keras.layers import Embedding\n",
    "from tensorflow.keras import layers\n",
    "from scipy.signal import resample"
   ]
  },
  {
   "cell_type": "markdown",
   "metadata": {},
   "source": [
    "__<H1>Data Collection &#11088;<H1>__"
   ]
  },
  {
   "cell_type": "code",
   "execution_count": 2,
   "metadata": {},
   "outputs": [
    {
     "name": "stdout",
     "output_type": "stream",
     "text": [
      "Requirement already satisfied: gdown in c:\\users\\jeant\\appdata\\local\\programs\\python\\python310\\lib\\site-packages (5.1.0)\n",
      "Requirement already satisfied: beautifulsoup4 in c:\\users\\jeant\\appdata\\local\\programs\\python\\python310\\lib\\site-packages (from gdown) (4.12.2)\n",
      "Requirement already satisfied: filelock in c:\\users\\jeant\\appdata\\local\\programs\\python\\python310\\lib\\site-packages (from gdown) (3.13.1)\n",
      "Requirement already satisfied: requests[socks] in c:\\users\\jeant\\appdata\\local\\programs\\python\\python310\\lib\\site-packages (from gdown) (2.28.2)\n",
      "Requirement already satisfied: tqdm in c:\\users\\jeant\\appdata\\local\\programs\\python\\python310\\lib\\site-packages (from gdown) (4.66.1)\n",
      "Requirement already satisfied: soupsieve>1.2 in c:\\users\\jeant\\appdata\\local\\programs\\python\\python310\\lib\\site-packages (from beautifulsoup4->gdown) (2.4.1)\n",
      "Requirement already satisfied: charset-normalizer<4,>=2 in c:\\users\\jeant\\appdata\\local\\programs\\python\\python310\\lib\\site-packages (from requests[socks]->gdown) (3.1.0)\n",
      "Requirement already satisfied: idna<4,>=2.5 in c:\\users\\jeant\\appdata\\local\\programs\\python\\python310\\lib\\site-packages (from requests[socks]->gdown) (3.4)\n",
      "Requirement already satisfied: urllib3<1.27,>=1.21.1 in c:\\users\\jeant\\appdata\\local\\programs\\python\\python310\\lib\\site-packages (from requests[socks]->gdown) (1.26.15)\n",
      "Requirement already satisfied: certifi>=2017.4.17 in c:\\users\\jeant\\appdata\\local\\programs\\python\\python310\\lib\\site-packages (from requests[socks]->gdown) (2022.12.7)\n",
      "Requirement already satisfied: PySocks!=1.5.7,>=1.5.6 in c:\\users\\jeant\\appdata\\local\\programs\\python\\python310\\lib\\site-packages (from requests[socks]->gdown) (1.7.1)\n",
      "Requirement already satisfied: colorama in c:\\users\\jeant\\appdata\\local\\programs\\python\\python310\\lib\\site-packages (from tqdm->gdown) (0.4.6)\n"
     ]
    }
   ],
   "source": [
    "!pip install gdown"
   ]
  },
  {
   "cell_type": "code",
   "execution_count": 5,
   "metadata": {},
   "outputs": [
    {
     "name": "stdout",
     "output_type": "stream",
     "text": [
      "Finished create file to receive all data !!\n"
     ]
    }
   ],
   "source": [
    "import shutil\n",
    "baseDir = \"C:/Users/jeant/OneDrive - Chulalongkorn University/Desktop/Senior Project/Convertor code/Model/data2\"\n",
    "os.mkdir(baseDir)\n",
    "\n",
    "trainDir = os.path.join(baseDir, 'train')\n",
    "os.mkdir(trainDir)\n",
    "\n",
    "validationDir = os.path.join(baseDir, 'validation')\n",
    "os.mkdir(validationDir)\n",
    "\n",
    "testDir = os.path.join(baseDir, 'test')\n",
    "os.mkdir(testDir)\n",
    "\n",
    "trainHumanDir = os.path.join(trainDir, 'Human')\n",
    "os.mkdir(trainHumanDir)\n",
    "\n",
    "trainAIDir = os.path.join(trainDir, 'AI')\n",
    "os.mkdir(trainAIDir)\n",
    "\n",
    "validationHumanDir = os.path.join(validationDir, 'Human')\n",
    "os.mkdir(validationHumanDir)\n",
    "\n",
    "validationAIDir = os.path.join(validationDir, 'AI')\n",
    "os.mkdir(validationAIDir)\n",
    "\n",
    "testHumanDir = os.path.join(testDir, 'Human')\n",
    "os.mkdir(testHumanDir)\n",
    "\n",
    "testAIDir = os.path.join(testDir, 'AI')\n",
    "os.mkdir(testAIDir)\n",
    "\n",
    "print(\"Finished create file to receive all data !!\")"
   ]
  },
  {
   "cell_type": "markdown",
   "metadata": {},
   "source": [
    "__<h2>👻 Copies data to each file 👻</h2>__"
   ]
  },
  {
   "cell_type": "code",
   "execution_count": 3,
   "metadata": {},
   "outputs": [],
   "source": [
    "HumanDataDir = \"C:/Users/jeant/OneDrive - Chulalongkorn University/Desktop/Senior Project/Dataset/Human Picture Ver.4/\"\n",
    "AIDataDir = \"C:/Users/jeant/OneDrive - Chulalongkorn University/Desktop/Senior Project/Dataset/AI Picture Ver.4/\""
   ]
  },
  {
   "cell_type": "code",
   "execution_count": 7,
   "metadata": {},
   "outputs": [],
   "source": [
    "AIFile = [f for f in os.listdir(AIDataDir) if f.endswith('.png')]\n",
    "\n",
    "# Iterate through the shuffled files and rename them\n",
    "for i, filename in enumerate(AIFile):\n",
    "    new_filename = f'AI{i+1}.png'\n",
    "    os.rename(os.path.join(AIDataDir, filename), os.path.join(AIDataDir, new_filename))"
   ]
  },
  {
   "cell_type": "code",
   "execution_count": 8,
   "metadata": {},
   "outputs": [],
   "source": [
    "HumanFile = [f for f in os.listdir(HumanDataDir) if f.endswith('.png')]\n",
    "\n",
    "# Iterate through the shuffled files and rename them\n",
    "for i, filename in enumerate(HumanFile):\n",
    "    new_filename = f'Human{i+1}.png'\n",
    "    os.rename(os.path.join(HumanDataDir, filename), os.path.join(HumanDataDir, new_filename))"
   ]
  },
  {
   "cell_type": "code",
   "execution_count": 9,
   "metadata": {},
   "outputs": [],
   "source": [
    "# Copies AI voice Spectrogram \n",
    "\n",
    "fnames = ['AI{}.png'.format(i+1) for i in range(1200)]\n",
    "for fname in fnames:\n",
    "  src = os.path.join(AIDataDir, fname)\n",
    "  dst = os.path.join(trainAIDir, fname)\n",
    "  shutil.copyfile(src, dst)\n",
    "\n",
    "\n",
    "fnames = ['AI{}.png'.format(i+1) for i in range(1200, 1600)]\n",
    "for fname in fnames:\n",
    "  src = os.path.join(AIDataDir, fname)\n",
    "  dst = os.path.join(validationAIDir, fname)\n",
    "  shutil.copyfile(src, dst)\n",
    "\n",
    "\n",
    "fnames = ['AI{}.png'.format(i+1) for i in range(1600, 2000)]\n",
    "for fname in fnames:\n",
    "  src = os.path.join(AIDataDir, fname)\n",
    "  dst = os.path.join(testAIDir, fname)\n",
    "  shutil.copyfile(src, dst)\n",
    "\n",
    "\n",
    "# Copies Human voice Spectrogram \n",
    "  \n",
    "fnames = ['Human{}.png'.format(i+1) for i in range(1200)]\n",
    "for fname in fnames:\n",
    "  src = os.path.join(HumanDataDir, fname)\n",
    "  dst = os.path.join(trainHumanDir, fname)\n",
    "  shutil.copyfile(src, dst)\n",
    "\n",
    "\n",
    "fnames = ['Human{}.png'.format(i+1) for i in range(1200, 1600)]\n",
    "for fname in fnames:\n",
    "  src = os.path.join(HumanDataDir, fname)\n",
    "  dst = os.path.join(validationHumanDir, fname)\n",
    "  shutil.copyfile(src, dst)\n",
    "\n",
    "\n",
    "fnames = ['Human{}.png'.format(i+1) for i in range(1600, 2000)]\n",
    "for fname in fnames:\n",
    "  src = os.path.join(HumanDataDir, fname)\n",
    "  dst = os.path.join(testHumanDir, fname)\n",
    "  shutil.copyfile(src, dst)"
   ]
  },
  {
   "cell_type": "code",
   "execution_count": 56,
   "metadata": {},
   "outputs": [],
   "source": [
    "maleDir = \"C:/Users/jeant/OneDrive - Chulalongkorn University/Desktop/Senior Project/Convertor code/Model/dataTest/maleDataPic\"\n",
    "femaleDir = \"C:/Users/jeant/OneDrive - Chulalongkorn University/Desktop/Senior Project/Convertor code/Model/dataTest/femaleDataPic\""
   ]
  },
  {
   "cell_type": "code",
   "execution_count": 57,
   "metadata": {},
   "outputs": [],
   "source": [
    "maleAIDir = \"C:/Users/jeant/OneDrive - Chulalongkorn University/Desktop/Senior Project/Convertor code/Model/dataTest/maleDataPic/AI\"\n",
    "maleHumanDir = \"C:/Users/jeant/OneDrive - Chulalongkorn University/Desktop/Senior Project/Convertor code/Model/dataTest/maleDataPic/Human\"\n",
    "femaleAIDir = \"C:/Users/jeant/OneDrive - Chulalongkorn University/Desktop/Senior Project/Convertor code/Model/dataTest/femaleDataPic/AI\"\n",
    "femaleHumanDir = \"C:/Users/jeant/OneDrive - Chulalongkorn University/Desktop/Senior Project/Convertor code/Model/dataTest/femaleDataPic/Human\""
   ]
  },
  {
   "cell_type": "code",
   "execution_count": 102,
   "metadata": {},
   "outputs": [],
   "source": [
    "DemoDir = \"C:/Users/jeant/OneDrive - Chulalongkorn University/Desktop/Senior Project/Convertor code/Model/Demo\"\n",
    "DemoAIDir = \"C:/Users/jeant/OneDrive - Chulalongkorn University/Desktop/Senior Project/Convertor code/Model/Demo/AIPic\"\n",
    "DemoHumanDir = \"C:/Users/jeant/OneDrive - Chulalongkorn University/Desktop/Senior Project/Convertor code/Model/Demo/HumanPic\""
   ]
  },
  {
   "cell_type": "code",
   "execution_count": 58,
   "metadata": {},
   "outputs": [],
   "source": [
    "trainDir = \"C:/Users/jeant/OneDrive - Chulalongkorn University/Desktop/Senior Project/Convertor code/Model/data2/train\"\n",
    "validationDir = \"C:/Users/jeant/OneDrive - Chulalongkorn University/Desktop/Senior Project/Convertor code/Model/data2/validation\"\n",
    "testDir = \"C:/Users/jeant/OneDrive - Chulalongkorn University/Desktop/Senior Project/Convertor code/Model/data2/test\"\n",
    "trainHumanDir = \"C:/Users/jeant/OneDrive - Chulalongkorn University/Desktop/Senior Project/Convertor code/Model/data2/train/Human\"\n",
    "trainAIDir =\"C:/Users/jeant/OneDrive - Chulalongkorn University/Desktop/Senior Project/Convertor code/Model/data2/train/AI\"\n",
    "validationAIDir = \"C:/Users/jeant/OneDrive - Chulalongkorn University/Desktop/Senior Project/Convertor code/Model/data2/validation/AI\"\n",
    "validationHumanDir = \"C:/Users/jeant/OneDrive - Chulalongkorn University/Desktop/Senior Project/Convertor code/Model/data2/validation/Human\"\n",
    "testHumanDir = \"C:/Users/jeant/OneDrive - Chulalongkorn University/Desktop/Senior Project/Convertor code/Model/data2/test/Human\"\n",
    "testAIDir = \"C:/Users/jeant/OneDrive - Chulalongkorn University/Desktop/Senior Project/Convertor code/Model/data2/test/AI\""
   ]
  },
  {
   "cell_type": "code",
   "execution_count": 103,
   "metadata": {},
   "outputs": [
    {
     "name": "stdout",
     "output_type": "stream",
     "text": [
      "total training AI voice images: 1200\n",
      "total training Human voice images: 1200\n",
      "total validation AI voice images: 400\n",
      "total validation Human voice images: 400\n",
      "total test AI voice images: 400\n",
      "total test Human voice images: 400\n",
      "total male AI voice images: 200\n",
      "total male Human voice images: 200\n",
      "total female AI voice images: 200\n",
      "total female Human voice images: 272\n",
      "total Demo AI voice images: 2\n",
      "total Demo Human voice images: 2\n"
     ]
    }
   ],
   "source": [
    "print('total training AI voice images:', len(os.listdir(trainAIDir)))\n",
    "print('total training Human voice images:', len(os.listdir(trainHumanDir)))\n",
    "print('total validation AI voice images:', len(os.listdir(validationAIDir)))\n",
    "print('total validation Human voice images:', len(os.listdir(validationHumanDir)))\n",
    "print('total test AI voice images:', len(os.listdir(testAIDir)))\n",
    "print('total test Human voice images:', len(os.listdir(testHumanDir)))\n",
    "print('total male AI voice images:', len(os.listdir(maleAIDir)))\n",
    "print('total male Human voice images:', len(os.listdir(maleHumanDir)))\n",
    "print('total female AI voice images:', len(os.listdir(femaleAIDir)))\n",
    "print('total female Human voice images:', len(os.listdir(femaleHumanDir)))\n",
    "print('total Demo AI voice images:', len(os.listdir(DemoAIDir)))\n",
    "print('total Demo Human voice images:', len(os.listdir(DemoHumanDir)))"
   ]
  },
  {
   "cell_type": "code",
   "execution_count": 104,
   "metadata": {},
   "outputs": [
    {
     "name": "stdout",
     "output_type": "stream",
     "text": [
      "Found 2400 files belonging to 2 classes.\n",
      "Found 800 files belonging to 2 classes.\n",
      "Found 800 files belonging to 2 classes.\n",
      "Found 400 files belonging to 2 classes.\n",
      "Found 472 files belonging to 2 classes.\n",
      "Found 4 files belonging to 2 classes.\n"
     ]
    }
   ],
   "source": [
    "trainSet = image_dataset_from_directory(\n",
    "    trainDir,\n",
    "    image_size = (224,224),\n",
    "    batch_size = 32\n",
    ")\n",
    "valSet = image_dataset_from_directory(\n",
    "    validationDir,\n",
    "    image_size = (224,224),\n",
    "    batch_size = 32\n",
    ")\n",
    "testSet = image_dataset_from_directory(\n",
    "    testDir,\n",
    "    image_size = (224,224),\n",
    "    batch_size = 32\n",
    ")\n",
    "\n",
    "maleSet = image_dataset_from_directory(\n",
    "    maleDir,\n",
    "    image_size = (224,224),\n",
    "    batch_size = 32\n",
    ")\n",
    "\n",
    "femaleSet = image_dataset_from_directory(\n",
    "    femaleDir,\n",
    "    image_size = (224,224),\n",
    "    batch_size = 32\n",
    ")\n",
    "\n",
    "DemoSet = image_dataset_from_directory(\n",
    "    DemoDir,\n",
    "    image_size = (224,224),\n",
    "    batch_size = 32\n",
    ")"
   ]
  },
  {
   "cell_type": "code",
   "execution_count": 7,
   "metadata": {},
   "outputs": [
    {
     "name": "stdout",
     "output_type": "stream",
     "text": [
      "class: AI --> 0\n",
      "class: Human --> 1\n"
     ]
    }
   ],
   "source": [
    "classLabel = trainSet.class_names\n",
    "\n",
    "for label, className in enumerate(classLabel):\n",
    "    print(\"class: {} --> {}\".format(className, label))"
   ]
  },
  {
   "cell_type": "code",
   "execution_count": 8,
   "metadata": {},
   "outputs": [
    {
     "name": "stdout",
     "output_type": "stream",
     "text": [
      "data batch shape (32, 224, 224, 3)\n",
      "label batch shape (32,)\n",
      "labels_batch tf.Tensor([1 1 1 0 1 0 1 0 1 1 1 0 1 0 1 1 0 1 1 1 1 1 1 0 1 0 1 0 1 0 0 0], shape=(32,), dtype=int32)\n"
     ]
    }
   ],
   "source": [
    "for data_batch, labels_batch in trainSet.take(1):\n",
    "  print(\"data batch shape\", data_batch.shape) # 64 224x224 3 c channels\n",
    "  print(\"label batch shape\", labels_batch.shape)\n",
    "  print(\"labels_batch\", labels_batch) # 0 AI, 1 Human"
   ]
  },
  {
   "cell_type": "markdown",
   "metadata": {},
   "source": [
    "__<h2>Call Back 👹</h2>__"
   ]
  },
  {
   "cell_type": "code",
   "execution_count": 34,
   "metadata": {},
   "outputs": [],
   "source": [
    "early_stopping_cb = EarlyStopping(monitor='val_accuracy', patience=5, restore_best_weights=True)\n",
    "model_checkpoint_cb1 = ModelCheckpoint('model_scratch/woaugment', monitor='val_loss',save_best_only=True, save_weights_only=True)\n",
    "model_checkpoint_cb2 = ModelCheckpoint('model_scratch/waugment', monitor='val_loss',save_best_only=True, save_weights_only=True)\n",
    "model_checkpoint_cb3 = ModelCheckpoint('model_feature_extraction/woaugment', monitor='val_loss',save_best_only=True, save_weights_only=True)\n",
    "model_checkpoint_cb4 = ModelCheckpoint('model_feature_extraction/waugment', monitor='val_loss',save_best_only=True, save_weights_only=True)\n",
    "model_checkpoint_cb5 = ModelCheckpoint('model_fine_tuning/woaugment', monitor='val_loss',save_best_only=True,save_weights_only=True)\n",
    "model_checkpoint_cb6 = ModelCheckpoint('model_fine_tuning/waugment', monitor='val_loss',save_best_only=True,save_weights_only=True)\n",
    "reduce_lr_cb = ReduceLROnPlateau(min_lr=0.001)"
   ]
  },
  {
   "cell_type": "markdown",
   "metadata": {},
   "source": [
    "__<h2>Build Model 🫠</h2>__"
   ]
  },
  {
   "cell_type": "markdown",
   "metadata": {},
   "source": [
    "__<h4>Let's Try Train from scratch</h4>__"
   ]
  },
  {
   "cell_type": "code",
   "execution_count": 18,
   "metadata": {},
   "outputs": [],
   "source": [
    "def build_model_scratch():\n",
    "  model = Sequential()\n",
    "  model.add(Input((224,224,3)))\n",
    "  # model.add(data_augmentation) \n",
    "  model.add(Rescaling(1./255)) # normalize colors pixcel from 0 = black, 255 = white --> length 0-1\n",
    "  \n",
    "  model.add(Conv2D(filters=32,kernel_size=3,padding='same',activation='relu'))\n",
    "  # model.add(MaxPooling2D(pool_size=2))\n",
    "  model.add(BatchNormalization())\n",
    "  model.add(Dropout(0.3))\n",
    "\n",
    "  model.add(Conv2D(filters=32,kernel_size=3,padding='same',activation='relu'))\n",
    "  model.add(MaxPooling2D(pool_size=2))\n",
    "  model.add(BatchNormalization())\n",
    "  model.add(Dropout(0.3))\n",
    "\n",
    "  # model.add(Conv2D(filters=64,kernel_size=3,padding='same',activation='relu'))\n",
    "  # model.add(BatchNormalization())\n",
    "  # model.add(Dropout(0.3))\n",
    "\n",
    "  # model.add(Conv2D(filters=64,kernel_size=3,padding='same',activation='relu'))\n",
    "  # model.add(MaxPooling2D(pool_size=2))\n",
    "  # model.add(BatchNormalization())\n",
    "  # model.add(Dropout(0.3))\n",
    "\n",
    "  # model.add(Conv2D(filters=128,kernel_size=3,padding='same',activation='relu'))\n",
    "  # model.add(BatchNormalization())\n",
    "  # model.add(Dropout(0.3))\n",
    "  \n",
    "  # model.add(Conv2D(filters=128,kernel_size=3,padding='same',activation='relu'))\n",
    "  # model.add(MaxPooling2D(pool_size=2))\n",
    "  # model.add(BatchNormalization())\n",
    "  # model.add(Dropout(0.3))\n",
    "\n",
    "  model.add(Flatten())\n",
    "  model.add(BatchNormalization())\n",
    "  model.add(Dense(50, activation='relu', kernel_regularizer=l2(0.01)))\n",
    "  model.add(BatchNormalization())\n",
    "  model.add(Dropout(0.3))\n",
    "  model.add(Dense(1, activation='sigmoid'))\n",
    "\n",
    "  return model"
   ]
  },
  {
   "cell_type": "code",
   "execution_count": 17,
   "metadata": {},
   "outputs": [
    {
     "name": "stdout",
     "output_type": "stream",
     "text": [
      "Model: \"sequential\"\n",
      "_________________________________________________________________\n",
      " Layer (type)                Output Shape              Param #   \n",
      "=================================================================\n",
      " rescaling (Rescaling)       (None, 224, 224, 3)       0         \n",
      "                                                                 \n",
      " conv2d (Conv2D)             (None, 224, 224, 32)      896       \n",
      "                                                                 \n",
      " batch_normalization (Batch  (None, 224, 224, 32)      128       \n",
      " Normalization)                                                  \n",
      "                                                                 \n",
      " dropout (Dropout)           (None, 224, 224, 32)      0         \n",
      "                                                                 \n",
      " conv2d_1 (Conv2D)           (None, 224, 224, 32)      9248      \n",
      "                                                                 \n",
      " max_pooling2d (MaxPooling2  (None, 112, 112, 32)      0         \n",
      " D)                                                              \n",
      "                                                                 \n",
      " batch_normalization_1 (Bat  (None, 112, 112, 32)      128       \n",
      " chNormalization)                                                \n",
      "                                                                 \n",
      " dropout_1 (Dropout)         (None, 112, 112, 32)      0         \n",
      "                                                                 \n",
      " flatten (Flatten)           (None, 401408)            0         \n",
      "                                                                 \n",
      " batch_normalization_2 (Bat  (None, 401408)            1605632   \n",
      " chNormalization)                                                \n",
      "                                                                 \n",
      " dense (Dense)               (None, 50)                20070450  \n",
      "                                                                 \n",
      " batch_normalization_3 (Bat  (None, 50)                200       \n",
      " chNormalization)                                                \n",
      "                                                                 \n",
      " dropout_2 (Dropout)         (None, 50)                0         \n",
      "                                                                 \n",
      " dense_1 (Dense)             (None, 1)                 51        \n",
      "                                                                 \n",
      "=================================================================\n",
      "Total params: 21686733 (82.73 MB)\n",
      "Trainable params: 20883689 (79.66 MB)\n",
      "Non-trainable params: 803044 (3.06 MB)\n",
      "_________________________________________________________________\n",
      "Epoch 1/10\n",
      "38/38 [==============================] - 187s 5s/step - loss: 1.1986 - accuracy: 0.9233 - val_loss: 1.6756 - val_accuracy: 0.5000 - lr: 1.0000e-04\n",
      "Epoch 2/10\n",
      "38/38 [==============================] - 177s 5s/step - loss: 0.8962 - accuracy: 0.9946 - val_loss: 1.7544 - val_accuracy: 0.5000 - lr: 1.0000e-04\n",
      "Epoch 3/10\n",
      "38/38 [==============================] - 174s 5s/step - loss: 0.7379 - accuracy: 0.9992 - val_loss: 1.7866 - val_accuracy: 0.5000 - lr: 1.0000e-04\n",
      "Epoch 4/10\n",
      "38/38 [==============================] - 170s 4s/step - loss: 0.6187 - accuracy: 0.9992 - val_loss: 1.7241 - val_accuracy: 0.5000 - lr: 1.0000e-04\n",
      "Epoch 5/10\n",
      "38/38 [==============================] - 169s 4s/step - loss: 0.5199 - accuracy: 1.0000 - val_loss: 1.6958 - val_accuracy: 0.5000 - lr: 1.0000e-04\n",
      "Epoch 6/10\n",
      "38/38 [==============================] - 173s 5s/step - loss: 0.4374 - accuracy: 1.0000 - val_loss: 1.5988 - val_accuracy: 0.5000 - lr: 1.0000e-04\n"
     ]
    }
   ],
   "source": [
    "model = build_model_scratch()\n",
    "model.summary()\n",
    "model.compile(optimizer=Adam(learning_rate=0.0001, beta_1=0.9, beta_2=0.999),\n",
    "                loss='binary_crossentropy',\n",
    "                metrics=['accuracy'])\n",
    "\n",
    "history = model.fit(trainSet, epochs=10, validation_data=valSet, verbose=1,\n",
    "                    callbacks=[early_stopping_cb,model_checkpoint_cb2,reduce_lr_cb])\n",
    "\n",
    "# history = model.fit(trainSet, epochs=10, validation_data=valSet, verbose=1)"
   ]
  },
  {
   "cell_type": "code",
   "execution_count": 18,
   "metadata": {},
   "outputs": [
    {
     "data": {
      "image/png": "[encoded data removed]",
      "text/plain": [
       "<Figure size 1400x600 with 2 Axes>"
      ]
     },
     "metadata": {},
     "output_type": "display_data"
    }
   ],
   "source": [
    "def plot_training_history(history):\n",
    "    acc = history.history['accuracy']\n",
    "    val_acc = history.history['val_accuracy']\n",
    "    loss = history.history['loss']\n",
    "    val_loss = history.history['val_loss']\n",
    "    epochs_range = range(len(acc))\n",
    "    \n",
    "    plt.figure(figsize=(14, 6))\n",
    "    plt.subplot(1, 2, 1)\n",
    "    plt.plot(epochs_range, acc, label='Training Accuracy')\n",
    "    plt.plot(epochs_range, val_acc, label='Validation Accuracy')\n",
    "    plt.legend(loc='lower right')\n",
    "    plt.title('Training and Validation Accuracy')\n",
    "    \n",
    "    plt.subplot(1, 2, 2)\n",
    "    plt.plot(epochs_range, loss, label='Training Loss')\n",
    "    plt.plot(epochs_range, val_loss, label='Validation Loss')\n",
    "    plt.legend(loc='upper right')\n",
    "    plt.title('Training and Validation Loss')\n",
    "    plt.show()\n",
    "\n",
    "plot_training_history(history)"
   ]
  },
  {
   "cell_type": "code",
   "execution_count": 19,
   "metadata": {},
   "outputs": [
    {
     "name": "stdout",
     "output_type": "stream",
     "text": [
      "13/13 [==============================] - 9s 533ms/step - loss: 1.6799 - accuracy: 0.5000\n",
      "test_oss: 1.6798691749572754\n",
      "test_acc: 0.5\n"
     ]
    }
   ],
   "source": [
    "# test set\n",
    "loss, acc = model.evaluate(testSet)\n",
    "print('test_oss:', loss)\n",
    "print('test_acc:', acc)"
   ]
  },
  {
   "cell_type": "code",
   "execution_count": 77,
   "metadata": {},
   "outputs": [],
   "source": [
    "def build_model_scratch2():\n",
    "  model = Sequential()\n",
    "  model.add(Input((224,224,3)))\n",
    "  model.add(Rescaling(1./255)) # normalize colors pixcel from 0 = black, 255 = white --> length 0-1\n",
    "  \n",
    "  model.add(Conv2D(filters=32,kernel_size=3,padding='same',activation='relu', kernel_regularizer=l2(0.001)))\n",
    "  model.add(MaxPooling2D(pool_size=2))\n",
    "  model.add(BatchNormalization())\n",
    "  model.add(Dropout(0.6))\n",
    "\n",
    "  model.add(Flatten())\n",
    "  model.add(BatchNormalization())\n",
    "  model.add(Dense(50, activation='relu', kernel_regularizer=l2(0.001))) # --> change to LeakyReLU\n",
    "  model.add(BatchNormalization())\n",
    "  model.add(Dropout(0.6))\n",
    "  model.add(Dense(1, activation='sigmoid'))\n",
    "\n",
    "  return model"
   ]
  },
  {
   "cell_type": "code",
   "execution_count": 78,
   "metadata": {},
   "outputs": [
    {
     "name": "stdout",
     "output_type": "stream",
     "text": [
      "Model: \"sequential_1\"\n",
      "_________________________________________________________________\n",
      " Layer (type)                Output Shape              Param #   \n",
      "=================================================================\n",
      " rescaling_1 (Rescaling)     (None, 224, 224, 3)       0         \n",
      "                                                                 \n",
      " conv2d_1 (Conv2D)           (None, 224, 224, 32)      896       \n",
      "                                                                 \n",
      " max_pooling2d_1 (MaxPoolin  (None, 112, 112, 32)      0         \n",
      " g2D)                                                            \n",
      "                                                                 \n",
      " batch_normalization_1 (Bat  (None, 112, 112, 32)      128       \n",
      " chNormalization)                                                \n",
      "                                                                 \n",
      " dropout_2 (Dropout)         (None, 112, 112, 32)      0         \n",
      "                                                                 \n",
      " flatten_1 (Flatten)         (None, 401408)            0         \n",
      "                                                                 \n",
      " batch_normalization_2 (Bat  (None, 401408)            1605632   \n",
      " chNormalization)                                                \n",
      "                                                                 \n",
      " dense_2 (Dense)             (None, 50)                20070450  \n",
      "                                                                 \n",
      " batch_normalization_3 (Bat  (None, 50)                200       \n",
      " chNormalization)                                                \n",
      "                                                                 \n",
      " dropout_3 (Dropout)         (None, 50)                0         \n",
      "                                                                 \n",
      " dense_3 (Dense)             (None, 1)                 51        \n",
      "                                                                 \n",
      "=================================================================\n",
      "Total params: 21677357 (82.69 MB)\n",
      "Trainable params: 20874377 (79.63 MB)\n",
      "Non-trainable params: 802980 (3.06 MB)\n",
      "_________________________________________________________________\n",
      "Epoch 1/10\n",
      "75/75 [==============================] - 77s 997ms/step - loss: 0.2521 - accuracy: 0.9471 - val_loss: 1.6023 - val_accuracy: 0.5000 - lr: 1.0000e-04\n",
      "Epoch 2/10\n",
      "75/75 [==============================] - 74s 977ms/step - loss: 0.1512 - accuracy: 0.9871 - val_loss: 2.0652 - val_accuracy: 0.5000 - lr: 1.0000e-04\n",
      "Epoch 3/10\n",
      "75/75 [==============================] - 75s 994ms/step - loss: 0.1251 - accuracy: 0.9954 - val_loss: 1.8228 - val_accuracy: 0.5000 - lr: 1.0000e-04\n",
      "Epoch 4/10\n",
      "75/75 [==============================] - 76s 1s/step - loss: 0.1096 - accuracy: 0.9992 - val_loss: 1.5740 - val_accuracy: 0.5000 - lr: 1.0000e-04\n",
      "Epoch 5/10\n",
      "75/75 [==============================] - 76s 1s/step - loss: 0.1101 - accuracy: 0.9971 - val_loss: 1.0648 - val_accuracy: 0.5063 - lr: 1.0000e-04\n",
      "Epoch 6/10\n",
      "75/75 [==============================] - 74s 981ms/step - loss: 0.1030 - accuracy: 0.9996 - val_loss: 0.4947 - val_accuracy: 0.7625 - lr: 1.0000e-04\n",
      "Epoch 7/10\n",
      "75/75 [==============================] - 75s 986ms/step - loss: 0.0956 - accuracy: 1.0000 - val_loss: 0.2380 - val_accuracy: 0.9575 - lr: 1.0000e-04\n",
      "Epoch 8/10\n",
      "75/75 [==============================] - 77s 1s/step - loss: 0.0908 - accuracy: 1.0000 - val_loss: 0.1518 - val_accuracy: 0.9937 - lr: 1.0000e-04\n",
      "Epoch 9/10\n",
      "75/75 [==============================] - 73s 967ms/step - loss: 0.0903 - accuracy: 0.9992 - val_loss: 0.1407 - val_accuracy: 0.9887 - lr: 1.0000e-04\n",
      "Epoch 10/10\n",
      "75/75 [==============================] - 71s 938ms/step - loss: 0.0865 - accuracy: 1.0000 - val_loss: 0.1417 - val_accuracy: 0.9775 - lr: 1.0000e-04\n"
     ]
    }
   ],
   "source": [
    "model = build_model_scratch2()\n",
    "model.summary()\n",
    "model.compile(optimizer=Adam(learning_rate=0.0001, beta_1=0.9, beta_2=0.999),\n",
    "                loss='binary_crossentropy',\n",
    "                metrics=['accuracy'])\n",
    "\n",
    "history = model.fit(trainSet, epochs=10, validation_data=valSet, verbose=1,\n",
    "                    callbacks=[early_stopping_cb,model_checkpoint_cb2,reduce_lr_cb])\n",
    "\n",
    "# history = model.fit(trainSet, epochs=10, validation_data=valSet, verbose=1)"
   ]
  },
  {
   "cell_type": "code",
   "execution_count": 79,
   "metadata": {},
   "outputs": [
    {
     "data": {
      "image/png": "[encoded data removed]",
      "text/plain": [
       "<Figure size 1400x600 with 2 Axes>"
      ]
     },
     "metadata": {},
     "output_type": "display_data"
    }
   ],
   "source": [
    "def plot_training_history(history):\n",
    "    acc = history.history['accuracy']\n",
    "    val_acc = history.history['val_accuracy']\n",
    "    loss = history.history['loss']\n",
    "    val_loss = history.history['val_loss']\n",
    "    epochs_range = range(len(acc))\n",
    "    \n",
    "    plt.figure(figsize=(14, 6))\n",
    "    plt.subplot(1, 2, 1)\n",
    "    plt.plot(epochs_range, acc, label='Training Accuracy')\n",
    "    plt.plot(epochs_range, val_acc, label='Validation Accuracy')\n",
    "    plt.legend(loc='lower right')\n",
    "    plt.title('Training and Validation Accuracy')\n",
    "    \n",
    "    plt.subplot(1, 2, 2)\n",
    "    plt.plot(epochs_range, loss, label='Training Loss')\n",
    "    plt.plot(epochs_range, val_loss, label='Validation Loss')\n",
    "    plt.legend(loc='upper right')\n",
    "    plt.title('Training and Validation Loss')\n",
    "    plt.show()\n",
    "\n",
    "plot_training_history(history)"
   ]
  },
  {
   "cell_type": "code",
   "execution_count": 31,
   "metadata": {},
   "outputs": [
    {
     "name": "stdout",
     "output_type": "stream",
     "text": [
      "25/25 [==============================] - 5s 173ms/step - loss: 0.3541 - accuracy: 0.8838\n",
      "test_oss: 0.3540739417076111\n",
      "test_acc: 0.8837500214576721\n"
     ]
    }
   ],
   "source": [
    "# test set\n",
    "loss, acc = model.evaluate(testSet)\n",
    "print('test_oss:', loss)\n",
    "print('test_acc:', acc)"
   ]
  },
  {
   "cell_type": "code",
   "execution_count": 12,
   "metadata": {},
   "outputs": [
    {
     "name": "stdout",
     "output_type": "stream",
     "text": [
      "Requirement already satisfied: keras-tuner in c:\\users\\jeant\\appdata\\local\\programs\\python\\python310\\lib\\site-packages (1.4.7)\n",
      "Requirement already satisfied: keras in c:\\users\\jeant\\appdata\\local\\programs\\python\\python310\\lib\\site-packages (from keras-tuner) (2.13.1)\n",
      "Requirement already satisfied: packaging in c:\\users\\jeant\\appdata\\local\\programs\\python\\python310\\lib\\site-packages (from keras-tuner) (21.3)\n",
      "Requirement already satisfied: requests in c:\\users\\jeant\\appdata\\local\\programs\\python\\python310\\lib\\site-packages (from keras-tuner) (2.28.2)\n",
      "Requirement already satisfied: kt-legacy in c:\\users\\jeant\\appdata\\local\\programs\\python\\python310\\lib\\site-packages (from keras-tuner) (1.0.5)\n",
      "Requirement already satisfied: pyparsing!=3.0.5,>=2.0.2 in c:\\users\\jeant\\appdata\\local\\programs\\python\\python310\\lib\\site-packages (from packaging->keras-tuner) (3.0.9)\n",
      "Requirement already satisfied: charset-normalizer<4,>=2 in c:\\users\\jeant\\appdata\\local\\programs\\python\\python310\\lib\\site-packages (from requests->keras-tuner) (3.1.0)\n",
      "Requirement already satisfied: idna<4,>=2.5 in c:\\users\\jeant\\appdata\\local\\programs\\python\\python310\\lib\\site-packages (from requests->keras-tuner) (3.4)\n",
      "Requirement already satisfied: urllib3<1.27,>=1.21.1 in c:\\users\\jeant\\appdata\\local\\programs\\python\\python310\\lib\\site-packages (from requests->keras-tuner) (1.26.15)\n",
      "Requirement already satisfied: certifi>=2017.4.17 in c:\\users\\jeant\\appdata\\local\\programs\\python\\python310\\lib\\site-packages (from requests->keras-tuner) (2022.12.7)\n",
      "Note: you may need to restart the kernel to use updated packages.\n"
     ]
    }
   ],
   "source": [
    "pip install keras-tuner"
   ]
  },
  {
   "cell_type": "code",
   "execution_count": 20,
   "metadata": {},
   "outputs": [
    {
     "name": "stderr",
     "output_type": "stream",
     "text": [
      "C:\\Users\\jeant\\AppData\\Local\\Temp\\ipykernel_28528\\1895665112.py:1: DeprecationWarning: `import kerastuner` is deprecated, please use `import keras_tuner`.\n",
      "  import kerastuner as kt\n"
     ]
    }
   ],
   "source": [
    "import kerastuner as kt\n",
    "from tensorflow import keras\n",
    "from keras_tuner import BayesianOptimization"
   ]
  },
  {
   "cell_type": "code",
   "execution_count": 21,
   "metadata": {},
   "outputs": [],
   "source": [
    "def build_model_scratch_RandomSearch(hp):\n",
    "    model = Sequential()\n",
    "    model.add(Rescaling(1./255))\n",
    "    model.add(Conv2D(\n",
    "            filters=hp.Int('conv_filters', min_value=32, max_value=256, step=32),\n",
    "            kernel_size=hp.Choice('conv_kernel_size', values=[3, 5]),\n",
    "            activation='relu',\n",
    "            input_shape=(224, 224, 3),\n",
    "            kernel_regularizer=l2(0.001) \n",
    "        ))\n",
    "    model.add(BatchNormalization())\n",
    "    model.add(MaxPooling2D(pool_size=(2,2)))\n",
    "    model.add(Flatten())\n",
    "    model.add(Dense(\n",
    "            units=hp.Int('dense_units', min_value=32, max_value=128, step=32),\n",
    "            activation='relu',\n",
    "            kernel_regularizer=l2(0.001)\n",
    "        ))\n",
    "    model.add(Dense(1, activation='sigmoid'))\n",
    "    \n",
    "  \n",
    "    model.compile(optimizer=Adam(hp.Float('learning_rate', min_value=1e-4, max_value=1e-2, sampling='LOG')),\n",
    "                  loss='binary_crossentropy',\n",
    "                  metrics=['accuracy'])\n",
    "  \n",
    "    return model"
   ]
  },
  {
   "cell_type": "code",
   "execution_count": 19,
   "metadata": {},
   "outputs": [
    {
     "name": "stdout",
     "output_type": "stream",
     "text": [
      "Trial 4 Complete [01h 08m 04s]\n",
      "val_accuracy: 0.9470833341280619\n",
      "\n",
      "Best val_accuracy So Far: 0.95291668176651\n",
      "Total elapsed time: 08h 04m 46s\n",
      "\n",
      "Search: Running Trial #5\n",
      "\n",
      "Value             |Best Value So Far |Hyperparameter\n",
      "256               |64                |conv_filters\n",
      "5                 |5                 |conv_kernel_size\n",
      "128               |96                |dense_units\n",
      "0.00022866        |0.00061208        |learning_rate\n",
      "\n",
      "Epoch 1/10\n",
      " 2/75 [..............................] - ETA: 43:53 - loss: 28.0832 - accuracy: 0.5781 "
     ]
    }
   ],
   "source": [
    "tuner = BayesianOptimization(\n",
    "    build_model_scratch_RandomSearch,\n",
    "    objective='val_accuracy',\n",
    "    max_trials=10,  # Adjust based on computational resources\n",
    "    executions_per_trial=3,  # How many models to train for each trial\n",
    ")\n",
    "\n",
    "# Start the search for the best hyperparameter configuration.\n",
    "tuner.search(trainSet, epochs=10, validation_data=valSet, callbacks=[early_stopping_cb])\n",
    "\n",
    "# Retrieve the best model.\n",
    "best_model = tuner.get_best_models(num_models=1)[0]\n",
    "\n",
    "# Display the model's architecture\n",
    "best_model.summary()"
   ]
  },
  {
   "cell_type": "code",
   "execution_count": 22,
   "metadata": {},
   "outputs": [],
   "source": [
    "def build_model_scratch_RandomSearch2(hp):\n",
    "    model = Sequential()\n",
    "    model.add(Rescaling(1./255))\n",
    "    model.add(Conv2D(\n",
    "            filters=hp.Int('conv_filters', min_value=32, max_value=256, step=32),\n",
    "            kernel_size=hp.Choice('conv_kernel_size', values=[3, 5]),\n",
    "            activation='relu',\n",
    "            input_shape=(224, 224, 3),\n",
    "            kernel_regularizer=l2(0.001) \n",
    "        ))\n",
    "    model.add(MaxPooling2D(pool_size=hp.Choice('pool_size', values =[2, 4])))\n",
    "    model.add(BatchNormalization())\n",
    "    model.add(Dropout(0.6))\n",
    "    model.add(Flatten())\n",
    "    model.add(Dense(\n",
    "            units=hp.Int('dense_units', min_value=32, max_value=128, step=32),\n",
    "            activation='relu',\n",
    "            kernel_regularizer=l2(0.001)\n",
    "        ))\n",
    "    model.add(Dropout(0.6))\n",
    "    model.add(Dense(1, activation='sigmoid'))\n",
    "    \n",
    "  \n",
    "    model.compile(optimizer=Adam(hp.Float('learning_rate', min_value=1e-4, max_value=1e-2, sampling='LOG')),\n",
    "                  loss='binary_crossentropy',\n",
    "                  metrics=['accuracy'])\n",
    "  \n",
    "    return model"
   ]
  },
  {
   "cell_type": "code",
   "execution_count": 17,
   "metadata": {},
   "outputs": [
    {
     "name": "stdout",
     "output_type": "stream",
     "text": [
      "Trial 5 Complete [02h 05m 05s]\n",
      "val_accuracy: 0.9518750011920929\n",
      "\n",
      "Best val_accuracy So Far: 0.9518750011920929\n",
      "Total elapsed time: 07h 12m 24s\n"
     ]
    },
    {
     "ename": "ValueError",
     "evalue": "This model has not yet been built. Build the model first by calling `build()` or by calling the model on a batch of data.",
     "output_type": "error",
     "traceback": [
      "\u001b[1;31m---------------------------------------------------------------------------\u001b[0m",
      "\u001b[1;31mValueError\u001b[0m                                Traceback (most recent call last)",
      "Cell \u001b[1;32mIn[17], line 16\u001b[0m\n\u001b[0;32m     13\u001b[0m best_model \u001b[38;5;241m=\u001b[39m tuner\u001b[38;5;241m.\u001b[39mget_best_models(num_models\u001b[38;5;241m=\u001b[39m\u001b[38;5;241m1\u001b[39m)[\u001b[38;5;241m0\u001b[39m]\n\u001b[0;32m     15\u001b[0m \u001b[38;5;66;03m# Display the model's architecture\u001b[39;00m\n\u001b[1;32m---> 16\u001b[0m \u001b[43mbest_model\u001b[49m\u001b[38;5;241;43m.\u001b[39;49m\u001b[43msummary\u001b[49m\u001b[43m(\u001b[49m\u001b[43m)\u001b[49m\n",
      "File \u001b[1;32mc:\\Users\\jeant\\AppData\\Local\\Programs\\Python\\Python310\\lib\\site-packages\\keras\\src\\engine\\training.py:3403\u001b[0m, in \u001b[0;36mModel.summary\u001b[1;34m(self, line_length, positions, print_fn, expand_nested, show_trainable, layer_range)\u001b[0m\n\u001b[0;32m   3372\u001b[0m \u001b[38;5;250m\u001b[39m\u001b[38;5;124;03m\"\"\"Prints a string summary of the network.\u001b[39;00m\n\u001b[0;32m   3373\u001b[0m \n\u001b[0;32m   3374\u001b[0m \u001b[38;5;124;03mArgs:\u001b[39;00m\n\u001b[1;32m   (...)\u001b[0m\n\u001b[0;32m   3400\u001b[0m \u001b[38;5;124;03m    ValueError: if `summary()` is called before the model is built.\u001b[39;00m\n\u001b[0;32m   3401\u001b[0m \u001b[38;5;124;03m\"\"\"\u001b[39;00m\n\u001b[0;32m   3402\u001b[0m \u001b[38;5;28;01mif\u001b[39;00m \u001b[38;5;129;01mnot\u001b[39;00m \u001b[38;5;28mself\u001b[39m\u001b[38;5;241m.\u001b[39mbuilt:\n\u001b[1;32m-> 3403\u001b[0m     \u001b[38;5;28;01mraise\u001b[39;00m \u001b[38;5;167;01mValueError\u001b[39;00m(\n\u001b[0;32m   3404\u001b[0m         \u001b[38;5;124m\"\u001b[39m\u001b[38;5;124mThis model has not yet been built. \u001b[39m\u001b[38;5;124m\"\u001b[39m\n\u001b[0;32m   3405\u001b[0m         \u001b[38;5;124m\"\u001b[39m\u001b[38;5;124mBuild the model first by calling `build()` or by calling \u001b[39m\u001b[38;5;124m\"\u001b[39m\n\u001b[0;32m   3406\u001b[0m         \u001b[38;5;124m\"\u001b[39m\u001b[38;5;124mthe model on a batch of data.\u001b[39m\u001b[38;5;124m\"\u001b[39m\n\u001b[0;32m   3407\u001b[0m     )\n\u001b[0;32m   3408\u001b[0m layer_utils\u001b[38;5;241m.\u001b[39mprint_summary(\n\u001b[0;32m   3409\u001b[0m     \u001b[38;5;28mself\u001b[39m,\n\u001b[0;32m   3410\u001b[0m     line_length\u001b[38;5;241m=\u001b[39mline_length,\n\u001b[1;32m   (...)\u001b[0m\n\u001b[0;32m   3415\u001b[0m     layer_range\u001b[38;5;241m=\u001b[39mlayer_range,\n\u001b[0;32m   3416\u001b[0m )\n",
      "\u001b[1;31mValueError\u001b[0m: This model has not yet been built. Build the model first by calling `build()` or by calling the model on a batch of data."
     ]
    }
   ],
   "source": [
    "tuner = BayesianOptimization(\n",
    "    build_model_scratch_RandomSearch2,\n",
    "    objective='val_accuracy',\n",
    "    max_trials=5,  # Adjust based on computational resources\n",
    "    executions_per_trial=2,  # How many models to train for each trial\n",
    ")\n",
    "\n",
    "# Start the search for the best hyperparameter configuration.\n",
    "tuner.search(trainSet, epochs=10, validation_data=valSet)\n",
    "# tuner.search(trainSet, epochs=10, validation_data=valSet, callbacks=[early_stopping_cb])"
   ]
  },
  {
   "cell_type": "code",
   "execution_count": 30,
   "metadata": {},
   "outputs": [
    {
     "name": "stdout",
     "output_type": "stream",
     "text": [
      "Reloading Tuner from .\\untitled_project\\tuner0.json\n"
     ]
    }
   ],
   "source": [
    "tuner = BayesianOptimization(\n",
    "    build_model_scratch_RandomSearch2,\n",
    "    objective='val_accuracy',\n",
    "    max_trials=5,  # Adjust based on computational resources\n",
    "    executions_per_trial=2,  # How many models to train for each trial\n",
    ")"
   ]
  },
  {
   "cell_type": "code",
   "execution_count": 31,
   "metadata": {},
   "outputs": [
    {
     "name": "stdout",
     "output_type": "stream",
     "text": [
      "Model: \"sequential\"\n",
      "_________________________________________________________________\n",
      " Layer (type)                Output Shape              Param #   \n",
      "=================================================================\n",
      " rescaling (Rescaling)       (None, 224, 224, 3)       0         \n",
      "                                                                 \n",
      " conv2d (Conv2D)             (None, 222, 222, 256)     7168      \n",
      "                                                                 \n",
      " max_pooling2d (MaxPooling2  (None, 55, 55, 256)       0         \n",
      " D)                                                              \n",
      "                                                                 \n",
      " batch_normalization (Batch  (None, 55, 55, 256)       1024      \n",
      " Normalization)                                                  \n",
      "                                                                 \n",
      " dropout (Dropout)           (None, 55, 55, 256)       0         \n",
      "                                                                 \n",
      " flatten (Flatten)           (None, 774400)            0         \n",
      "                                                                 \n",
      " dense (Dense)               (None, 128)               99123328  \n",
      "                                                                 \n",
      " dropout_1 (Dropout)         (None, 128)               0         \n",
      "                                                                 \n",
      " dense_1 (Dense)             (None, 1)                 129       \n",
      "                                                                 \n",
      "=================================================================\n",
      "Total params: 99131649 (378.16 MB)\n",
      "Trainable params: 99131137 (378.16 MB)\n",
      "Non-trainable params: 512 (2.00 KB)\n",
      "_________________________________________________________________\n"
     ]
    }
   ],
   "source": [
    "best_hps = tuner.get_best_hyperparameters()[0]\n",
    "\n",
    "# Re-build the model with the best hyperparameters\n",
    "best_model = build_model_scratch_RandomSearch2(best_hps)\n",
    "\n",
    "best_model.build((None, 224, 224, 3))  # `None` is for the batch size which can be variable\n",
    "\n",
    "best_model.summary()"
   ]
  },
  {
   "cell_type": "code",
   "execution_count": 32,
   "metadata": {},
   "outputs": [
    {
     "name": "stdout",
     "output_type": "stream",
     "text": [
      "conv_filters: 256\n",
      "conv_kernel_size: 3\n",
      "dense_units: 128\n",
      "learning_rate: 0.0007022578158084675\n"
     ]
    }
   ],
   "source": [
    "for hyperparameter in ['conv_filters', 'conv_kernel_size', 'dense_units', 'learning_rate']:\n",
    "    print(f\"{hyperparameter}: {best_hps.get(hyperparameter)}\")"
   ]
  },
  {
   "cell_type": "code",
   "execution_count": 35,
   "metadata": {},
   "outputs": [
    {
     "name": "stdout",
     "output_type": "stream",
     "text": [
      "Epoch 1/10\n"
     ]
    },
    {
     "name": "stdout",
     "output_type": "stream",
     "text": [
      "75/75 [==============================] - 265s 3s/step - loss: 2.5364 - accuracy: 0.9408 - val_loss: 2.1944 - val_accuracy: 0.6988 - lr: 7.0226e-04\n",
      "Epoch 2/10\n",
      "75/75 [==============================] - 257s 3s/step - loss: 1.4385 - accuracy: 0.9942 - val_loss: 1.4947 - val_accuracy: 0.9200 - lr: 7.0226e-04\n",
      "Epoch 3/10\n",
      "75/75 [==============================] - 253s 3s/step - loss: 1.1120 - accuracy: 0.9975 - val_loss: 1.1787 - val_accuracy: 0.9212 - lr: 7.0226e-04\n",
      "Epoch 4/10\n",
      "75/75 [==============================] - 258s 3s/step - loss: 0.9600 - accuracy: 0.9946 - val_loss: 1.0299 - val_accuracy: 0.9375 - lr: 7.0226e-04\n",
      "Epoch 5/10\n",
      "75/75 [==============================] - 256s 3s/step - loss: 0.8287 - accuracy: 0.9954 - val_loss: 0.9571 - val_accuracy: 0.9150 - lr: 7.0226e-04\n",
      "Epoch 6/10\n",
      "75/75 [==============================] - 248s 3s/step - loss: 0.8892 - accuracy: 0.9871 - val_loss: 1.3954 - val_accuracy: 0.8575 - lr: 7.0226e-04\n",
      "Epoch 7/10\n",
      "75/75 [==============================] - 245s 3s/step - loss: 1.0840 - accuracy: 0.9892 - val_loss: 1.0710 - val_accuracy: 0.9900 - lr: 7.0226e-04\n",
      "Epoch 8/10\n",
      "75/75 [==============================] - 242s 3s/step - loss: 1.0690 - accuracy: 0.9921 - val_loss: 1.9954 - val_accuracy: 0.8537 - lr: 7.0226e-04\n",
      "Epoch 9/10\n",
      "75/75 [==============================] - 237s 3s/step - loss: 1.1291 - accuracy: 0.9912 - val_loss: 1.5896 - val_accuracy: 0.9237 - lr: 7.0226e-04\n",
      "Epoch 10/10\n",
      "75/75 [==============================] - 238s 3s/step - loss: 1.0485 - accuracy: 0.9946 - val_loss: 2.9577 - val_accuracy: 0.8650 - lr: 7.0226e-04\n"
     ]
    }
   ],
   "source": [
    "history_tuning = best_model.fit(trainSet, epochs=10, validation_data=valSet, verbose=1,\n",
    "                    callbacks=[early_stopping_cb,model_checkpoint_cb2,reduce_lr_cb])"
   ]
  },
  {
   "cell_type": "code",
   "execution_count": 89,
   "metadata": {},
   "outputs": [
    {
     "name": "stdout",
     "output_type": "stream",
     "text": [
      "25/25 [==============================] - 18s 709ms/step - loss: 4.5464 - accuracy: 0.7387\n",
      "test_acc: 0.7387499809265137\n"
     ]
    }
   ],
   "source": [
    "loss, acc = best_model.evaluate(testSet)\n",
    "print('test_acc:', acc)"
   ]
  },
  {
   "cell_type": "code",
   "execution_count": 85,
   "metadata": {},
   "outputs": [
    {
     "name": "stdout",
     "output_type": "stream",
     "text": [
      "13/13 [==============================] - 3s 146ms/step - loss: 0.1628 - accuracy: 0.9625\n",
      "test_acc: 0.9624999761581421\n"
     ]
    }
   ],
   "source": [
    "loss, acc = model.evaluate(maleSet)\n",
    "print('test_acc:', acc)"
   ]
  },
  {
   "cell_type": "code",
   "execution_count": 88,
   "metadata": {},
   "outputs": [
    {
     "name": "stdout",
     "output_type": "stream",
     "text": [
      "13/13 [==============================] - 11s 749ms/step - loss: 1.1666 - accuracy: 0.9625\n",
      "test_acc: 0.9624999761581421\n"
     ]
    }
   ],
   "source": [
    "loss, acc = best_model.evaluate(femaleSet)\n",
    "print('test_acc:', acc)"
   ]
  },
  {
   "cell_type": "code",
   "execution_count": 47,
   "metadata": {},
   "outputs": [
    {
     "name": "stdout",
     "output_type": "stream",
     "text": [
      "25/25 [==============================] - 17s 645ms/step\n"
     ]
    }
   ],
   "source": [
    "predictions = best_model.predict(testSet)\n",
    "acClass = []\n",
    "for x, labels in testSet:\n",
    "    acClass.extend(labels)\n",
    "\n",
    "for i in range(len(predictions)):\n",
    "    predicted_class = np.argmax(predictions[i])\n",
    "    actual_class = acClass[i]\n",
    "    probability_scores = predictions[i]"
   ]
  },
  {
   "cell_type": "code",
   "execution_count": 40,
   "metadata": {},
   "outputs": [
    {
     "data": {
      "image/png": "[encoded data removed]",
      "text/plain": [
       "<Figure size 800x800 with 1 Axes>"
      ]
     },
     "metadata": {},
     "output_type": "display_data"
    }
   ],
   "source": [
    "fpr, tpr, _ = roc_curve(acClass, predictions)\n",
    "roc_auc = auc(fpr, tpr)\n",
    "\n",
    "plt.figure(figsize=(8, 8))\n",
    "plt.plot(fpr, tpr, color='darkorange', lw=2, label='ROC curve (area = {:.2f})'.format(roc_auc))\n",
    "plt.plot([0, 1], [0, 1], color='navy', lw=2, linestyle='--')\n",
    "plt.xlim([0.0, 1.0])\n",
    "plt.ylim([0.0, 1.05])\n",
    "plt.xlabel('False Positive Rate')\n",
    "plt.ylabel('True Positive Rate')\n",
    "plt.title('Receiver Operating Characteristic (ROC) Curve')\n",
    "plt.legend(loc=\"lower right\")\n",
    "plt.show()"
   ]
  },
  {
   "cell_type": "code",
   "execution_count": 27,
   "metadata": {},
   "outputs": [],
   "source": [
    "import seaborn as sns\n",
    "from sklearn.metrics import confusion_matrix\n",
    "from sklearn.metrics import classification_report\n",
    "import seaborn as sns"
   ]
  },
  {
   "cell_type": "code",
   "execution_count": 81,
   "metadata": {},
   "outputs": [
    {
     "name": "stdout",
     "output_type": "stream",
     "text": [
      "1/1 [==============================] - 0s 228ms/step\n",
      "1/1 [==============================] - 0s 199ms/step\n",
      "1/1 [==============================] - 0s 199ms/step\n",
      "1/1 [==============================] - 0s 168ms/step\n",
      "1/1 [==============================] - 0s 185ms/step\n",
      "1/1 [==============================] - 0s 190ms/step\n",
      "1/1 [==============================] - 0s 176ms/step\n",
      "1/1 [==============================] - 0s 184ms/step\n",
      "1/1 [==============================] - 0s 189ms/step\n",
      "1/1 [==============================] - 0s 179ms/step\n",
      "1/1 [==============================] - 0s 177ms/step\n",
      "1/1 [==============================] - 0s 172ms/step\n",
      "1/1 [==============================] - 0s 161ms/step\n",
      "1/1 [==============================] - 0s 175ms/step\n",
      "1/1 [==============================] - 0s 151ms/step\n",
      "1/1 [==============================] - 0s 143ms/step\n",
      "1/1 [==============================] - 0s 140ms/step\n",
      "1/1 [==============================] - 0s 145ms/step\n",
      "1/1 [==============================] - 0s 146ms/step\n",
      "1/1 [==============================] - 0s 133ms/step\n",
      "1/1 [==============================] - 0s 129ms/step\n",
      "1/1 [==============================] - 0s 129ms/step\n",
      "1/1 [==============================] - 0s 125ms/step\n",
      "1/1 [==============================] - 0s 121ms/step\n",
      "1/1 [==============================] - 0s 125ms/step\n"
     ]
    }
   ],
   "source": [
    "test_predictions = []\n",
    "test_labels = []\n",
    "\n",
    "for images, labels in testSet:\n",
    "    batch_predictions = model.predict(images)\n",
    "    batch_predictions = (batch_predictions > 0.5).astype('int32')\n",
    "    test_predictions.extend(batch_predictions)\n",
    "    test_labels.extend(labels.numpy())\n",
    "\n",
    "test_predictions = np.array(test_predictions)\n",
    "test_labels = np.array(test_labels)"
   ]
  },
  {
   "cell_type": "code",
   "execution_count": 82,
   "metadata": {},
   "outputs": [
    {
     "data": {
      "image/png": "[encoded data removed]",
      "text/plain": [
       "<Figure size 800x600 with 2 Axes>"
      ]
     },
     "metadata": {},
     "output_type": "display_data"
    }
   ],
   "source": [
    "cm = confusion_matrix(test_labels, test_predictions)\n",
    "\n",
    "plt.figure(figsize=(8, 6))\n",
    "sns.heatmap(cm, annot=True, fmt='d', cmap='Blues')\n",
    "plt.xlabel('Predicted')\n",
    "plt.ylabel('True')\n",
    "plt.title('Confusion Matrix')\n",
    "plt.show()"
   ]
  },
  {
   "cell_type": "code",
   "execution_count": 59,
   "metadata": {},
   "outputs": [
    {
     "name": "stdout",
     "output_type": "stream",
     "text": [
      "              precision    recall  f1-score   support\n",
      "\n",
      "       Human     0.7908    0.6425    0.7090       400\n",
      "          AI     0.6989    0.8300    0.7589       400\n",
      "\n",
      "    accuracy                         0.7362       800\n",
      "   macro avg     0.7449    0.7362    0.7339       800\n",
      "weighted avg     0.7449    0.7362    0.7339       800\n",
      "\n"
     ]
    }
   ],
   "source": [
    "report = classification_report(test_labels, test_predictions, target_names=['Human', 'AI'], digits=4)\n",
    "\n",
    "print(report)"
   ]
  },
  {
   "cell_type": "code",
   "execution_count": 83,
   "metadata": {},
   "outputs": [
    {
     "name": "stdout",
     "output_type": "stream",
     "text": [
      "1/1 [==============================] - 0s 200ms/step\n",
      "1/1 [==============================] - 0s 192ms/step\n",
      "1/1 [==============================] - 0s 161ms/step\n",
      "1/1 [==============================] - 0s 148ms/step\n",
      "1/1 [==============================] - 0s 141ms/step\n",
      "1/1 [==============================] - 0s 133ms/step\n",
      "1/1 [==============================] - 0s 144ms/step\n",
      "1/1 [==============================] - 0s 139ms/step\n",
      "1/1 [==============================] - 0s 137ms/step\n",
      "1/1 [==============================] - 0s 137ms/step\n",
      "1/1 [==============================] - 0s 132ms/step\n",
      "1/1 [==============================] - 0s 126ms/step\n",
      "1/1 [==============================] - 0s 147ms/step\n"
     ]
    }
   ],
   "source": [
    "test_predictions = []\n",
    "test_labels = []\n",
    "\n",
    "for images, labels in maleSet:\n",
    "    batch_predictions = model.predict(images)\n",
    "    batch_predictions = (batch_predictions > 0.3).astype('int32')\n",
    "    test_predictions.extend(batch_predictions)\n",
    "    test_labels.extend(labels.numpy())\n",
    "\n",
    "test_predictions = np.array(test_predictions)\n",
    "test_labels = np.array(test_labels)"
   ]
  },
  {
   "cell_type": "code",
   "execution_count": 84,
   "metadata": {},
   "outputs": [
    {
     "data": {
      "image/png": "[encoded data removed]",
      "text/plain": [
       "<Figure size 800x600 with 2 Axes>"
      ]
     },
     "metadata": {},
     "output_type": "display_data"
    }
   ],
   "source": [
    "cm = confusion_matrix(test_labels, test_predictions)\n",
    "\n",
    "plt.figure(figsize=(8, 6))\n",
    "sns.heatmap(cm, annot=True, fmt='d', cmap='Blues')\n",
    "plt.xlabel('Predicted')\n",
    "plt.ylabel('Actual')\n",
    "plt.title('Confusion Matrix')\n",
    "plt.show()"
   ]
  },
  {
   "cell_type": "code",
   "execution_count": 93,
   "metadata": {},
   "outputs": [
    {
     "name": "stdout",
     "output_type": "stream",
     "text": [
      "1/1 [==============================] - 1s 733ms/step\n",
      "1/1 [==============================] - 1s 738ms/step\n",
      "1/1 [==============================] - 1s 679ms/step\n",
      "1/1 [==============================] - 1s 608ms/step\n",
      "1/1 [==============================] - 1s 588ms/step\n",
      "1/1 [==============================] - 1s 632ms/step\n",
      "1/1 [==============================] - 1s 668ms/step\n",
      "1/1 [==============================] - 1s 557ms/step\n",
      "1/1 [==============================] - 1s 557ms/step\n",
      "1/1 [==============================] - 1s 576ms/step\n",
      "1/1 [==============================] - 1s 565ms/step\n",
      "1/1 [==============================] - 1s 576ms/step\n",
      "1/1 [==============================] - 0s 318ms/step\n"
     ]
    }
   ],
   "source": [
    "test_predictions = []\n",
    "test_labels = []\n",
    "\n",
    "for images, labels in femaleSet:\n",
    "    batch_predictions = best_model.predict(images)\n",
    "    batch_predictions = (batch_predictions > 0.5).astype('int32')\n",
    "    test_predictions.extend(batch_predictions)\n",
    "    test_labels.extend(labels.numpy())\n",
    "\n",
    "test_predictions = np.array(test_predictions)\n",
    "test_labels = np.array(test_labels)"
   ]
  },
  {
   "cell_type": "code",
   "execution_count": 94,
   "metadata": {},
   "outputs": [
    {
     "data": {
      "image/png": "[encoded data removed]",
      "text/plain": [
       "<Figure size 800x600 with 2 Axes>"
      ]
     },
     "metadata": {},
     "output_type": "display_data"
    }
   ],
   "source": [
    "cm = confusion_matrix(test_labels, test_predictions)\n",
    "\n",
    "plt.figure(figsize=(8, 6))\n",
    "sns.heatmap(cm, annot=True, fmt='d', cmap='Blues')\n",
    "plt.xlabel('Predicted')\n",
    "plt.ylabel('Actual')\n",
    "plt.title('Confusion Matrix')\n",
    "plt.show()"
   ]
  },
  {
   "cell_type": "code",
   "execution_count": null,
   "metadata": {},
   "outputs": [],
   "source": [
    "from sklearn.metrics import classification_report\n",
    "\n",
    "report = classification_report(true_classes, predicted_classes, target_names=['teens', 'twenties', 'thirties', 'fourties', 'fifties'])\n",
    "\n",
    "print(report)"
   ]
  },
  {
   "cell_type": "code",
   "execution_count": null,
   "metadata": {},
   "outputs": [],
   "source": [
    "def build_model_scratch_Hyperband(hp):\n",
    "    model = Sequential()\n",
    "    model.add(Rescaling(1./255))\n",
    "    model.add(Conv2D(\n",
    "            filters=hp.Int('conv_filters', min_value=32, max_value=256, step=32),\n",
    "            kernel_size=hp.Choice('conv_kernel_size', values=[3, 5]),\n",
    "            activation='relu',\n",
    "            input_shape=(224, 224, 3),\n",
    "            kernel_regularizer=l2(0.001) \n",
    "        ))\n",
    "    model.add(BatchNormalization())\n",
    "    model.add(MaxPooling2D(pool_size=(2, 2)))\n",
    "    model.add(Flatten())\n",
    "    model.add(Dense(\n",
    "            units=hp.Int('dense_units', min_value=32, max_value=128, step=32),\n",
    "            activation='relu',\n",
    "            kernel_regularizer=l2(0.001)\n",
    "        ))\n",
    "    model.add(Dense(1, activation='sigmoid'))\n",
    "    \n",
    "  \n",
    "    model.compile(optimizer=Adam(hp.Float('learning_rate', min_value=1e-4, max_value=1e-2, sampling='LOG')),\n",
    "                  loss='binary_crossentropy',\n",
    "                  metrics=['accuracy'])\n",
    "  \n",
    "    return model"
   ]
  },
  {
   "cell_type": "code",
   "execution_count": null,
   "metadata": {},
   "outputs": [],
   "source": [
    "from keras_tuner import Hyperband\n",
    "\n",
    "tuner = Hyperband(\n",
    "    build_model_scratch_Hyperband,\n",
    "    objective='val_accuracy',\n",
    "    max_epochs=5,  # Maximum number of epochs to train one model\n",
    "    factor=3,  # Reduction factor for the number of epochs and number of models for each bracket\n",
    ")\n",
    "\n",
    "# Start the search for the best hyperparameter configuration.\n",
    "tuner.search(trainSet, epochs=10, validation_data=valSet, callbacks=[early_stopping_cb])\n",
    "\n",
    "# Retrieve the best model.\n",
    "best_model = tuner.get_best_models(num_models=1)[0]\n",
    "\n",
    "# Display the model's architecture\n",
    "best_model.summary()"
   ]
  },
  {
   "cell_type": "code",
   "execution_count": 112,
   "metadata": {},
   "outputs": [
    {
     "name": "stdout",
     "output_type": "stream",
     "text": [
      "1/1 [==============================] - 0s 149ms/step\n"
     ]
    }
   ],
   "source": [
    "test_predictions = []\n",
    "test_labels = []\n",
    "\n",
    "for images, labels in DemoSet:\n",
    "    batch_predictions = model.predict(images)\n",
    "    batch_predictions = (batch_predictions > 0.5).astype('int32')\n",
    "    test_predictions.extend(batch_predictions)\n",
    "    test_labels.extend(labels.numpy())\n",
    "\n",
    "test_predictions = np.array(test_predictions)\n",
    "test_labels = np.array(test_labels)"
   ]
  },
  {
   "cell_type": "code",
   "execution_count": 113,
   "metadata": {},
   "outputs": [
    {
     "data": {
      "image/png": "[encoded data removed]",
      "text/plain": [
       "<Figure size 800x600 with 2 Axes>"
      ]
     },
     "metadata": {},
     "output_type": "display_data"
    }
   ],
   "source": [
    "cm = confusion_matrix(test_labels, test_predictions)\n",
    "\n",
    "plt.figure(figsize=(8, 6))\n",
    "sns.heatmap(cm, annot=True, fmt='d', cmap='Blues')\n",
    "plt.xlabel('Predicted')\n",
    "plt.ylabel('Actual')\n",
    "plt.title('Confusion Matrix')\n",
    "plt.show()"
   ]
  },
  {
   "cell_type": "code",
   "execution_count": 125,
   "metadata": {},
   "outputs": [
    {
     "name": "stdout",
     "output_type": "stream",
     "text": [
      "1/1 [==============================] - 0s 216ms/step\n",
      "Sample: Predicted Class=\n",
      "[[0]\n",
      " [1]\n",
      " [0]\n",
      " [0]], \n",
      "Actual Class=[0 1 1 0], \n",
      "Score=\n",
      "[[7.094905e-12]\n",
      " [9.996124e-01]\n",
      " [5.257754e-03]\n",
      " [6.609362e-11]]\n"
     ]
    }
   ],
   "source": [
    "for images, labels in DemoSet:\n",
    "    score = model.predict(images)\n",
    "    predictions = (score > 0.5).astype('int32')\n",
    "\n",
    "    print(f\"Sample: Predicted Class=\\n{predictions}, \\nActual Class={labels.numpy()}, \\nScore=\\n{score}\")"
   ]
  }
 ],
 "metadata": {
  "kernelspec": {
   "display_name": "Python 3",
   "language": "python",
   "name": "python3"
  },
  "language_info": {
   "codemirror_mode": {
    "name": "ipython",
    "version": 3
   },
   "file_extension": ".py",
   "mimetype": "text/x-python",
   "name": "python",
   "nbconvert_exporter": "python",
   "pygments_lexer": "ipython3",
   "version": "3.10.1"
  }
 },
 "nbformat": 4,
 "nbformat_minor": 2
}
