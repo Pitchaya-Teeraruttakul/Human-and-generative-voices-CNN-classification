{
 "cells": [
  {
   "cell_type": "code",
   "execution_count": 2,
   "metadata": {},
   "outputs": [],
   "source": [
    "from matplotlib import pyplot as plt\n",
    "import tensorflow as tf\n",
    "import numpy as np\n",
    "import pandas as pd\n",
    "import matplotlib\n",
    "import os\n",
    "\n",
    "from PIL import Image\n",
    "from tensorflow import keras\n",
    "from tensorflow.keras import Sequential, Input, Model\n",
    "from tensorflow.keras.utils import timeseries_dataset_from_array\n",
    "from tensorflow.keras.layers import Dense, Flatten, Softmax, Dropout, Conv2D, MaxPooling2D, BatchNormalization, Activation, AveragePooling2D\n",
    "from tensorflow.keras.layers import RandomFlip, RandomRotation, RandomZoom, Rescaling, RandomWidth, RandomHeight, Lambda\n",
    "from tensorflow.keras.callbacks import EarlyStopping, ModelCheckpoint, ReduceLROnPlateau, LearningRateScheduler\n",
    "from tensorflow.keras.applications.vgg16 import VGG16, preprocess_input, decode_predictions\n",
    "from tensorflow.keras.preprocessing.image import ImageDataGenerator,load_img, img_to_array\n",
    "from tensorflow.keras.layers import SeparableConv2D, add, GlobalAveragePooling2D\n",
    "from tensorflow.keras.utils import image_dataset_from_directory\n",
    "from tensorflow.keras.optimizers import RMSprop, Adam, SGD\n",
    "from tensorflow.keras.regularizers import l2\n",
    "from sklearn.metrics import roc_curve, auc\n",
    "from tensorflow.keras.layers import Dense\n",
    "from tensorflow.keras.models import Sequential\n",
    "from tensorflow.keras.layers import Embedding\n",
    "from tensorflow.keras import layers"
   ]
  },
  {
   "cell_type": "markdown",
   "metadata": {},
   "source": [
    "__<H1>Data Collection &#11088;<H1>__"
   ]
  },
  {
   "cell_type": "code",
   "execution_count": 1,
   "metadata": {},
   "outputs": [
    {
     "name": "stdout",
     "output_type": "stream",
     "text": [
      "Requirement already satisfied: gdown in c:\\users\\jeant\\appdata\\local\\programs\\python\\python310\\lib\\site-packages (5.1.0)\n",
      "Requirement already satisfied: beautifulsoup4 in c:\\users\\jeant\\appdata\\local\\programs\\python\\python310\\lib\\site-packages (from gdown) (4.12.2)\n",
      "Requirement already satisfied: filelock in c:\\users\\jeant\\appdata\\local\\programs\\python\\python310\\lib\\site-packages (from gdown) (3.13.1)\n",
      "Requirement already satisfied: requests[socks] in c:\\users\\jeant\\appdata\\local\\programs\\python\\python310\\lib\\site-packages (from gdown) (2.28.2)\n",
      "Requirement already satisfied: tqdm in c:\\users\\jeant\\appdata\\local\\programs\\python\\python310\\lib\\site-packages (from gdown) (4.66.1)\n",
      "Requirement already satisfied: soupsieve>1.2 in c:\\users\\jeant\\appdata\\local\\programs\\python\\python310\\lib\\site-packages (from beautifulsoup4->gdown) (2.4.1)\n",
      "Requirement already satisfied: charset-normalizer<4,>=2 in c:\\users\\jeant\\appdata\\local\\programs\\python\\python310\\lib\\site-packages (from requests[socks]->gdown) (3.1.0)\n",
      "Requirement already satisfied: idna<4,>=2.5 in c:\\users\\jeant\\appdata\\local\\programs\\python\\python310\\lib\\site-packages (from requests[socks]->gdown) (3.4)\n",
      "Requirement already satisfied: urllib3<1.27,>=1.21.1 in c:\\users\\jeant\\appdata\\local\\programs\\python\\python310\\lib\\site-packages (from requests[socks]->gdown) (1.26.15)\n",
      "Requirement already satisfied: certifi>=2017.4.17 in c:\\users\\jeant\\appdata\\local\\programs\\python\\python310\\lib\\site-packages (from requests[socks]->gdown) (2022.12.7)\n",
      "Requirement already satisfied: PySocks!=1.5.7,>=1.5.6 in c:\\users\\jeant\\appdata\\local\\programs\\python\\python310\\lib\\site-packages (from requests[socks]->gdown) (1.7.1)\n",
      "Requirement already satisfied: colorama in c:\\users\\jeant\\appdata\\local\\programs\\python\\python310\\lib\\site-packages (from tqdm->gdown) (0.4.6)\n"
     ]
    },
    {
     "name": "stderr",
     "output_type": "stream",
     "text": [
      "\n",
      "[notice] A new release of pip is available: 23.3.2 -> 24.0\n",
      "[notice] To update, run: python.exe -m pip install --upgrade pip\n"
     ]
    }
   ],
   "source": [
    "!pip install gdown"
   ]
  },
  {
   "cell_type": "markdown",
   "metadata": {},
   "source": [
    "__<h3>Create file directory for train, test, and validation data set</h3>__"
   ]
  },
  {
   "cell_type": "code",
   "execution_count": 4,
   "metadata": {},
   "outputs": [
    {
     "name": "stdout",
     "output_type": "stream",
     "text": [
      "Finished create file to receive all data !!\n"
     ]
    }
   ],
   "source": [
    "import shutil\n",
    "baseDir = \"C:/Users/jeant/OneDrive - Chulalongkorn University/Desktop/Senior Project/Convertor code/Model/data1\"\n",
    "os.mkdir(baseDir)\n",
    "\n",
    "trainDir = os.path.join(baseDir, 'train')\n",
    "os.mkdir(trainDir)\n",
    "\n",
    "validationDir = os.path.join(baseDir, 'validation')\n",
    "os.mkdir(validationDir)\n",
    "\n",
    "testDir = os.path.join(baseDir, 'test')\n",
    "os.mkdir(testDir)\n",
    "\n",
    "trainHumanDir = os.path.join(trainDir, 'Human')\n",
    "os.mkdir(trainHumanDir)\n",
    "\n",
    "trainAIDir = os.path.join(trainDir, 'AI')\n",
    "os.mkdir(trainAIDir)\n",
    "\n",
    "validationHumanDir = os.path.join(validationDir, 'Human')\n",
    "os.mkdir(validationHumanDir)\n",
    "\n",
    "validationAIDir = os.path.join(validationDir, 'AI')\n",
    "os.mkdir(validationAIDir)\n",
    "\n",
    "testHumanDir = os.path.join(testDir, 'Human')\n",
    "os.mkdir(testHumanDir)\n",
    "\n",
    "testAIDir = os.path.join(testDir, 'AI')\n",
    "os.mkdir(testAIDir)\n",
    "\n",
    "print(\"Finished create file to receive all data !!\")"
   ]
  },
  {
   "cell_type": "markdown",
   "metadata": {},
   "source": [
    "__<h2>👻 Copies data to each file 👻</h2>__"
   ]
  },
  {
   "cell_type": "code",
   "execution_count": 12,
   "metadata": {},
   "outputs": [],
   "source": [
    "HumanDataDir = \"C:/Users/jeant/OneDrive - Chulalongkorn University/Desktop/Senior Project/Dataset/Human Picture Ver.3/Human pic/\"\n",
    "AIDataDir = \"C:/Users/jeant/OneDrive - Chulalongkorn University/Desktop/Senior Project/Dataset/AI Picture Ver.3/AI pic/\""
   ]
  },
  {
   "cell_type": "code",
   "execution_count": 7,
   "metadata": {},
   "outputs": [],
   "source": [
    "# Copies AI voice Spectrogram \n",
    "\n",
    "fnames = ['Top {}.png'.format(i+1) for i in range(50)]\n",
    "for fname in fnames:\n",
    "  src = os.path.join(AIDataDir, fname)\n",
    "  dst = os.path.join(trainAIDir, fname)\n",
    "  shutil.copyfile(src, dst)\n",
    "\n",
    "fnames = ['Alan {}.png'.format(i+1) for i in range(50)]\n",
    "for fname in fnames:\n",
    "  src = os.path.join(AIDataDir, fname)\n",
    "  dst = os.path.join(trainAIDir, fname)\n",
    "  shutil.copyfile(src, dst)\n",
    "\n",
    "fnames = ['Max {}.png'.format(i+1) for i in range(20)]\n",
    "for fname in fnames:\n",
    "  src = os.path.join(AIDataDir, fname)\n",
    "  dst = os.path.join(trainAIDir, fname)\n",
    "  shutil.copyfile(src, dst)\n",
    "\n",
    "fnames = ['Saree {}.png'.format(i+1) for i in range(50)]\n",
    "for fname in fnames:\n",
    "  src = os.path.join(AIDataDir, fname)\n",
    "  dst = os.path.join(trainAIDir, fname)\n",
    "  shutil.copyfile(src, dst)\n",
    "\n",
    "fnames = ['Ava {}.png'.format(i+1) for i in range(50)]\n",
    "for fname in fnames:\n",
    "  src = os.path.join(AIDataDir, fname)\n",
    "  dst = os.path.join(trainAIDir, fname)\n",
    "  shutil.copyfile(src, dst)\n",
    "\n",
    "fnames = ['Irene {}.png'.format(i+1) for i in range(20)]\n",
    "for fname in fnames:\n",
    "  src = os.path.join(AIDataDir, fname)\n",
    "  dst = os.path.join(trainAIDir, fname)\n",
    "  shutil.copyfile(src, dst)\n",
    "\n",
    "fnames = ['Max {}.png'.format(i+1) for i in range(20, 40)]\n",
    "for fname in fnames:\n",
    "  src = os.path.join(AIDataDir, fname)\n",
    "  dst = os.path.join(validationAIDir, fname)\n",
    "  shutil.copyfile(src, dst)\n",
    "\n",
    "fnames = ['Irene {}.png'.format(i+1) for i in range(20, 40)]\n",
    "for fname in fnames:\n",
    "  src = os.path.join(AIDataDir, fname)\n",
    "  dst = os.path.join(validationAIDir, fname)\n",
    "  shutil.copyfile(src, dst)\n",
    "\n",
    "fnames = ['Vanilla {}.png'.format(i+1) for i in range(20)]\n",
    "for fname in fnames:\n",
    "  src = os.path.join(AIDataDir, fname)\n",
    "  dst = os.path.join(validationAIDir, fname)\n",
    "  shutil.copyfile(src, dst)\n",
    "\n",
    "fnames = ['Smoke {}.png'.format(i+1) for i in range(20)]\n",
    "for fname in fnames:\n",
    "  src = os.path.join(AIDataDir, fname)\n",
    "  dst = os.path.join(validationAIDir, fname)\n",
    "  shutil.copyfile(src, dst)\n",
    "\n",
    "fnames = ['Smoke {}.png'.format(i+1) for i in range(20, 50)]\n",
    "for fname in fnames:\n",
    "  src = os.path.join(AIDataDir, fname)\n",
    "  dst = os.path.join(testAIDir, fname)\n",
    "  shutil.copyfile(src, dst)\n",
    "\n",
    "fnames = ['Vanilla {}.png'.format(i+1) for i in range(20, 50)]\n",
    "for fname in fnames:\n",
    "  src = os.path.join(AIDataDir, fname)\n",
    "  dst = os.path.join(testAIDir, fname)\n",
    "  shutil.copyfile(src, dst)\n",
    "\n",
    "fnames = ['Max {}.png'.format(i+1) for i in range(40,50)]\n",
    "for fname in fnames:\n",
    "  src = os.path.join(AIDataDir, fname)\n",
    "  dst = os.path.join(testAIDir, fname)\n",
    "  shutil.copyfile(src, dst)\n",
    "\n",
    "fnames = ['Irene {}.png'.format(i+1) for i in range(40,50)]\n",
    "for fname in fnames:\n",
    "  src = os.path.join(AIDataDir, fname)\n",
    "  dst = os.path.join(testAIDir, fname)\n",
    "  shutil.copyfile(src, dst)"
   ]
  },
  {
   "cell_type": "code",
   "execution_count": 8,
   "metadata": {},
   "outputs": [],
   "source": [
    "# Copies Human voice Spectrogram \n",
    "\n",
    "fnames = ['Jean {}.png'.format(i+1) for i in range(50)]\n",
    "for fname in fnames:\n",
    "  src = os.path.join(HumanDataDir, fname)\n",
    "  dst = os.path.join(trainHumanDir, fname)\n",
    "  shutil.copyfile(src, dst)\n",
    "\n",
    "fnames = ['Tong {}.png'.format(i+1) for i in range(50)]\n",
    "for fname in fnames:\n",
    "  src = os.path.join(HumanDataDir, fname)\n",
    "  dst = os.path.join(trainHumanDir, fname)\n",
    "  shutil.copyfile(src, dst)\n",
    "\n",
    "fnames = ['Pom {}.png'.format(i+1) for i in range(20)]\n",
    "for fname in fnames:\n",
    "  src = os.path.join(HumanDataDir, fname)\n",
    "  dst = os.path.join(trainHumanDir, fname)\n",
    "  shutil.copyfile(src, dst)\n",
    "\n",
    "fnames = ['Pang {}.png'.format(i+1) for i in range(50)]\n",
    "for fname in fnames:\n",
    "  src = os.path.join(HumanDataDir, fname)\n",
    "  dst = os.path.join(trainHumanDir, fname)\n",
    "  shutil.copyfile(src, dst)\n",
    "\n",
    "fnames = ['Bright {}.png'.format(i+1) for i in range(50)]\n",
    "for fname in fnames:\n",
    "  src = os.path.join(HumanDataDir, fname)\n",
    "  dst = os.path.join(trainHumanDir, fname)\n",
    "  shutil.copyfile(src, dst)\n",
    "\n",
    "fnames = ['Mai {}.png'.format(i+1) for i in range(20)]\n",
    "for fname in fnames:\n",
    "  src = os.path.join(HumanDataDir, fname)\n",
    "  dst = os.path.join(trainHumanDir, fname)\n",
    "  shutil.copyfile(src, dst)\n",
    "\n",
    "fnames = ['Mai {}.png'.format(i+1) for i in range(20, 40)]\n",
    "for fname in fnames:\n",
    "  src = os.path.join(HumanDataDir, fname)\n",
    "  dst = os.path.join(validationHumanDir, fname)\n",
    "  shutil.copyfile(src, dst)\n",
    "\n",
    "fnames = ['Pom {}.png'.format(i+1) for i in range(20, 40)]\n",
    "for fname in fnames:\n",
    "  src = os.path.join(HumanDataDir, fname)\n",
    "  dst = os.path.join(validationHumanDir, fname)\n",
    "  shutil.copyfile(src, dst)\n",
    "\n",
    "fnames = ['Best {}.png'.format(i+1) for i in range(20)]\n",
    "for fname in fnames:\n",
    "  src = os.path.join(HumanDataDir, fname)\n",
    "  dst = os.path.join(validationHumanDir, fname)\n",
    "  shutil.copyfile(src, dst)\n",
    "\n",
    "fnames = ['Besty {}.png'.format(i+1) for i in range(20)]\n",
    "for fname in fnames:\n",
    "  src = os.path.join(HumanDataDir, fname)\n",
    "  dst = os.path.join(validationHumanDir, fname)\n",
    "  shutil.copyfile(src, dst)\n",
    "\n",
    "fnames = ['Best {}.png'.format(i+1) for i in range(20, 50)]\n",
    "for fname in fnames:\n",
    "  src = os.path.join(HumanDataDir, fname)\n",
    "  dst = os.path.join(testHumanDir, fname)\n",
    "  shutil.copyfile(src, dst)\n",
    "\n",
    "fnames = ['Besty {}.png'.format(i+1) for i in range(20, 50)]\n",
    "for fname in fnames:\n",
    "  src = os.path.join(HumanDataDir, fname)\n",
    "  dst = os.path.join(testHumanDir, fname)\n",
    "  shutil.copyfile(src, dst)\n",
    "\n",
    "fnames = ['Pom {}.png'.format(i+1) for i in range(40,50)]\n",
    "for fname in fnames:\n",
    "  src = os.path.join(HumanDataDir, fname)\n",
    "  dst = os.path.join(testHumanDir, fname)\n",
    "  shutil.copyfile(src, dst)\n",
    "\n",
    "fnames = ['Mai {}.png'.format(i+1) for i in range(40,50)]\n",
    "for fname in fnames:\n",
    "  src = os.path.join(HumanDataDir, fname)\n",
    "  dst = os.path.join(testHumanDir, fname)\n",
    "  shutil.copyfile(src, dst)"
   ]
  },
  {
   "cell_type": "code",
   "execution_count": 6,
   "metadata": {},
   "outputs": [],
   "source": [
    "trainDir = \"C:/Users/jeant/OneDrive - Chulalongkorn University/Desktop/Senior Project/Convertor code/Model/data1/train\"\n",
    "validationDir = \"C:/Users/jeant/OneDrive - Chulalongkorn University/Desktop/Senior Project/Convertor code/Model/data1/validation\"\n",
    "testDir = \"C:/Users/jeant/OneDrive - Chulalongkorn University/Desktop/Senior Project/Convertor code/Model/data1/test\"\n",
    "trainHumanDir = \"C:/Users/jeant/OneDrive - Chulalongkorn University/Desktop/Senior Project/Convertor code/Model/data1/train/Human\"\n",
    "trainAIDir =\"C:/Users/jeant/OneDrive - Chulalongkorn University/Desktop/Senior Project/Convertor code/Model/data1/train/AI\"\n",
    "validationAIDir = \"C:/Users/jeant/OneDrive - Chulalongkorn University/Desktop/Senior Project/Convertor code/Model/data1/validation/AI\"\n",
    "validationHumanDir = \"C:/Users/jeant/OneDrive - Chulalongkorn University/Desktop/Senior Project/Convertor code/Model/data1/validation/Human\"\n",
    "testHumanDir = \"C:/Users/jeant/OneDrive - Chulalongkorn University/Desktop/Senior Project/Convertor code/Model/data1/test/Human\"\n",
    "testAIDir = \"C:/Users/jeant/OneDrive - Chulalongkorn University/Desktop/Senior Project/Convertor code/Model/data1/test/AI\""
   ]
  },
  {
   "cell_type": "code",
   "execution_count": 7,
   "metadata": {},
   "outputs": [
    {
     "name": "stdout",
     "output_type": "stream",
     "text": [
      "total training AI voice images: 240\n",
      "total training Human voice images: 240\n",
      "total validation AI voice images: 80\n",
      "total validation Human voice images: 80\n",
      "total test AI voice images: 80\n",
      "total test Human voice images: 80\n"
     ]
    }
   ],
   "source": [
    "print('total training AI voice images:', len(os.listdir(trainAIDir)))\n",
    "print('total training Human voice images:', len(os.listdir(trainHumanDir)))\n",
    "print('total validation AI voice images:', len(os.listdir(validationAIDir)))\n",
    "print('total validation Human voice images:', len(os.listdir(validationHumanDir)))\n",
    "print('total test AI voice images:', len(os.listdir(testAIDir)))\n",
    "print('total test Human voice images:', len(os.listdir(testHumanDir)))"
   ]
  },
  {
   "cell_type": "code",
   "execution_count": 9,
   "metadata": {},
   "outputs": [
    {
     "name": "stdout",
     "output_type": "stream",
     "text": [
      "Found 480 files belonging to 2 classes.\n"
     ]
    },
    {
     "name": "stdout",
     "output_type": "stream",
     "text": [
      "Found 160 files belonging to 2 classes.\n",
      "Found 160 files belonging to 2 classes.\n"
     ]
    }
   ],
   "source": [
    "trainSet = image_dataset_from_directory(\n",
    "    trainDir,\n",
    "    image_size = (224,224),\n",
    "    batch_size = 64\n",
    ")\n",
    "valSet = image_dataset_from_directory(\n",
    "    validationDir,\n",
    "    image_size = (224,224),\n",
    "    batch_size = 64\n",
    ")\n",
    "testSet = image_dataset_from_directory(\n",
    "    testDir,\n",
    "    image_size = (224,224),\n",
    "    batch_size = 64\n",
    ")"
   ]
  },
  {
   "cell_type": "code",
   "execution_count": 17,
   "metadata": {},
   "outputs": [
    {
     "name": "stdout",
     "output_type": "stream",
     "text": [
      "class: AI --> 0\n",
      "class: Human --> 1\n"
     ]
    }
   ],
   "source": [
    "classLabel = trainSet.class_names\n",
    "\n",
    "for label, className in enumerate(classLabel):\n",
    "    print(\"class: {} --> {}\".format(className, label))\n"
   ]
  },
  {
   "cell_type": "code",
   "execution_count": 18,
   "metadata": {},
   "outputs": [
    {
     "name": "stdout",
     "output_type": "stream",
     "text": [
      "data batch shape (64, 224, 224, 3)\n",
      "label batch shape (64,)\n",
      "labels_batch tf.Tensor(\n",
      "[1 1 0 0 1 1 0 0 0 0 0 1 1 0 0 0 0 1 1 0 0 1 0 1 1 0 1 1 1 1 0 0 0 1 0 1 0\n",
      " 0 1 1 1 0 1 1 0 1 1 0 1 0 0 1 0 1 1 1 1 0 0 0 1 1 1 0], shape=(64,), dtype=int32)\n"
     ]
    }
   ],
   "source": [
    "for data_batch, labels_batch in trainSet.take(1):\n",
    "  print(\"data batch shape\", data_batch.shape) # 64 224x224 3 c channels\n",
    "  print(\"label batch shape\", labels_batch.shape)\n",
    "  print(\"labels_batch\", labels_batch) # 0 AI, 1 Human"
   ]
  },
  {
   "cell_type": "markdown",
   "metadata": {},
   "source": [
    "__<h2>Call Back 👹</h2>__"
   ]
  },
  {
   "cell_type": "code",
   "execution_count": 19,
   "metadata": {},
   "outputs": [],
   "source": [
    "early_stopping_cb = EarlyStopping(monitor='val_accuracy', patience=5, restore_best_weights=True)\n",
    "model_checkpoint_cb1 = ModelCheckpoint('model_scratch/woaugment', monitor='val_loss',save_best_only=True, save_weights_only=True)\n",
    "model_checkpoint_cb2 = ModelCheckpoint('model_scratch/waugment', monitor='val_loss',save_best_only=True, save_weights_only=True)\n",
    "model_checkpoint_cb3 = ModelCheckpoint('model_feature_extraction/woaugment', monitor='val_loss',save_best_only=True, save_weights_only=True)\n",
    "model_checkpoint_cb4 = ModelCheckpoint('model_feature_extraction/waugment', monitor='val_loss',save_best_only=True, save_weights_only=True)\n",
    "model_checkpoint_cb5 = ModelCheckpoint('model_fine_tuning/woaugment', monitor='val_loss',save_best_only=True,save_weights_only=True)\n",
    "model_checkpoint_cb6 = ModelCheckpoint('model_fine_tuning/waugment', monitor='val_loss',save_best_only=True,save_weights_only=True)\n",
    "reduce_lr_cb = ReduceLROnPlateau(min_lr=0.001)"
   ]
  },
  {
   "cell_type": "markdown",
   "metadata": {},
   "source": [
    "__<h2>Build Model 🫠</h2>__"
   ]
  },
  {
   "cell_type": "markdown",
   "metadata": {},
   "source": [
    "__<h4>Let's Try Train from scratch</h4>__"
   ]
  },
  {
   "cell_type": "code",
   "execution_count": 20,
   "metadata": {},
   "outputs": [
    {
     "name": "stdout",
     "output_type": "stream",
     "text": [
      "Found 480 images belonging to 2 classes.\n"
     ]
    }
   ],
   "source": [
    "# data augmentation\n",
    "datagen = ImageDataGenerator(\n",
    "rescale=1./255, \n",
    "rotation_range=15, # random rotation up to x degrees\n",
    "width_shift_range=0.1, # \n",
    "height_shift_range=0.1,\n",
    "horizontal_flip=True, # horizontal flip\n",
    "vertical_flip=False # vartival flip\n",
    ")\n",
    "\n",
    "# prepare iterator\n",
    "it_train = datagen.flow_from_directory(\n",
    "   trainDir,\n",
    "   target_size=(224, 224),\n",
    "   batch_size=64,\n",
    "   class_mode='binary') # binary class"
   ]
  },
  {
   "cell_type": "code",
   "execution_count": 19,
   "metadata": {},
   "outputs": [],
   "source": [
    "# train with data augmentation\n",
    "# model = build_model()\n",
    "\n",
    "# model.compile(optimizer=Adam(learning_rate=0.001, beta_1=0.9, beta_2=0.999),\n",
    "#                loss='binary_crossentropy',\n",
    "#                metrics=['accuracy'])\n",
    "\n",
    "# history = model.fit(it_train, epochs=50, validation_data=valSet, verbose=1,steps_per_epoch=2000//64,\n",
    "#                    callbacks=[model_checkpoint_cb2,reduce_lr_cb])"
   ]
  },
  {
   "cell_type": "code",
   "execution_count": 30,
   "metadata": {},
   "outputs": [],
   "source": [
    "# training from scratch\n",
    "def build_model_scratch2():\n",
    "  model = Sequential()\n",
    "  model.add(Input((224,224,3)))\n",
    "  model.add(Rescaling(1./255)) # normalize colors pixcel from 0 = black, 255 = white --> length 0-1\n",
    "  \n",
    "  model.add(Conv2D(filters=32,kernel_size=3,padding='same',activation='relu'))\n",
    "  model.add(MaxPooling2D(pool_size=2))\n",
    "  model.add(BatchNormalization())\n",
    "  model.add(Dropout(0.5))\n",
    "\n",
    "  model.add(Flatten())\n",
    "  model.add(BatchNormalization())\n",
    "  model.add(Dense(50, activation='relu', kernel_regularizer=l2(0.01)))\n",
    "  model.add(BatchNormalization())\n",
    "  model.add(Dropout(0.5))\n",
    "  model.add(Dense(1, activation='sigmoid'))\n",
    "\n",
    "  return model"
   ]
  },
  {
   "cell_type": "code",
   "execution_count": 31,
   "metadata": {},
   "outputs": [
    {
     "name": "stdout",
     "output_type": "stream",
     "text": [
      "Model: \"sequential_3\"\n",
      "_________________________________________________________________\n",
      " Layer (type)                Output Shape              Param #   \n",
      "=================================================================\n",
      " rescaling_3 (Rescaling)     (None, 224, 224, 3)       0         \n",
      "                                                                 \n",
      " conv2d_3 (Conv2D)           (None, 224, 224, 32)      896       \n",
      "                                                                 \n",
      " max_pooling2d_3 (MaxPoolin  (None, 112, 112, 32)      0         \n",
      " g2D)                                                            \n",
      "                                                                 \n",
      " batch_normalization_9 (Bat  (None, 112, 112, 32)      128       \n",
      " chNormalization)                                                \n",
      "                                                                 \n",
      " dropout_6 (Dropout)         (None, 112, 112, 32)      0         \n",
      "                                                                 \n",
      " flatten_3 (Flatten)         (None, 401408)            0         \n",
      "                                                                 \n",
      " batch_normalization_10 (Ba  (None, 401408)            1605632   \n",
      " tchNormalization)                                               \n",
      "                                                                 \n",
      " dense_6 (Dense)             (None, 50)                20070450  \n",
      "                                                                 \n",
      " batch_normalization_11 (Ba  (None, 50)                200       \n",
      " tchNormalization)                                               \n",
      "                                                                 \n",
      " dropout_7 (Dropout)         (None, 50)                0         \n",
      "                                                                 \n",
      " dense_7 (Dense)             (None, 1)                 51        \n",
      "                                                                 \n",
      "=================================================================\n",
      "Total params: 21677357 (82.69 MB)\n",
      "Trainable params: 20874377 (79.63 MB)\n",
      "Non-trainable params: 802980 (3.06 MB)\n",
      "_________________________________________________________________\n",
      "Epoch 1/10\n",
      "8/8 [==============================] - 13s 1s/step - loss: 1.2747 - accuracy: 0.9021 - val_loss: 3.2502 - val_accuracy: 0.5000 - lr: 1.0000e-04\n",
      "Epoch 2/10\n",
      "8/8 [==============================] - 12s 1s/step - loss: 1.0389 - accuracy: 0.9771 - val_loss: 2.2574 - val_accuracy: 0.5250 - lr: 1.0000e-04\n",
      "Epoch 3/10\n",
      "8/8 [==============================] - 12s 1s/step - loss: 1.0023 - accuracy: 0.9833 - val_loss: 1.8205 - val_accuracy: 0.5375 - lr: 1.0000e-04\n",
      "Epoch 4/10\n",
      "8/8 [==============================] - 12s 1s/step - loss: 0.9537 - accuracy: 0.9917 - val_loss: 1.6113 - val_accuracy: 0.5437 - lr: 1.0000e-04\n",
      "Epoch 5/10\n",
      "8/8 [==============================] - 12s 1s/step - loss: 0.9162 - accuracy: 0.9958 - val_loss: 1.4725 - val_accuracy: 0.5500 - lr: 1.0000e-04\n",
      "Epoch 6/10\n",
      "8/8 [==============================] - 12s 1s/step - loss: 0.8821 - accuracy: 0.9979 - val_loss: 1.3939 - val_accuracy: 0.6062 - lr: 1.0000e-04\n",
      "Epoch 7/10\n",
      "8/8 [==============================] - 13s 2s/step - loss: 0.8420 - accuracy: 1.0000 - val_loss: 1.3313 - val_accuracy: 0.6375 - lr: 1.0000e-04\n",
      "Epoch 8/10\n",
      "8/8 [==============================] - 13s 2s/step - loss: 0.8130 - accuracy: 1.0000 - val_loss: 1.2840 - val_accuracy: 0.6562 - lr: 1.0000e-04\n",
      "Epoch 9/10\n",
      "8/8 [==============================] - 21s 3s/step - loss: 0.7822 - accuracy: 0.9958 - val_loss: 1.2343 - val_accuracy: 0.6875 - lr: 1.0000e-04\n",
      "Epoch 10/10\n",
      "8/8 [==============================] - 13s 2s/step - loss: 0.7486 - accuracy: 1.0000 - val_loss: 1.1959 - val_accuracy: 0.7063 - lr: 1.0000e-04\n"
     ]
    }
   ],
   "source": [
    "model = build_model_scratch2()\n",
    "model.summary()\n",
    "model.compile(optimizer=Adam(learning_rate=0.0001, beta_1=0.9, beta_2=0.999),\n",
    "                loss='binary_crossentropy',\n",
    "                metrics=['accuracy'])\n",
    "\n",
    "history = model.fit(trainSet, epochs=10, validation_data=valSet, verbose=1,\n",
    "                    callbacks=[early_stopping_cb,model_checkpoint_cb2,reduce_lr_cb])\n",
    "\n",
    "# history = model.fit(trainSet, epochs=10, validation_data=valSet, verbose=1)"
   ]
  },
  {
   "cell_type": "code",
   "execution_count": 32,
   "metadata": {},
   "outputs": [
    {
     "data": {
      "image/png": "[encoded data removed]",
      "text/plain": [
       "<Figure size 640x480 with 1 Axes>"
      ]
     },
     "metadata": {},
     "output_type": "display_data"
    },
    {
     "data": {
      "image/png": "[encoded data removed]",
      "text/plain": [
       "<Figure size 640x480 with 1 Axes>"
      ]
     },
     "metadata": {},
     "output_type": "display_data"
    }
   ],
   "source": [
    "plt.plot(history.history['loss'], label = 'loss')\n",
    "plt.plot(history.history['val_loss'], label = 'val_loss')\n",
    "plt.title('Loss vs Epochs')\n",
    "plt.xlabel(\"Epochs\")\n",
    "plt.ylabel(\"Loss\")\n",
    "plt.legend()\n",
    "plt.show()\n",
    "plt.plot(history.history['accuracy'], label = 'acc')\n",
    "plt.plot(history.history['val_accuracy'], label = 'val_acc')\n",
    "plt.title('Accuracy vs Epochs')\n",
    "plt.xlabel(\"Epochs\")\n",
    "plt.ylabel(\"Accuracy\")\n",
    "plt.legend()\n",
    "plt.show()"
   ]
  },
  {
   "cell_type": "code",
   "execution_count": 33,
   "metadata": {},
   "outputs": [
    {
     "name": "stdout",
     "output_type": "stream",
     "text": [
      "3/3 [==============================] - 1s 172ms/step - loss: 1.2138 - accuracy: 0.6500\n",
      "test_oss: 1.2138205766677856\n",
      "test_acc: 0.6499999761581421\n"
     ]
    }
   ],
   "source": [
    "# test set\n",
    "loss, acc = model.evaluate(testSet)\n",
    "print('test_oss:', loss)\n",
    "print('test_acc:', acc)"
   ]
  },
  {
   "cell_type": "code",
   "execution_count": 37,
   "metadata": {},
   "outputs": [
    {
     "name": "stdout",
     "output_type": "stream",
     "text": [
      "3/3 [==============================] - 1s 174ms/step\n",
      "Sample 1: Predicted Class=0,   Actual Class=0,   Probability Scores=[0.38318655]\n",
      "Sample 2: Predicted Class=1,   Actual Class=1,   Probability Scores=[0.6816896]\n",
      "Sample 3: Predicted Class=0,   Actual Class=1,   Probability Scores=[0.37867403]\n",
      "Sample 4: Predicted Class=0,   Actual Class=0,   Probability Scores=[0.41504356]\n",
      "Sample 5: Predicted Class=1,   Actual Class=1,   Probability Scores=[0.84841704]\n",
      "Sample 6: Predicted Class=1,   Actual Class=1,   Probability Scores=[0.85296404]\n",
      "Sample 7: Predicted Class=1,   Actual Class=1,   Probability Scores=[0.52572143]\n",
      "Sample 8: Predicted Class=0,   Actual Class=1,   Probability Scores=[0.43116015]\n",
      "Sample 9: Predicted Class=1,   Actual Class=0,   Probability Scores=[0.6841343]\n",
      "Sample 10: Predicted Class=1,   Actual Class=1,   Probability Scores=[0.9098739]\n",
      "Sample 11: Predicted Class=0,   Actual Class=1,   Probability Scores=[0.46209452]\n",
      "Sample 12: Predicted Class=1,   Actual Class=1,   Probability Scores=[0.89909095]\n",
      "Sample 13: Predicted Class=1,   Actual Class=0,   Probability Scores=[0.6938768]\n",
      "Sample 14: Predicted Class=1,   Actual Class=1,   Probability Scores=[0.84010005]\n",
      "Sample 15: Predicted Class=1,   Actual Class=0,   Probability Scores=[0.8120704]\n",
      "Sample 16: Predicted Class=1,   Actual Class=1,   Probability Scores=[0.61741465]\n",
      "Sample 17: Predicted Class=1,   Actual Class=0,   Probability Scores=[0.85356903]\n",
      "Sample 18: Predicted Class=1,   Actual Class=1,   Probability Scores=[0.65842766]\n",
      "Sample 19: Predicted Class=0,   Actual Class=1,   Probability Scores=[0.35779402]\n",
      "Sample 20: Predicted Class=1,   Actual Class=0,   Probability Scores=[0.86480176]\n",
      "Sample 21: Predicted Class=1,   Actual Class=0,   Probability Scores=[0.84502405]\n",
      "Sample 22: Predicted Class=1,   Actual Class=1,   Probability Scores=[0.86691743]\n",
      "Sample 23: Predicted Class=1,   Actual Class=0,   Probability Scores=[0.9311778]\n",
      "Sample 24: Predicted Class=1,   Actual Class=0,   Probability Scores=[0.91666466]\n",
      "Sample 25: Predicted Class=1,   Actual Class=1,   Probability Scores=[0.71912444]\n",
      "Sample 26: Predicted Class=1,   Actual Class=1,   Probability Scores=[0.8186692]\n",
      "Sample 27: Predicted Class=1,   Actual Class=0,   Probability Scores=[0.82446617]\n",
      "Sample 28: Predicted Class=1,   Actual Class=0,   Probability Scores=[0.6394629]\n",
      "Sample 29: Predicted Class=1,   Actual Class=0,   Probability Scores=[0.8842859]\n",
      "Sample 30: Predicted Class=0,   Actual Class=1,   Probability Scores=[0.37569362]\n",
      "Sample 31: Predicted Class=1,   Actual Class=0,   Probability Scores=[0.90892464]\n",
      "Sample 32: Predicted Class=1,   Actual Class=0,   Probability Scores=[0.6832383]\n",
      "Sample 33: Predicted Class=1,   Actual Class=0,   Probability Scores=[0.70151865]\n",
      "Sample 34: Predicted Class=1,   Actual Class=0,   Probability Scores=[0.9155901]\n",
      "Sample 35: Predicted Class=1,   Actual Class=0,   Probability Scores=[0.52494764]\n",
      "Sample 36: Predicted Class=1,   Actual Class=1,   Probability Scores=[0.7906877]\n",
      "Sample 37: Predicted Class=1,   Actual Class=0,   Probability Scores=[0.87512124]\n",
      "Sample 38: Predicted Class=1,   Actual Class=1,   Probability Scores=[0.6733887]\n",
      "Sample 39: Predicted Class=1,   Actual Class=0,   Probability Scores=[0.8810714]\n",
      "Sample 40: Predicted Class=1,   Actual Class=1,   Probability Scores=[0.87975645]\n",
      "Sample 41: Predicted Class=1,   Actual Class=1,   Probability Scores=[0.8912436]\n",
      "Sample 42: Predicted Class=0,   Actual Class=0,   Probability Scores=[0.4615245]\n",
      "Sample 43: Predicted Class=1,   Actual Class=1,   Probability Scores=[0.8539652]\n",
      "Sample 44: Predicted Class=1,   Actual Class=0,   Probability Scores=[0.9165645]\n",
      "Sample 45: Predicted Class=0,   Actual Class=1,   Probability Scores=[0.47856584]\n",
      "Sample 46: Predicted Class=1,   Actual Class=1,   Probability Scores=[0.62030596]\n",
      "Sample 47: Predicted Class=1,   Actual Class=0,   Probability Scores=[0.543447]\n",
      "Sample 48: Predicted Class=1,   Actual Class=1,   Probability Scores=[0.7286298]\n",
      "Sample 49: Predicted Class=1,   Actual Class=0,   Probability Scores=[0.9069925]\n",
      "Sample 50: Predicted Class=1,   Actual Class=1,   Probability Scores=[0.8130035]\n",
      "Sample 51: Predicted Class=0,   Actual Class=1,   Probability Scores=[0.4589162]\n",
      "Sample 52: Predicted Class=0,   Actual Class=1,   Probability Scores=[0.43052056]\n",
      "Sample 53: Predicted Class=1,   Actual Class=1,   Probability Scores=[0.56029344]\n",
      "Sample 54: Predicted Class=1,   Actual Class=1,   Probability Scores=[0.56915605]\n",
      "Sample 55: Predicted Class=1,   Actual Class=0,   Probability Scores=[0.9107352]\n",
      "Sample 56: Predicted Class=1,   Actual Class=1,   Probability Scores=[0.9233673]\n",
      "Sample 57: Predicted Class=1,   Actual Class=1,   Probability Scores=[0.8772946]\n",
      "Sample 58: Predicted Class=1,   Actual Class=0,   Probability Scores=[0.92425174]\n",
      "Sample 59: Predicted Class=1,   Actual Class=1,   Probability Scores=[0.5461025]\n",
      "Sample 60: Predicted Class=1,   Actual Class=1,   Probability Scores=[0.9360857]\n",
      "Sample 61: Predicted Class=1,   Actual Class=0,   Probability Scores=[0.86673963]\n",
      "Sample 62: Predicted Class=1,   Actual Class=1,   Probability Scores=[0.85911393]\n",
      "Sample 63: Predicted Class=1,   Actual Class=1,   Probability Scores=[0.78009564]\n",
      "Sample 64: Predicted Class=0,   Actual Class=0,   Probability Scores=[0.4608479]\n",
      "Sample 65: Predicted Class=1,   Actual Class=1,   Probability Scores=[0.5780912]\n",
      "Sample 66: Predicted Class=1,   Actual Class=0,   Probability Scores=[0.8583474]\n",
      "Sample 67: Predicted Class=1,   Actual Class=0,   Probability Scores=[0.885127]\n",
      "Sample 68: Predicted Class=1,   Actual Class=0,   Probability Scores=[0.9061539]\n",
      "Sample 69: Predicted Class=1,   Actual Class=0,   Probability Scores=[0.71241176]\n",
      "Sample 70: Predicted Class=1,   Actual Class=0,   Probability Scores=[0.9200466]\n",
      "Sample 71: Predicted Class=0,   Actual Class=1,   Probability Scores=[0.4628909]\n",
      "Sample 72: Predicted Class=1,   Actual Class=0,   Probability Scores=[0.5331074]\n",
      "Sample 73: Predicted Class=1,   Actual Class=1,   Probability Scores=[0.8806611]\n",
      "Sample 74: Predicted Class=0,   Actual Class=0,   Probability Scores=[0.45792246]\n",
      "Sample 75: Predicted Class=1,   Actual Class=1,   Probability Scores=[0.5701882]\n",
      "Sample 76: Predicted Class=1,   Actual Class=1,   Probability Scores=[0.9168531]\n",
      "Sample 77: Predicted Class=1,   Actual Class=0,   Probability Scores=[0.88829756]\n",
      "Sample 78: Predicted Class=1,   Actual Class=0,   Probability Scores=[0.9444278]\n",
      "Sample 79: Predicted Class=1,   Actual Class=1,   Probability Scores=[0.798121]\n",
      "Sample 80: Predicted Class=1,   Actual Class=0,   Probability Scores=[0.79295003]\n",
      "Sample 81: Predicted Class=0,   Actual Class=0,   Probability Scores=[0.35432443]\n",
      "Sample 82: Predicted Class=1,   Actual Class=0,   Probability Scores=[0.84674037]\n",
      "Sample 83: Predicted Class=1,   Actual Class=0,   Probability Scores=[0.6750632]\n",
      "Sample 84: Predicted Class=0,   Actual Class=1,   Probability Scores=[0.39759067]\n",
      "Sample 85: Predicted Class=0,   Actual Class=1,   Probability Scores=[0.39750528]\n",
      "Sample 86: Predicted Class=0,   Actual Class=1,   Probability Scores=[0.49770272]\n",
      "Sample 87: Predicted Class=0,   Actual Class=0,   Probability Scores=[0.4225122]\n",
      "Sample 88: Predicted Class=0,   Actual Class=0,   Probability Scores=[0.4095651]\n",
      "Sample 89: Predicted Class=0,   Actual Class=0,   Probability Scores=[0.49093568]\n",
      "Sample 90: Predicted Class=1,   Actual Class=1,   Probability Scores=[0.50133115]\n",
      "Sample 91: Predicted Class=1,   Actual Class=0,   Probability Scores=[0.9024674]\n",
      "Sample 92: Predicted Class=0,   Actual Class=1,   Probability Scores=[0.4596974]\n",
      "Sample 93: Predicted Class=1,   Actual Class=1,   Probability Scores=[0.5318678]\n",
      "Sample 94: Predicted Class=0,   Actual Class=0,   Probability Scores=[0.41158974]\n",
      "Sample 95: Predicted Class=0,   Actual Class=0,   Probability Scores=[0.45441192]\n",
      "Sample 96: Predicted Class=1,   Actual Class=0,   Probability Scores=[0.87056947]\n",
      "Sample 97: Predicted Class=1,   Actual Class=0,   Probability Scores=[0.8437724]\n",
      "Sample 98: Predicted Class=0,   Actual Class=0,   Probability Scores=[0.48086938]\n",
      "Sample 99: Predicted Class=1,   Actual Class=1,   Probability Scores=[0.9001623]\n",
      "Sample 100: Predicted Class=1,   Actual Class=1,   Probability Scores=[0.689124]\n",
      "Sample 101: Predicted Class=1,   Actual Class=1,   Probability Scores=[0.883101]\n",
      "Sample 102: Predicted Class=1,   Actual Class=0,   Probability Scores=[0.9158314]\n",
      "Sample 103: Predicted Class=1,   Actual Class=0,   Probability Scores=[0.6218294]\n",
      "Sample 104: Predicted Class=0,   Actual Class=1,   Probability Scores=[0.297262]\n",
      "Sample 105: Predicted Class=1,   Actual Class=1,   Probability Scores=[0.79972744]\n",
      "Sample 106: Predicted Class=1,   Actual Class=1,   Probability Scores=[0.8203243]\n",
      "Sample 107: Predicted Class=1,   Actual Class=0,   Probability Scores=[0.5596526]\n",
      "Sample 108: Predicted Class=0,   Actual Class=1,   Probability Scores=[0.37116444]\n",
      "Sample 109: Predicted Class=1,   Actual Class=0,   Probability Scores=[0.8521548]\n",
      "Sample 110: Predicted Class=1,   Actual Class=1,   Probability Scores=[0.5545646]\n",
      "Sample 111: Predicted Class=1,   Actual Class=0,   Probability Scores=[0.5621575]\n",
      "Sample 112: Predicted Class=1,   Actual Class=1,   Probability Scores=[0.8221236]\n",
      "Sample 113: Predicted Class=0,   Actual Class=0,   Probability Scores=[0.43984643]\n",
      "Sample 114: Predicted Class=1,   Actual Class=0,   Probability Scores=[0.6464385]\n",
      "Sample 115: Predicted Class=0,   Actual Class=1,   Probability Scores=[0.49034804]\n",
      "Sample 116: Predicted Class=0,   Actual Class=1,   Probability Scores=[0.4546561]\n",
      "Sample 117: Predicted Class=1,   Actual Class=1,   Probability Scores=[0.5194266]\n",
      "Sample 118: Predicted Class=1,   Actual Class=0,   Probability Scores=[0.8863589]\n",
      "Sample 119: Predicted Class=1,   Actual Class=0,   Probability Scores=[0.8699386]\n",
      "Sample 120: Predicted Class=1,   Actual Class=0,   Probability Scores=[0.50395054]\n",
      "Sample 121: Predicted Class=1,   Actual Class=0,   Probability Scores=[0.846928]\n",
      "Sample 122: Predicted Class=1,   Actual Class=0,   Probability Scores=[0.7046583]\n",
      "Sample 123: Predicted Class=1,   Actual Class=0,   Probability Scores=[0.6115062]\n",
      "Sample 124: Predicted Class=1,   Actual Class=1,   Probability Scores=[0.7006183]\n",
      "Sample 125: Predicted Class=1,   Actual Class=0,   Probability Scores=[0.56626695]\n",
      "Sample 126: Predicted Class=1,   Actual Class=0,   Probability Scores=[0.8794607]\n",
      "Sample 127: Predicted Class=1,   Actual Class=0,   Probability Scores=[0.5634027]\n",
      "Sample 128: Predicted Class=1,   Actual Class=0,   Probability Scores=[0.84733355]\n",
      "Sample 129: Predicted Class=1,   Actual Class=1,   Probability Scores=[0.66342205]\n",
      "Sample 130: Predicted Class=1,   Actual Class=0,   Probability Scores=[0.8330889]\n",
      "Sample 131: Predicted Class=1,   Actual Class=1,   Probability Scores=[0.53872496]\n",
      "Sample 132: Predicted Class=1,   Actual Class=1,   Probability Scores=[0.55226034]\n",
      "Sample 133: Predicted Class=1,   Actual Class=1,   Probability Scores=[0.90343463]\n",
      "Sample 134: Predicted Class=0,   Actual Class=1,   Probability Scores=[0.38668427]\n",
      "Sample 135: Predicted Class=1,   Actual Class=1,   Probability Scores=[0.88826996]\n",
      "Sample 136: Predicted Class=1,   Actual Class=1,   Probability Scores=[0.5416206]\n",
      "Sample 137: Predicted Class=1,   Actual Class=0,   Probability Scores=[0.54441845]\n",
      "Sample 138: Predicted Class=1,   Actual Class=0,   Probability Scores=[0.9010582]\n",
      "Sample 139: Predicted Class=1,   Actual Class=0,   Probability Scores=[0.53424054]\n",
      "Sample 140: Predicted Class=1,   Actual Class=1,   Probability Scores=[0.75308245]\n",
      "Sample 141: Predicted Class=1,   Actual Class=0,   Probability Scores=[0.87292844]\n",
      "Sample 142: Predicted Class=1,   Actual Class=1,   Probability Scores=[0.6981506]\n",
      "Sample 143: Predicted Class=1,   Actual Class=1,   Probability Scores=[0.5960866]\n",
      "Sample 144: Predicted Class=1,   Actual Class=1,   Probability Scores=[0.9022451]\n",
      "Sample 145: Predicted Class=1,   Actual Class=1,   Probability Scores=[0.64815533]\n",
      "Sample 146: Predicted Class=1,   Actual Class=0,   Probability Scores=[0.8044443]\n",
      "Sample 147: Predicted Class=1,   Actual Class=0,   Probability Scores=[0.8790696]\n",
      "Sample 148: Predicted Class=1,   Actual Class=0,   Probability Scores=[0.8988484]\n",
      "Sample 149: Predicted Class=1,   Actual Class=1,   Probability Scores=[0.8390121]\n",
      "Sample 150: Predicted Class=1,   Actual Class=0,   Probability Scores=[0.8508717]\n",
      "Sample 151: Predicted Class=1,   Actual Class=0,   Probability Scores=[0.5870646]\n",
      "Sample 152: Predicted Class=0,   Actual Class=1,   Probability Scores=[0.43955004]\n",
      "Sample 153: Predicted Class=1,   Actual Class=0,   Probability Scores=[0.89075786]\n",
      "Sample 154: Predicted Class=1,   Actual Class=0,   Probability Scores=[0.60873795]\n",
      "Sample 155: Predicted Class=1,   Actual Class=0,   Probability Scores=[0.5116501]\n",
      "Sample 156: Predicted Class=1,   Actual Class=1,   Probability Scores=[0.8634573]\n",
      "Sample 157: Predicted Class=0,   Actual Class=1,   Probability Scores=[0.44069278]\n",
      "Sample 158: Predicted Class=1,   Actual Class=1,   Probability Scores=[0.90140253]\n",
      "Sample 159: Predicted Class=1,   Actual Class=1,   Probability Scores=[0.7032711]\n",
      "Sample 160: Predicted Class=1,   Actual Class=1,   Probability Scores=[0.6053213]\n"
     ]
    }
   ],
   "source": [
    "predictions = model.predict(valSet)\n",
    "acClass = []\n",
    "for x, labels in valSet:\n",
    "    acClass.extend(labels)\n",
    "\n",
    "for i in range(len(predictions)):\n",
    "    predicted_class = int((predictions[i] > 0.5))\n",
    "    actual_class = acClass[i]\n",
    "    probability_scores = predictions[i]\n",
    "\n",
    "    print(f\"Sample {i + 1}: Predicted Class={predicted_class},   Actual Class={actual_class},   Probability Scores={probability_scores}\")"
   ]
  },
  {
   "cell_type": "code",
   "execution_count": 39,
   "metadata": {},
   "outputs": [
    {
     "data": {
      "image/png": "[encoded data removed]",
      "text/plain": [
       "<Figure size 800x800 with 1 Axes>"
      ]
     },
     "metadata": {},
     "output_type": "display_data"
    }
   ],
   "source": [
    "fpr, tpr, _ = roc_curve(acClass, predictions)\n",
    "roc_auc = auc(fpr, tpr)\n",
    "\n",
    "plt.figure(figsize=(8, 8))\n",
    "plt.plot(fpr, tpr, color='darkorange', lw=2, label='ROC curve (area = {:.2f})'.format(roc_auc))\n",
    "plt.plot([0, 1], [0, 1], color='navy', lw=2, linestyle='--')\n",
    "plt.xlim([0.0, 1.0])\n",
    "plt.ylim([0.0, 1.05])\n",
    "plt.xlabel('False Positive Rate')\n",
    "plt.ylabel('True Positive Rate')\n",
    "plt.title('Receiver Operating Characteristic (ROC) Curve')\n",
    "plt.legend(loc=\"lower right\")\n",
    "plt.show()"
   ]
  },
  {
   "cell_type": "markdown",
   "metadata": {},
   "source": [
    "__<h2>🤖 Data Augmentation 🤖</h2>__"
   ]
  },
  {
   "cell_type": "code",
   "execution_count": 10,
   "metadata": {},
   "outputs": [],
   "source": [
    "def spec_augment(spectrogram, num_mask=2, freq_masking_max_percentage=0.15, time_masking_max_percentage=0.3):\n",
    "    \"\"\"\n",
    "    Apply SpecAugment on a spectrogram.\n",
    "    \n",
    "    Parameters:\n",
    "    - spectrogram: The input spectrogram.\n",
    "    - num_mask: Number of masks to apply for both frequency and time masking.\n",
    "    - freq_masking_max_percentage: Maximum percentage of frequency bands to mask.\n",
    "    - time_masking_max_percentage: Maximum percentage of time steps to mask.\n",
    "    \"\"\"\n",
    "    freq_channels = spectrogram.shape[0]\n",
    "    time_channels = spectrogram.shape[1]\n",
    "    \n",
    "    # Frequency masking\n",
    "    for _ in range(num_mask):\n",
    "        freq_band = np.random.uniform(low=0.0, high=freq_masking_max_percentage * freq_channels)\n",
    "        freq_base = np.random.uniform(low=0.0, high=freq_channels - freq_band)\n",
    "        spectrogram[int(freq_base):int(freq_base+freq_band), :] = 0\n",
    "    \n",
    "    # Time masking\n",
    "    for _ in range(num_mask):\n",
    "        time_band = np.random.uniform(low=0.0, high=time_masking_max_percentage * time_channels)\n",
    "        time_base = np.random.uniform(low=0.0, high=time_channels - time_band)\n",
    "        spectrogram[:, int(time_base):int(time_base+time_band)] = 0\n",
    "    \n",
    "    return spectrogram\n",
    "\n",
    "def data_generator(batch_size, dataset):\n",
    "    \"\"\"\n",
    "    A generator that yields batches of augmented spectrograms.\n",
    "    \n",
    "    Parameters:\n",
    "    - batch_size: Size of the batch.\n",
    "    - dataset: The dataset to iterate over.\n",
    "    \"\"\"\n",
    "    while True:\n",
    "        batch_features = []\n",
    "        batch_labels = []\n",
    "        \n",
    "        for features, label in dataset:\n",
    "            augmented_features = spec_augment(features.numpy())\n",
    "            batch_features.append(augmented_features)\n",
    "            batch_labels.append(label)\n",
    "            \n",
    "            if len(batch_features) == batch_size:\n",
    "                yield np.array(batch_features), np.array(batch_labels)\n",
    "                batch_features = []\n",
    "                batch_labels = []\n",
    "\n",
    "# trainSet object containing your spectrogram data\n",
    "batch_size = 64\n",
    "augmented_train_dataset = data_generator(batch_size, trainSet)\n",
    "augmented_val_dataset = data_generator(batch_size, valSet)"
   ]
  },
  {
   "cell_type": "code",
   "execution_count": 18,
   "metadata": {},
   "outputs": [
    {
     "name": "stdout",
     "output_type": "stream",
     "text": [
      "Total images after augmentation: 160\n"
     ]
    }
   ],
   "source": [
    "file1 = \"Human\"\n",
    "source_dir = \"C:/Users/jeant/OneDrive - Chulalongkorn University/Desktop/Senior Project/Convertor code/Model/data1/validation/{}/\".format(file1)\n",
    "target_dir = \"C:/Users/jeant/OneDrive - Chulalongkorn University/Desktop/Senior Project/Convertor code/Model/data1/augmentedValSet/{}/\".format(file1)\n",
    "os.makedirs(target_dir, exist_ok=True)\n",
    "\n",
    "def save_augmented_images(source_dir, target_dir, augment_function):\n",
    "    image_files = [f for f in os.listdir(source_dir) if f.endswith('.png')]\n",
    "    for image_file in image_files:\n",
    "        # Load the image\n",
    "        image_path = os.path.join(source_dir, image_file)\n",
    "        image = Image.open(image_path)\n",
    "        image_array = np.array(image)\n",
    "\n",
    "        # Augment the image\n",
    "        augmented_image_array = augment_function(image_array)\n",
    "\n",
    "        # Save the augmented image\n",
    "        augmented_image = Image.fromarray(augmented_image_array)\n",
    "        augmented_image_path = os.path.join(target_dir, f\"aug_{image_file}\")\n",
    "        augmented_image.save(augmented_image_path)\n",
    "\n",
    "    print(f\"Total images after augmentation: {len(os.listdir(target_dir))}\")\n",
    "\n",
    "save_augmented_images(source_dir, target_dir, spec_augment)"
   ]
  },
  {
   "cell_type": "code",
   "execution_count": null,
   "metadata": {},
   "outputs": [],
   "source": []
  }
 ],
 "metadata": {
  "kernelspec": {
   "display_name": "Python 3",
   "language": "python",
   "name": "python3"
  },
  "language_info": {
   "codemirror_mode": {
    "name": "ipython",
    "version": 3
   },
   "file_extension": ".py",
   "mimetype": "text/x-python",
   "name": "python",
   "nbconvert_exporter": "python",
   "pygments_lexer": "ipython3",
   "version": "3.10.1"
  }
 },
 "nbformat": 4,
 "nbformat_minor": 2
}
