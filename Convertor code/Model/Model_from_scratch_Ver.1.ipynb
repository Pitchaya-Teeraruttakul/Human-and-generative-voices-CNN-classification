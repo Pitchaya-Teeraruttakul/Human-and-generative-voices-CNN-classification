{
 "cells": [
  {
   "cell_type": "code",
   "execution_count": 6,
   "metadata": {},
   "outputs": [],
   "source": [
    "from matplotlib import pyplot as plt\n",
    "# from google.colab import files\n",
    "import tensorflow as tf\n",
    "import numpy as np\n",
    "import pandas as pd\n",
    "import matplotlib\n",
    "import os\n",
    "\n",
    "from PIL import Image\n",
    "from tensorflow import keras\n",
    "from tensorflow.keras import Sequential, Input, Model\n",
    "from tensorflow.keras.utils import timeseries_dataset_from_array\n",
    "from tensorflow.keras.layers import Dense, Flatten, Softmax, Dropout, Conv2D, MaxPooling2D, BatchNormalization, Activation, AveragePooling2D\n",
    "from tensorflow.keras.layers import RandomFlip, RandomRotation, RandomZoom, Rescaling, RandomWidth, RandomHeight, Lambda\n",
    "from tensorflow.keras.callbacks import EarlyStopping, ModelCheckpoint, ReduceLROnPlateau, LearningRateScheduler\n",
    "from tensorflow.keras.applications.vgg16 import VGG16, preprocess_input, decode_predictions\n",
    "from tensorflow.keras.preprocessing.image import ImageDataGenerator,load_img, img_to_array\n",
    "from tensorflow.keras.layers import SeparableConv2D, add, GlobalAveragePooling2D\n",
    "from tensorflow.keras.utils import image_dataset_from_directory\n",
    "from tensorflow.keras.optimizers import RMSprop, Adam, SGD\n",
    "from tensorflow.keras.regularizers import l2\n",
    "from tensorflow.keras.layers import Dense\n",
    "from tensorflow.keras.models import Sequential\n",
    "from tensorflow.keras.layers import Embedding\n",
    "from tensorflow.keras import layers\n"
   ]
  },
  {
   "cell_type": "markdown",
   "metadata": {},
   "source": [
    "__<H1>Data Collection &#11088;<H1>__"
   ]
  },
  {
   "cell_type": "code",
   "execution_count": 7,
   "metadata": {},
   "outputs": [
    {
     "name": "stdout",
     "output_type": "stream",
     "text": [
      "Collecting gdown\n",
      "  Downloading gdown-5.1.0-py3-none-any.whl.metadata (5.7 kB)\n",
      "Requirement already satisfied: beautifulsoup4 in c:\\users\\jeant\\appdata\\local\\programs\\python\\python310\\lib\\site-packages (from gdown) (4.12.2)\n",
      "Collecting filelock (from gdown)\n",
      "  Downloading filelock-3.13.1-py3-none-any.whl.metadata (2.8 kB)\n",
      "Requirement already satisfied: requests[socks] in c:\\users\\jeant\\appdata\\local\\programs\\python\\python310\\lib\\site-packages (from gdown) (2.28.2)\n",
      "Requirement already satisfied: tqdm in c:\\users\\jeant\\appdata\\local\\programs\\python\\python310\\lib\\site-packages (from gdown) (4.66.1)\n",
      "Requirement already satisfied: soupsieve>1.2 in c:\\users\\jeant\\appdata\\local\\programs\\python\\python310\\lib\\site-packages (from beautifulsoup4->gdown) (2.4.1)\n",
      "Requirement already satisfied: charset-normalizer<4,>=2 in c:\\users\\jeant\\appdata\\local\\programs\\python\\python310\\lib\\site-packages (from requests[socks]->gdown) (3.1.0)\n",
      "Requirement already satisfied: idna<4,>=2.5 in c:\\users\\jeant\\appdata\\local\\programs\\python\\python310\\lib\\site-packages (from requests[socks]->gdown) (3.4)\n",
      "Requirement already satisfied: urllib3<1.27,>=1.21.1 in c:\\users\\jeant\\appdata\\local\\programs\\python\\python310\\lib\\site-packages (from requests[socks]->gdown) (1.26.15)\n",
      "Requirement already satisfied: certifi>=2017.4.17 in c:\\users\\jeant\\appdata\\local\\programs\\python\\python310\\lib\\site-packages (from requests[socks]->gdown) (2022.12.7)\n",
      "Collecting PySocks!=1.5.7,>=1.5.6 (from requests[socks]->gdown)\n",
      "  Downloading PySocks-1.7.1-py3-none-any.whl (16 kB)\n",
      "Requirement already satisfied: colorama in c:\\users\\jeant\\appdata\\local\\programs\\python\\python310\\lib\\site-packages (from tqdm->gdown) (0.4.6)\n",
      "Downloading gdown-5.1.0-py3-none-any.whl (17 kB)\n",
      "Downloading filelock-3.13.1-py3-none-any.whl (11 kB)\n",
      "Installing collected packages: PySocks, filelock, gdown\n",
      "Successfully installed PySocks-1.7.1 filelock-3.13.1 gdown-5.1.0\n"
     ]
    },
    {
     "name": "stderr",
     "output_type": "stream",
     "text": [
      "\n",
      "[notice] A new release of pip is available: 23.3.2 -> 24.0\n",
      "[notice] To update, run: python.exe -m pip install --upgrade pip\n"
     ]
    }
   ],
   "source": [
    "!pip install gdown"
   ]
  },
  {
   "cell_type": "markdown",
   "metadata": {},
   "source": [
    "__<h3>Create file directory for train, test, and validation data set</h3>__"
   ]
  },
  {
   "cell_type": "code",
   "execution_count": 12,
   "metadata": {},
   "outputs": [
    {
     "name": "stdout",
     "output_type": "stream",
     "text": [
      "Finished create file to receive all data !!\n"
     ]
    }
   ],
   "source": [
    "import shutil\n",
    "baseDir = \"C:/Users/jeant/OneDrive - Chulalongkorn University/Desktop/Senior Project/Convertor code/Model/data\"\n",
    "os.mkdir(baseDir)\n",
    "\n",
    "trainDir = os.path.join(baseDir, 'train')\n",
    "os.mkdir(trainDir)\n",
    "\n",
    "validationDir = os.path.join(baseDir, 'validation')\n",
    "os.mkdir(validationDir)\n",
    "\n",
    "testDir = os.path.join(baseDir, 'test')\n",
    "os.mkdir(testDir)\n",
    "\n",
    "trainHumanDir = os.path.join(trainDir, 'Human')\n",
    "os.mkdir(trainHumanDir)\n",
    "\n",
    "trainAIDir = os.path.join(trainDir, 'AI')\n",
    "os.mkdir(trainAIDir)\n",
    "\n",
    "validationHumanDir = os.path.join(validationDir, 'Human')\n",
    "os.mkdir(validationHumanDir)\n",
    "\n",
    "validationAIDir = os.path.join(validationDir, 'AI')\n",
    "os.mkdir(validationAIDir)\n",
    "\n",
    "testHumanDir = os.path.join(testDir, 'Human')\n",
    "os.mkdir(testHumanDir)\n",
    "\n",
    "testAIDir = os.path.join(testDir, 'AI')\n",
    "os.mkdir(testAIDir)\n",
    "\n",
    "print(\"Finished create file to receive all data !!\")"
   ]
  },
  {
   "cell_type": "markdown",
   "metadata": {},
   "source": [
    "__<h2>👻 Copies data to each file 👻</h2>__"
   ]
  },
  {
   "cell_type": "code",
   "execution_count": 13,
   "metadata": {},
   "outputs": [],
   "source": [
    "HumanDataDir = \"C:/Users/jeant/OneDrive - Chulalongkorn University/Desktop/Senior Project/Dataset/Human Ver.2 Mix Pic/\"\n",
    "AIDataDir = \"C:/Users/jeant/OneDrive - Chulalongkorn University/Desktop/Senior Project/Dataset/AI Ver.2 Mix Pic/\""
   ]
  },
  {
   "cell_type": "code",
   "execution_count": 15,
   "metadata": {},
   "outputs": [],
   "source": [
    "# Copies AI voice Spectrogram \n",
    "\n",
    "fnames = ['AI{}.png'.format(i+1) for i in range(240)]\n",
    "for fname in fnames:\n",
    "  src = os.path.join(AIDataDir, fname)\n",
    "  dst = os.path.join(trainAIDir, fname)\n",
    "  shutil.copyfile(src, dst)\n",
    "\n",
    "\n",
    "fnames = ['AI{}.png'.format(i+1) for i in range(240, 320)]\n",
    "for fname in fnames:\n",
    "  src = os.path.join(AIDataDir, fname)\n",
    "  dst = os.path.join(validationAIDir, fname)\n",
    "  shutil.copyfile(src, dst)\n",
    "\n",
    "\n",
    "fnames = ['AI{}.png'.format(i+1) for i in range(320, 400)]\n",
    "for fname in fnames:\n",
    "  src = os.path.join(AIDataDir, fname)\n",
    "  dst = os.path.join(testAIDir, fname)\n",
    "  shutil.copyfile(src, dst)\n",
    "\n",
    "\n",
    "# Copies Human voice Spectrogram \n",
    "  \n",
    "fnames = ['Human{}.png'.format(i+1) for i in range(240)]\n",
    "for fname in fnames:\n",
    "  src = os.path.join(HumanDataDir, fname)\n",
    "  dst = os.path.join(trainHumanDir, fname)\n",
    "  shutil.copyfile(src, dst)\n",
    "\n",
    "\n",
    "fnames = ['Human{}.png'.format(i+1) for i in range(240, 320)]\n",
    "for fname in fnames:\n",
    "  src = os.path.join(HumanDataDir, fname)\n",
    "  dst = os.path.join(validationHumanDir, fname)\n",
    "  shutil.copyfile(src, dst)\n",
    "\n",
    "\n",
    "fnames = ['Human{}.png'.format(i+1) for i in range(320, 400)]\n",
    "for fname in fnames:\n",
    "  src = os.path.join(HumanDataDir, fname)\n",
    "  dst = os.path.join(testHumanDir, fname)\n",
    "  shutil.copyfile(src, dst)"
   ]
  },
  {
   "cell_type": "code",
   "execution_count": 16,
   "metadata": {},
   "outputs": [
    {
     "name": "stdout",
     "output_type": "stream",
     "text": [
      "total training AI voice images: 300\n",
      "total training Human voice images: 300\n",
      "total validation AI voice images: 50\n",
      "total validation Human voice images: 50\n",
      "total test AI voice images: 50\n",
      "total test Human voice images: 50\n"
     ]
    }
   ],
   "source": [
    "print('total training AI voice images:', len(os.listdir(trainAIDir)))\n",
    "print('total training Human voice images:', len(os.listdir(trainHumanDir)))\n",
    "print('total validation AI voice images:', len(os.listdir(validationAIDir)))\n",
    "print('total validation Human voice images:', len(os.listdir(validationHumanDir)))\n",
    "print('total test AI voice images:', len(os.listdir(testAIDir)))\n",
    "print('total test Human voice images:', len(os.listdir(testHumanDir)))"
   ]
  },
  {
   "cell_type": "markdown",
   "metadata": {},
   "source": [
    "__<h3>Check Data Set</h3>__"
   ]
  },
  {
   "cell_type": "code",
   "execution_count": 17,
   "metadata": {},
   "outputs": [
    {
     "name": "stdout",
     "output_type": "stream",
     "text": [
      "Found 600 files belonging to 2 classes.\n",
      "Found 100 files belonging to 2 classes.\n",
      "Found 100 files belonging to 2 classes.\n"
     ]
    }
   ],
   "source": [
    "trainSet = image_dataset_from_directory(\n",
    "    trainDir,\n",
    "    image_size = (224,224),\n",
    "    batch_size = 64\n",
    ")\n",
    "valSet = image_dataset_from_directory(\n",
    "    validationDir,\n",
    "    image_size = (224,224),\n",
    "    batch_size = 64\n",
    ")\n",
    "testSet = image_dataset_from_directory(\n",
    "    testDir,\n",
    "    image_size = (224,224),\n",
    "    batch_size = 64\n",
    ")"
   ]
  },
  {
   "cell_type": "code",
   "execution_count": 18,
   "metadata": {},
   "outputs": [
    {
     "name": "stdout",
     "output_type": "stream",
     "text": [
      "data batch shape (64, 224, 224, 3)\n",
      "label batch shape (64,)\n",
      "labels_batch tf.Tensor(\n",
      "[1 0 1 1 0 0 0 1 0 0 0 0 1 0 1 1 1 0 0 0 1 1 0 1 0 0 0 1 1 0 1 0 0 0 0 0 0\n",
      " 0 1 0 0 1 0 1 0 1 1 1 1 0 0 0 0 0 0 1 0 0 0 1 1 1 0 1], shape=(64,), dtype=int32)\n"
     ]
    }
   ],
   "source": [
    "for data_batch, labels_batch in trainSet.take(1):\n",
    "  print(\"data batch shape\", data_batch.shape) # 64 224x224 3 c channels\n",
    "  print(\"label batch shape\", labels_batch.shape)\n",
    "  print(\"labels_batch\", labels_batch) # 0 AI, 1 Human"
   ]
  },
  {
   "cell_type": "markdown",
   "metadata": {},
   "source": [
    "__<h2>Call Back 👹</h2>__"
   ]
  },
  {
   "cell_type": "code",
   "execution_count": 19,
   "metadata": {},
   "outputs": [],
   "source": [
    "early_stopping_cb = EarlyStopping(monitor='val_accuracy', patience=5, restore_best_weights=True)\n",
    "model_checkpoint_cb1 = ModelCheckpoint('model_scratch/woaugment', monitor='val_loss',save_best_only=True, save_weights_only=True)\n",
    "model_checkpoint_cb2 = ModelCheckpoint('model_scratch/waugment', monitor='val_loss',save_best_only=True, save_weights_only=True)\n",
    "model_checkpoint_cb3 = ModelCheckpoint('model_feature_extraction/woaugment', monitor='val_loss',save_best_only=True, save_weights_only=True)\n",
    "model_checkpoint_cb4 = ModelCheckpoint('model_feature_extraction/waugment', monitor='val_loss',save_best_only=True, save_weights_only=True)\n",
    "model_checkpoint_cb5 = ModelCheckpoint('model_fine_tuning/woaugment', monitor='val_loss',save_best_only=True,save_weights_only=True)\n",
    "model_checkpoint_cb6 = ModelCheckpoint('model_fine_tuning/waugment', monitor='val_loss',save_best_only=True,save_weights_only=True)\n",
    "reduce_lr_cb = ReduceLROnPlateau(min_lr=0.001)"
   ]
  },
  {
   "cell_type": "markdown",
   "metadata": {},
   "source": [
    "__<h2>Build Model 🫠</h2>__"
   ]
  },
  {
   "cell_type": "markdown",
   "metadata": {},
   "source": [
    "__<h4>Let's Try Train from scratch</h4>__"
   ]
  },
  {
   "cell_type": "code",
   "execution_count": 20,
   "metadata": {},
   "outputs": [],
   "source": [
    "def build_model_scratch1():\n",
    "  model = Sequential()\n",
    "  model.add(Conv2D(filters=32,kernel_size=3,padding='same',activation='relu',input_shape=(224,224,3)))\n",
    "  model.add(BatchNormalization())\n",
    "  model.add(Dropout(0.3))\n",
    "\n",
    "  model.add(Conv2D(filters=32,kernel_size=3,padding='same',activation='relu'))\n",
    "  model.add(MaxPooling2D(pool_size=2))\n",
    "  model.add(BatchNormalization())\n",
    "  model.add(Dropout(0.3))\n",
    "\n",
    "  model.add(Conv2D(filters=64,kernel_size=3,padding='same',activation='relu'))\n",
    "  model.add(BatchNormalization())\n",
    "  model.add(Dropout(0.3))\n",
    "  model.add(Conv2D(filters=64,kernel_size=3,padding='same',activation='relu'))\n",
    "  model.add(MaxPooling2D(pool_size=2))\n",
    "  model.add(BatchNormalization())\n",
    "  model.add(Dropout(0.3))\n",
    "\n",
    "  model.add(Conv2D(filters=128,kernel_size=3,padding='same',activation='relu'))\n",
    "  model.add(BatchNormalization())\n",
    "  model.add(Dropout(0.3))\n",
    "  model.add(Conv2D(filters=128,kernel_size=3,padding='same',activation='relu'))\n",
    "  model.add(MaxPooling2D(pool_size=2))\n",
    "  model.add(BatchNormalization())\n",
    "  model.add(Dropout(0.3))\n",
    "\n",
    "  model.add(Flatten())\n",
    "  model.add(BatchNormalization())\n",
    "  model.add(Dense(500, activation='relu'))\n",
    "  model.add(BatchNormalization())\n",
    "  model.add(Dropout(0.3))\n",
    "  model.add(Dense(1, activation='sigmoid'))\n",
    "\n",
    "  return model"
   ]
  },
  {
   "cell_type": "code",
   "execution_count": 21,
   "metadata": {},
   "outputs": [
    {
     "name": "stdout",
     "output_type": "stream",
     "text": [
      "Epoch 1/20\n",
      "10/10 [==============================] - 91s 8s/step - loss: 0.2121 - accuracy: 0.9183 - val_loss: 245.9328 - val_accuracy: 0.5000 - lr: 0.0010\n",
      "Epoch 2/20\n",
      "10/10 [==============================] - 84s 8s/step - loss: 0.0141 - accuracy: 0.9933 - val_loss: 116.1221 - val_accuracy: 0.5000 - lr: 0.0010\n",
      "Epoch 3/20\n",
      "10/10 [==============================] - 84s 8s/step - loss: 0.0248 - accuracy: 0.9933 - val_loss: 70.9115 - val_accuracy: 0.5000 - lr: 0.0010\n",
      "Epoch 4/20\n",
      "10/10 [==============================] - 85s 8s/step - loss: 0.0165 - accuracy: 0.9967 - val_loss: 29.9583 - val_accuracy: 0.5000 - lr: 0.0010\n",
      "Epoch 5/20\n",
      "10/10 [==============================] - 85s 8s/step - loss: 0.0115 - accuracy: 0.9950 - val_loss: 2.0478 - val_accuracy: 0.6900 - lr: 0.0010\n",
      "Epoch 6/20\n",
      "10/10 [==============================] - 78s 8s/step - loss: 0.0096 - accuracy: 0.9950 - val_loss: 13.8593 - val_accuracy: 0.5000 - lr: 0.0010\n",
      "Epoch 7/20\n",
      "10/10 [==============================] - 75s 7s/step - loss: 0.0121 - accuracy: 0.9950 - val_loss: 21.4240 - val_accuracy: 0.5000 - lr: 0.0010\n",
      "Epoch 8/20\n",
      "10/10 [==============================] - 76s 8s/step - loss: 0.0050 - accuracy: 0.9983 - val_loss: 21.6682 - val_accuracy: 0.5000 - lr: 0.0010\n",
      "Epoch 9/20\n",
      "10/10 [==============================] - 77s 8s/step - loss: 4.6445e-04 - accuracy: 1.0000 - val_loss: 22.0304 - val_accuracy: 0.5000 - lr: 0.0010\n",
      "Epoch 10/20\n",
      "10/10 [==============================] - 78s 8s/step - loss: 0.0182 - accuracy: 0.9950 - val_loss: 22.9108 - val_accuracy: 0.5000 - lr: 0.0010\n",
      "Epoch 11/20\n",
      "10/10 [==============================] - 77s 8s/step - loss: 0.0097 - accuracy: 0.9950 - val_loss: 21.8082 - val_accuracy: 0.5000 - lr: 0.0010\n",
      "Epoch 12/20\n",
      "10/10 [==============================] - 76s 7s/step - loss: 0.0019 - accuracy: 1.0000 - val_loss: 21.3393 - val_accuracy: 0.5000 - lr: 0.0010\n",
      "Epoch 13/20\n",
      "10/10 [==============================] - 76s 7s/step - loss: 0.0128 - accuracy: 0.9967 - val_loss: 20.9304 - val_accuracy: 0.5000 - lr: 0.0010\n",
      "Epoch 14/20\n",
      "10/10 [==============================] - 76s 7s/step - loss: 0.0014 - accuracy: 1.0000 - val_loss: 20.6423 - val_accuracy: 0.5000 - lr: 0.0010\n",
      "Epoch 15/20\n",
      "10/10 [==============================] - 75s 7s/step - loss: 0.0030 - accuracy: 0.9983 - val_loss: 19.3644 - val_accuracy: 0.5000 - lr: 0.0010\n",
      "Epoch 16/20\n",
      "10/10 [==============================] - 75s 7s/step - loss: 7.6729e-04 - accuracy: 1.0000 - val_loss: 18.6315 - val_accuracy: 0.5000 - lr: 0.0010\n",
      "Epoch 17/20\n",
      "10/10 [==============================] - 79s 8s/step - loss: 1.2500e-04 - accuracy: 1.0000 - val_loss: 18.2614 - val_accuracy: 0.5000 - lr: 0.0010\n",
      "Epoch 18/20\n",
      "10/10 [==============================] - 78s 8s/step - loss: 3.8785e-04 - accuracy: 1.0000 - val_loss: 17.9033 - val_accuracy: 0.5000 - lr: 0.0010\n",
      "Epoch 19/20\n",
      "10/10 [==============================] - 81s 8s/step - loss: 7.2278e-05 - accuracy: 1.0000 - val_loss: 17.7466 - val_accuracy: 0.5000 - lr: 0.0010\n",
      "Epoch 20/20\n",
      "10/10 [==============================] - 75s 7s/step - loss: 6.3065e-04 - accuracy: 1.0000 - val_loss: 18.1648 - val_accuracy: 0.5000 - lr: 0.0010\n"
     ]
    }
   ],
   "source": [
    "model = build_model_scratch1() # train without data Augmentation\n",
    "\n",
    "model.compile(optimizer=Adam(learning_rate=0.001, beta_1=0.9, beta_2=0.999),\n",
    "                loss='binary_crossentropy', \n",
    "                metrics=['accuracy']) # 0 1 learning rate?\n",
    "\n",
    "history = model.fit(trainSet, epochs=20, validation_data=valSet, verbose=1,\n",
    "                    callbacks=[model_checkpoint_cb1,reduce_lr_cb])"
   ]
  },
  {
   "cell_type": "code",
   "execution_count": 22,
   "metadata": {},
   "outputs": [
    {
     "data": {
      "image/png": "[encoded data removed]",
      "text/plain": [
       "<Figure size 640x480 with 1 Axes>"
      ]
     },
     "metadata": {},
     "output_type": "display_data"
    }
   ],
   "source": [
    "plt.plot(history.history['loss'], label = 'loss')\n",
    "plt.plot(history.history['val_loss'], label = 'val_loss')\n",
    "plt.plot(history.history['accuracy'], label = 'acc')\n",
    "plt.plot(history.history['val_accuracy'], label = 'val_acc')\n",
    "plt.title('Loss, Accuracy vs Epochs')\n",
    "plt.xlabel(\"Epochs\")\n",
    "plt.ylabel(\"Accuracy\")\n",
    "plt.legend()\n",
    "plt.show()"
   ]
  },
  {
   "cell_type": "code",
   "execution_count": 23,
   "metadata": {},
   "outputs": [
    {
     "name": "stdout",
     "output_type": "stream",
     "text": [
      "2/2 [==============================] - 2s 544ms/step - loss: 17.8151 - accuracy: 0.5000\n",
      "test_oss: 17.815074920654297\n",
      "test_acc: 0.5\n"
     ]
    }
   ],
   "source": [
    "loss, acc = model.evaluate(testSet)\n",
    "print('test_oss:', loss)\n",
    "print('test_acc:', acc)"
   ]
  },
  {
   "cell_type": "code",
   "execution_count": 32,
   "metadata": {},
   "outputs": [
    {
     "name": "stdout",
     "output_type": "stream",
     "text": [
      "Found 600 images belonging to 2 classes.\n"
     ]
    }
   ],
   "source": [
    "# data augmentation\n",
    "datagen = ImageDataGenerator(\n",
    "rescale=1./255, \n",
    "rotation_range=15, # random rotation up to x degrees\n",
    "width_shift_range=0.1, # \n",
    "height_shift_range=0.1,\n",
    "horizontal_flip=True, # horizontal flip\n",
    "vertical_flip=False # vartival flip\n",
    ")\n",
    "\n",
    "# prepare iterator\n",
    "it_train = datagen.flow_from_directory(\n",
    "   trainDir,\n",
    "   target_size=(224, 224),\n",
    "   batch_size=64,\n",
    "   class_mode='binary') # binary class"
   ]
  },
  {
   "cell_type": "code",
   "execution_count": null,
   "metadata": {},
   "outputs": [],
   "source": [
    "# train with data augmentation\n",
    "# model = build_model()\n",
    "\n",
    "# model.compile(optimizer=Adam(learning_rate=0.001, beta_1=0.9, beta_2=0.999),\n",
    "#                loss='binary_crossentropy',\n",
    "#                metrics=['accuracy'])\n",
    "\n",
    "# history = model.fit(it_train, epochs=50, validation_data=valSet, verbose=1,steps_per_epoch=2000//64,\n",
    "#                    callbacks=[model_checkpoint_cb2,reduce_lr_cb])"
   ]
  },
  {
   "cell_type": "code",
   "execution_count": 33,
   "metadata": {},
   "outputs": [],
   "source": [
    "data_augmentation = Sequential(\n",
    "  [\n",
    "    RandomRotation(0.1),\n",
    "    RandomZoom(0.2),\n",
    "    RandomFlip('horizontal')\n",
    "  ]\n",
    ")\n",
    "\n",
    "# training from scratch\n",
    "def build_model_scratch2():\n",
    "  model = Sequential()\n",
    "  model.add(Input((224,224,3)))\n",
    "  model.add(data_augmentation) # \n",
    "  model.add(Rescaling(1./255)) #\n",
    "  \n",
    "  model.add(Conv2D(filters=32,kernel_size=3,padding='same',activation='relu'))\n",
    "  model.add(BatchNormalization())\n",
    "  model.add(Dropout(0.3))\n",
    "\n",
    "  model.add(Conv2D(filters=32,kernel_size=3,padding='same',activation='relu'))\n",
    "  model.add(MaxPooling2D(pool_size=2))\n",
    "  model.add(BatchNormalization())\n",
    "  model.add(Dropout(0.3))\n",
    "\n",
    "  # model.add(Conv2D(filters=64,kernel_size=3,padding='same',activation='relu'))\n",
    "  # model.add(BatchNormalization())\n",
    "  # model.add(Dropout(0.3))\n",
    "\n",
    "  # model.add(Conv2D(filters=64,kernel_size=3,padding='same',activation='relu'))\n",
    "  # model.add(MaxPooling2D(pool_size=2))\n",
    "  # model.add(BatchNormalization())\n",
    "  # model.add(Dropout(0.3))\n",
    "\n",
    "  # model.add(Conv2D(filters=128,kernel_size=3,padding='same',activation='relu'))\n",
    "  # model.add(BatchNormalization())\n",
    "  # model.add(Dropout(0.3))\n",
    "  \n",
    "  # model.add(Conv2D(filters=128,kernel_size=3,padding='same',activation='relu'))\n",
    "  # model.add(MaxPooling2D(pool_size=2))\n",
    "  # model.add(BatchNormalization())\n",
    "  # model.add(Dropout(0.3))\n",
    "\n",
    "  model.add(Flatten())\n",
    "  model.add(BatchNormalization())\n",
    "  model.add(Dense(500, activation='relu'))\n",
    "  model.add(BatchNormalization())\n",
    "  model.add(Dropout(0.3))\n",
    "  model.add(Dense(1, activation='sigmoid'))\n",
    "\n",
    "  return model"
   ]
  },
  {
   "cell_type": "code",
   "execution_count": 34,
   "metadata": {},
   "outputs": [
    {
     "name": "stdout",
     "output_type": "stream",
     "text": [
      "Model: \"sequential_5\"\n",
      "_________________________________________________________________\n",
      " Layer (type)                Output Shape              Param #   \n",
      "=================================================================\n",
      " sequential_4 (Sequential)   (None, 224, 224, 3)       0         \n",
      "                                                                 \n",
      " rescaling_2 (Rescaling)     (None, 224, 224, 3)       0         \n",
      "                                                                 \n",
      " conv2d_18 (Conv2D)          (None, 224, 224, 32)      896       \n",
      "                                                                 \n",
      " batch_normalization_24 (Ba  (None, 224, 224, 32)      128       \n",
      " tchNormalization)                                               \n",
      "                                                                 \n",
      " dropout_21 (Dropout)        (None, 224, 224, 32)      0         \n",
      "                                                                 \n",
      " conv2d_19 (Conv2D)          (None, 224, 224, 32)      9248      \n",
      "                                                                 \n",
      " max_pooling2d_9 (MaxPoolin  (None, 112, 112, 32)      0         \n",
      " g2D)                                                            \n",
      "                                                                 \n",
      " batch_normalization_25 (Ba  (None, 112, 112, 32)      128       \n",
      " tchNormalization)                                               \n",
      "                                                                 \n",
      " dropout_22 (Dropout)        (None, 112, 112, 32)      0         \n",
      "                                                                 \n",
      " flatten_3 (Flatten)         (None, 401408)            0         \n",
      "                                                                 \n",
      " batch_normalization_26 (Ba  (None, 401408)            1605632   \n",
      " tchNormalization)                                               \n",
      "                                                                 \n",
      " dense_6 (Dense)             (None, 500)               200704500 \n",
      "                                                                 \n",
      " batch_normalization_27 (Ba  (None, 500)               2000      \n",
      " tchNormalization)                                               \n",
      "                                                                 \n",
      " dropout_23 (Dropout)        (None, 500)               0         \n",
      "                                                                 \n",
      " dense_7 (Dense)             (None, 1)                 501       \n",
      "                                                                 \n",
      "=================================================================\n",
      "Total params: 202323033 (771.80 MB)\n",
      "Trainable params: 201519089 (768.73 MB)\n",
      "Non-trainable params: 803944 (3.07 MB)\n",
      "_________________________________________________________________\n",
      "Epoch 1/20\n",
      "10/10 [==============================] - 89s 8s/step - loss: 2.1043 - accuracy: 0.7567 - val_loss: 0.7149 - val_accuracy: 0.7400\n",
      "Epoch 2/20\n",
      "10/10 [==============================] - 69s 7s/step - loss: 1.1825 - accuracy: 0.8383 - val_loss: 4.0035 - val_accuracy: 0.5000\n",
      "Epoch 3/20\n",
      "10/10 [==============================] - 67s 7s/step - loss: 0.6096 - accuracy: 0.8683 - val_loss: 5.8453 - val_accuracy: 0.5000\n",
      "Epoch 4/20\n",
      "10/10 [==============================] - 62s 6s/step - loss: 0.3166 - accuracy: 0.8867 - val_loss: 5.5180 - val_accuracy: 0.5000\n",
      "Epoch 5/20\n",
      "10/10 [==============================] - 57s 6s/step - loss: 0.2196 - accuracy: 0.9117 - val_loss: 4.6036 - val_accuracy: 0.5000\n",
      "Epoch 6/20\n",
      "10/10 [==============================] - 58s 6s/step - loss: 0.1991 - accuracy: 0.9150 - val_loss: 4.2371 - val_accuracy: 0.5000\n",
      "Epoch 7/20\n",
      "10/10 [==============================] - 57s 6s/step - loss: 0.1707 - accuracy: 0.9317 - val_loss: 3.5905 - val_accuracy: 0.5000\n",
      "Epoch 8/20\n",
      "10/10 [==============================] - 57s 6s/step - loss: 0.1564 - accuracy: 0.9333 - val_loss: 3.8388 - val_accuracy: 0.5000\n",
      "Epoch 9/20\n",
      "10/10 [==============================] - 58s 6s/step - loss: 0.1270 - accuracy: 0.9483 - val_loss: 3.7509 - val_accuracy: 0.5000\n",
      "Epoch 10/20\n",
      "10/10 [==============================] - 57s 6s/step - loss: 0.1329 - accuracy: 0.9533 - val_loss: 4.0933 - val_accuracy: 0.5000\n",
      "Epoch 11/20\n",
      "10/10 [==============================] - 59s 6s/step - loss: 0.1087 - accuracy: 0.9550 - val_loss: 4.4335 - val_accuracy: 0.5000\n",
      "Epoch 12/20\n",
      "10/10 [==============================] - 58s 6s/step - loss: 0.1323 - accuracy: 0.9467 - val_loss: 3.2068 - val_accuracy: 0.5000\n",
      "Epoch 13/20\n",
      "10/10 [==============================] - 57s 6s/step - loss: 0.0852 - accuracy: 0.9600 - val_loss: 3.1460 - val_accuracy: 0.5000\n",
      "Epoch 14/20\n",
      "10/10 [==============================] - 57s 6s/step - loss: 0.0900 - accuracy: 0.9650 - val_loss: 2.7801 - val_accuracy: 0.5000\n",
      "Epoch 15/20\n",
      "10/10 [==============================] - 57s 6s/step - loss: 0.0737 - accuracy: 0.9750 - val_loss: 2.9839 - val_accuracy: 0.5000\n",
      "Epoch 16/20\n",
      "10/10 [==============================] - 57s 6s/step - loss: 0.0954 - accuracy: 0.9667 - val_loss: 3.6021 - val_accuracy: 0.5000\n",
      "Epoch 17/20\n",
      "10/10 [==============================] - 61s 6s/step - loss: 0.1020 - accuracy: 0.9683 - val_loss: 3.3039 - val_accuracy: 0.5000\n",
      "Epoch 18/20\n",
      "10/10 [==============================] - 59s 6s/step - loss: 0.0751 - accuracy: 0.9800 - val_loss: 3.0070 - val_accuracy: 0.5000\n",
      "Epoch 19/20\n",
      "10/10 [==============================] - 57s 6s/step - loss: 0.1111 - accuracy: 0.9600 - val_loss: 1.7812 - val_accuracy: 0.5000\n",
      "Epoch 20/20\n",
      "10/10 [==============================] - 57s 6s/step - loss: 0.1082 - accuracy: 0.9617 - val_loss: 2.4217 - val_accuracy: 0.5000\n"
     ]
    }
   ],
   "source": [
    "# train with data augmentation\n",
    "model = build_model_scratch2()\n",
    "model.summary()\n",
    "model.compile(optimizer=Adam(learning_rate=0.001, beta_1=0.9, beta_2=0.999),\n",
    "                loss='binary_crossentropy',\n",
    "                metrics=['accuracy'])\n",
    "\n",
    "# history = model.fit(trainSet, epochs=10, validation_data=valSet, verbose=1,\n",
    "#                     callbacks=[model_checkpoint_cb2,reduce_lr_cb])\n",
    "\n",
    "history = model.fit(trainSet, epochs=20, validation_data=valSet, verbose=1)"
   ]
  },
  {
   "cell_type": "code",
   "execution_count": 38,
   "metadata": {},
   "outputs": [
    {
     "data": {
      "image/png": "[encoded data removed]",
      "text/plain": [
       "<Figure size 640x480 with 1 Axes>"
      ]
     },
     "metadata": {},
     "output_type": "display_data"
    },
    {
     "data": {
      "image/png": "[encoded data removed]",
      "text/plain": [
       "<Figure size 640x480 with 1 Axes>"
      ]
     },
     "metadata": {},
     "output_type": "display_data"
    }
   ],
   "source": [
    "plt.plot(history.history['loss'], label = 'loss')\n",
    "plt.plot(history.history['val_loss'], label = 'val_loss')\n",
    "plt.title('Loss vs Epochs')\n",
    "plt.xlabel(\"Epochs\")\n",
    "plt.ylabel(\"Loss\")\n",
    "plt.legend()\n",
    "plt.show()\n",
    "plt.plot(history.history['accuracy'], label = 'acc')\n",
    "plt.plot(history.history['val_accuracy'], label = 'val_acc')\n",
    "plt.title('Accuracy vs Epochs')\n",
    "plt.xlabel(\"Epochs\")\n",
    "plt.ylabel(\"Accuracy\")\n",
    "plt.legend()\n",
    "plt.show()"
   ]
  },
  {
   "cell_type": "markdown",
   "metadata": {},
   "source": [
    "<H1>🤮🫠<H1>"
   ]
  },
  {
   "cell_type": "code",
   "execution_count": 36,
   "metadata": {},
   "outputs": [
    {
     "name": "stdout",
     "output_type": "stream",
     "text": [
      "2/2 [==============================] - 1s 376ms/step - loss: 2.3620 - accuracy: 0.5000\n",
      "test_oss: 2.3619771003723145\n",
      "test_acc: 0.5\n"
     ]
    }
   ],
   "source": [
    "# test set\n",
    "loss, acc = model.evaluate(testSet)\n",
    "print('test_oss:', loss)\n",
    "print('test_acc:', acc)"
   ]
  },
  {
   "cell_type": "code",
   "execution_count": 30,
   "metadata": {},
   "outputs": [
    {
     "name": "stdout",
     "output_type": "stream",
     "text": [
      "Downloading data from https://storage.googleapis.com/tensorflow/keras-applications/vgg16/vgg16_weights_tf_dim_ordering_tf_kernels.h5\n",
      "553467096/553467096 [==============================] - 25s 0us/step\n",
      "Model: \"vgg16\"\n",
      "_________________________________________________________________\n",
      " Layer (type)                Output Shape              Param #   \n",
      "=================================================================\n",
      " input_3 (InputLayer)        [(None, 224, 224, 3)]     0         \n",
      "                                                                 \n",
      " block1_conv1 (Conv2D)       (None, 224, 224, 64)      1792      \n",
      "                                                                 \n",
      " block1_conv2 (Conv2D)       (None, 224, 224, 64)      36928     \n",
      "                                                                 \n",
      " block1_pool (MaxPooling2D)  (None, 112, 112, 64)      0         \n",
      "                                                                 \n",
      " block2_conv1 (Conv2D)       (None, 112, 112, 128)     73856     \n",
      "                                                                 \n",
      " block2_conv2 (Conv2D)       (None, 112, 112, 128)     147584    \n",
      "                                                                 \n",
      " block2_pool (MaxPooling2D)  (None, 56, 56, 128)       0         \n",
      "                                                                 \n",
      " block3_conv1 (Conv2D)       (None, 56, 56, 256)       295168    \n",
      "                                                                 \n",
      " block3_conv2 (Conv2D)       (None, 56, 56, 256)       590080    \n",
      "                                                                 \n",
      " block3_conv3 (Conv2D)       (None, 56, 56, 256)       590080    \n",
      "                                                                 \n",
      " block3_pool (MaxPooling2D)  (None, 28, 28, 256)       0         \n",
      "                                                                 \n",
      " block4_conv1 (Conv2D)       (None, 28, 28, 512)       1180160   \n",
      "                                                                 \n",
      " block4_conv2 (Conv2D)       (None, 28, 28, 512)       2359808   \n",
      "                                                                 \n",
      " block4_conv3 (Conv2D)       (None, 28, 28, 512)       2359808   \n",
      "                                                                 \n",
      " block4_pool (MaxPooling2D)  (None, 14, 14, 512)       0         \n",
      "                                                                 \n",
      " block5_conv1 (Conv2D)       (None, 14, 14, 512)       2359808   \n",
      "                                                                 \n",
      " block5_conv2 (Conv2D)       (None, 14, 14, 512)       2359808   \n",
      "                                                                 \n",
      " block5_conv3 (Conv2D)       (None, 14, 14, 512)       2359808   \n",
      "                                                                 \n",
      " block5_pool (MaxPooling2D)  (None, 7, 7, 512)         0         \n",
      "                                                                 \n",
      " flatten (Flatten)           (None, 25088)             0         \n",
      "                                                                 \n",
      " fc1 (Dense)                 (None, 4096)              102764544 \n",
      "                                                                 \n",
      " fc2 (Dense)                 (None, 4096)              16781312  \n",
      "                                                                 \n",
      " predictions (Dense)         (None, 1000)              4097000   \n",
      "                                                                 \n",
      "=================================================================\n",
      "Total params: 138357544 (527.79 MB)\n",
      "Trainable params: 138357544 (527.79 MB)\n",
      "Non-trainable params: 0 (0.00 Byte)\n",
      "_________________________________________________________________\n"
     ]
    }
   ],
   "source": [
    "model = VGG16(weights=\"imagenet\", include_top=True,input_shape=(224,224,3))\n",
    "model.summary()"
   ]
  },
  {
   "cell_type": "code",
   "execution_count": null,
   "metadata": {},
   "outputs": [],
   "source": [
    "# load an image from a file\n",
    "image = load_img('S__5988354.jpg',target_size=(224,224))\n",
    "# convert the image pixels to a numpy array\n",
    "image = img_to_array(image)\n",
    "plt.imshow(image/255)\n",
    "\n",
    "# reshape data for the model\n",
    "image = image.reshape((1,image.shape[0],image.shape[1],image.shape[2]))\n",
    "# print(image.shape) #(1, 224, 224, 3)\n",
    "# BGR and zero-centered\n",
    "image = preprocess_input(image)\n",
    "image"
   ]
  },
  {
   "cell_type": "code",
   "execution_count": null,
   "metadata": {},
   "outputs": [],
   "source": []
  }
 ],
 "metadata": {
  "kernelspec": {
   "display_name": "Python 3",
   "language": "python",
   "name": "python3"
  },
  "language_info": {
   "codemirror_mode": {
    "name": "ipython",
    "version": 3
   },
   "file_extension": ".py",
   "mimetype": "text/x-python",
   "name": "python",
   "nbconvert_exporter": "python",
   "pygments_lexer": "ipython3",
   "version": "3.10.1"
  }
 },
 "nbformat": 4,
 "nbformat_minor": 2
}
