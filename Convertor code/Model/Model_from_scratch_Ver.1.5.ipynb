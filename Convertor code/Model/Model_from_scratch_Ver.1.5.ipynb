{
 "cells": [
  {
   "cell_type": "code",
   "execution_count": 126,
   "metadata": {},
   "outputs": [],
   "source": [
    "from matplotlib import pyplot as plt\n",
    "import tensorflow as tf\n",
    "import numpy as np\n",
    "import pandas as pd\n",
    "import matplotlib\n",
    "import glob\n",
    "import os\n",
    "\n",
    "from PIL import Image\n",
    "from tensorflow import keras\n",
    "from tensorflow.keras import Sequential, Input, Model\n",
    "from tensorflow.keras.utils import timeseries_dataset_from_array\n",
    "from tensorflow.keras.layers import Dense, Flatten, Softmax, Dropout, Conv2D, MaxPooling2D, BatchNormalization, Activation, AveragePooling2D\n",
    "from tensorflow.keras.layers import RandomFlip, RandomRotation, RandomZoom, Rescaling, RandomWidth, RandomHeight, Lambda\n",
    "from tensorflow.keras.callbacks import EarlyStopping, ModelCheckpoint, ReduceLROnPlateau, LearningRateScheduler\n",
    "from tensorflow.keras.applications.vgg16 import VGG16, preprocess_input, decode_predictions\n",
    "from tensorflow.keras.preprocessing.image import ImageDataGenerator,load_img, img_to_array\n",
    "from tensorflow.keras.layers import SeparableConv2D, add, GlobalAveragePooling2D\n",
    "from tensorflow.keras.utils import image_dataset_from_directory\n",
    "from tensorflow.keras.optimizers import RMSprop, Adam, SGD\n",
    "from sklearn.metrics import precision_recall_curve\n",
    "from tensorflow.keras.regularizers import l2\n",
    "from sklearn.metrics import roc_curve, auc\n",
    "from tensorflow.keras.layers import Dense\n",
    "from tensorflow.keras.models import Sequential\n",
    "from tensorflow.keras.layers import Embedding\n",
    "from tensorflow.keras import layers\n",
    "from scipy.signal import resample\n"
   ]
  },
  {
   "cell_type": "markdown",
   "metadata": {},
   "source": [
    "__<H1>Data Collection &#11088;<H1>__"
   ]
  },
  {
   "cell_type": "markdown",
   "metadata": {},
   "source": []
  },
  {
   "cell_type": "code",
   "execution_count": 12,
   "metadata": {},
   "outputs": [
    {
     "name": "stdout",
     "output_type": "stream",
     "text": [
      "Requirement already satisfied: gdown in c:\\users\\jeant\\appdata\\local\\programs\\python\\python310\\lib\\site-packages (5.1.0)\n",
      "Requirement already satisfied: beautifulsoup4 in c:\\users\\jeant\\appdata\\local\\programs\\python\\python310\\lib\\site-packages (from gdown) (4.12.2)\n",
      "Requirement already satisfied: filelock in c:\\users\\jeant\\appdata\\local\\programs\\python\\python310\\lib\\site-packages (from gdown) (3.13.1)\n",
      "Requirement already satisfied: requests[socks] in c:\\users\\jeant\\appdata\\local\\programs\\python\\python310\\lib\\site-packages (from gdown) (2.28.2)\n",
      "Requirement already satisfied: tqdm in c:\\users\\jeant\\appdata\\local\\programs\\python\\python310\\lib\\site-packages (from gdown) (4.66.1)\n",
      "Requirement already satisfied: soupsieve>1.2 in c:\\users\\jeant\\appdata\\local\\programs\\python\\python310\\lib\\site-packages (from beautifulsoup4->gdown) (2.4.1)\n",
      "Requirement already satisfied: charset-normalizer<4,>=2 in c:\\users\\jeant\\appdata\\local\\programs\\python\\python310\\lib\\site-packages (from requests[socks]->gdown) (3.1.0)\n",
      "Requirement already satisfied: idna<4,>=2.5 in c:\\users\\jeant\\appdata\\local\\programs\\python\\python310\\lib\\site-packages (from requests[socks]->gdown) (3.4)\n",
      "Requirement already satisfied: urllib3<1.27,>=1.21.1 in c:\\users\\jeant\\appdata\\local\\programs\\python\\python310\\lib\\site-packages (from requests[socks]->gdown) (1.26.15)\n",
      "Requirement already satisfied: certifi>=2017.4.17 in c:\\users\\jeant\\appdata\\local\\programs\\python\\python310\\lib\\site-packages (from requests[socks]->gdown) (2022.12.7)\n",
      "Requirement already satisfied: PySocks!=1.5.7,>=1.5.6 in c:\\users\\jeant\\appdata\\local\\programs\\python\\python310\\lib\\site-packages (from requests[socks]->gdown) (1.7.1)\n",
      "Requirement already satisfied: colorama in c:\\users\\jeant\\appdata\\local\\programs\\python\\python310\\lib\\site-packages (from tqdm->gdown) (0.4.6)\n"
     ]
    },
    {
     "name": "stderr",
     "output_type": "stream",
     "text": [
      "\n",
      "[notice] A new release of pip is available: 23.3.2 -> 24.0\n",
      "[notice] To update, run: python.exe -m pip install --upgrade pip\n"
     ]
    }
   ],
   "source": [
    "!pip install gdown"
   ]
  },
  {
   "cell_type": "markdown",
   "metadata": {},
   "source": [
    "__<h3>Create file directory for train, test, and validation data set</h3>__"
   ]
  },
  {
   "cell_type": "code",
   "execution_count": 98,
   "metadata": {},
   "outputs": [
    {
     "name": "stdout",
     "output_type": "stream",
     "text": [
      "Finished create file to receive all data !!\n"
     ]
    }
   ],
   "source": [
    "import shutil\n",
    "baseDir = \"C:/Users/jeant/OneDrive - Chulalongkorn University/Desktop/Senior Project/Convertor code/Model/data\"\n",
    "os.mkdir(baseDir)\n",
    "\n",
    "trainDir = os.path.join(baseDir, 'train')\n",
    "os.mkdir(trainDir)\n",
    "\n",
    "validationDir = os.path.join(baseDir, 'validation')\n",
    "os.mkdir(validationDir)\n",
    "\n",
    "testDir = os.path.join(baseDir, 'test')\n",
    "os.mkdir(testDir)\n",
    "\n",
    "trainHumanDir = os.path.join(trainDir, 'Human')\n",
    "os.mkdir(trainHumanDir)\n",
    "\n",
    "trainAIDir = os.path.join(trainDir, 'AI')\n",
    "os.mkdir(trainAIDir)\n",
    "\n",
    "validationHumanDir = os.path.join(validationDir, 'Human')\n",
    "os.mkdir(validationHumanDir)\n",
    "\n",
    "validationAIDir = os.path.join(validationDir, 'AI')\n",
    "os.mkdir(validationAIDir)\n",
    "\n",
    "testHumanDir = os.path.join(testDir, 'Human')\n",
    "os.mkdir(testHumanDir)\n",
    "\n",
    "testAIDir = os.path.join(testDir, 'AI')\n",
    "os.mkdir(testAIDir)\n",
    "\n",
    "print(\"Finished create file to receive all data !!\")"
   ]
  },
  {
   "cell_type": "code",
   "execution_count": 152,
   "metadata": {},
   "outputs": [],
   "source": [
    "trainDir = \"C:/Users/jeant/OneDrive - Chulalongkorn University/Desktop/Senior Project/Convertor code/Model/data1/train\"\n",
    "validationDir = \"C:/Users/jeant/OneDrive - Chulalongkorn University/Desktop/Senior Project/Convertor code/Model/data1/validation\"\n",
    "testDir = \"C:/Users/jeant/OneDrive - Chulalongkorn University/Desktop/Senior Project/Convertor code/Model/data1/test\"\n",
    "trainHumanDir = \"C:/Users/jeant/OneDrive - Chulalongkorn University/Desktop/Senior Project/Convertor code/Model/data1/train/Human\"\n",
    "trainAIDir =\"C:/Users/jeant/OneDrive - Chulalongkorn University/Desktop/Senior Project/Convertor code/Model/data1/train/AI\"\n",
    "validationAIDir = \"C:/Users/jeant/OneDrive - Chulalongkorn University/Desktop/Senior Project/Convertor code/Model/data1/validation/AI\"\n",
    "validationHumanDir = \"C:/Users/jeant/OneDrive - Chulalongkorn University/Desktop/Senior Project/Convertor code/Model/data1/validation/Human\"\n",
    "testHumanDir = \"C:/Users/jeant/OneDrive - Chulalongkorn University/Desktop/Senior Project/Convertor code/Model/data1/test/Human\"\n",
    "testAIDir = \"C:/Users/jeant/OneDrive - Chulalongkorn University/Desktop/Senior Project/Convertor code/Model/data1/test/AI\""
   ]
  },
  {
   "cell_type": "code",
   "execution_count": 95,
   "metadata": {},
   "outputs": [],
   "source": [
    "# trainDir = \"C:/Users/jeant/OneDrive - Chulalongkorn University/Desktop/Senior Project/Convertor code/Model/data/train\"\n",
    "# validationDir = \"C:/Users/jeant/OneDrive - Chulalongkorn University/Desktop/Senior Project/Convertor code/Model/data/validation\"\n",
    "# testDir = \"C:/Users/jeant/OneDrive - Chulalongkorn University/Desktop/Senior Project/Convertor code/Model/data/test\"\n",
    "# trainHumanDir = \"C:/Users/jeant/OneDrive - Chulalongkorn University/Desktop/Senior Project/Convertor code/Model/data/train/Human\"\n",
    "# trainAIDir =\"C:/Users/jeant/OneDrive - Chulalongkorn University/Desktop/Senior Project/Convertor code/Model/data/train/AI\"\n",
    "# validationAIDir = \"C:/Users/jeant/OneDrive - Chulalongkorn University/Desktop/Senior Project/Convertor code/Model/data/validation/AI\"\n",
    "# validationHumanDir = \"C:/Users/jeant/OneDrive - Chulalongkorn University/Desktop/Senior Project/Convertor code/Model/data/validation/Human\"\n",
    "# testHumanDir = \"C:/Users/jeant/OneDrive - Chulalongkorn University/Desktop/Senior Project/Convertor code/Model/data/test/Human\"\n",
    "# testAIDir = \"C:/Users/jeant/OneDrive - Chulalongkorn University/Desktop/Senior Project/Convertor code/Model/data/test/AI\""
   ]
  },
  {
   "cell_type": "markdown",
   "metadata": {},
   "source": [
    "__<h2>👻 Copies data to each file 👻</h2>__"
   ]
  },
  {
   "cell_type": "code",
   "execution_count": 118,
   "metadata": {},
   "outputs": [],
   "source": [
    "HumanDataDir = \"C:/Users/jeant/OneDrive - Chulalongkorn University/Desktop/Senior Project/Dataset/Human Picture Ver.3/Human pic/\"\n",
    "AIDataDir = \"C:/Users/jeant/OneDrive - Chulalongkorn University/Desktop/Senior Project/Dataset/AI Picture Ver.3/AI pic/\""
   ]
  },
  {
   "cell_type": "code",
   "execution_count": 99,
   "metadata": {},
   "outputs": [],
   "source": [
    "# Copies AI voice Spectrogram \n",
    "\n",
    "fnames = ['Top {}.png'.format(i+1) for i in range(50)]\n",
    "for fname in fnames:\n",
    "  src = os.path.join(AIDataDir, fname)\n",
    "  dst = os.path.join(trainAIDir, fname)\n",
    "  shutil.copyfile(src, dst)\n",
    "\n",
    "fnames = ['Alan {}.png'.format(i+1) for i in range(50)]\n",
    "for fname in fnames:\n",
    "  src = os.path.join(AIDataDir, fname)\n",
    "  dst = os.path.join(trainAIDir, fname)\n",
    "  shutil.copyfile(src, dst)\n",
    "\n",
    "fnames = ['Max {}.png'.format(i+1) for i in range(20)]\n",
    "for fname in fnames:\n",
    "  src = os.path.join(AIDataDir, fname)\n",
    "  dst = os.path.join(trainAIDir, fname)\n",
    "  shutil.copyfile(src, dst)\n",
    "\n",
    "fnames = ['Saree {}.png'.format(i+1) for i in range(50)]\n",
    "for fname in fnames:\n",
    "  src = os.path.join(AIDataDir, fname)\n",
    "  dst = os.path.join(trainAIDir, fname)\n",
    "  shutil.copyfile(src, dst)\n",
    "\n",
    "fnames = ['Ava {}.png'.format(i+1) for i in range(50)]\n",
    "for fname in fnames:\n",
    "  src = os.path.join(AIDataDir, fname)\n",
    "  dst = os.path.join(trainAIDir, fname)\n",
    "  shutil.copyfile(src, dst)\n",
    "\n",
    "fnames = ['Irene {}.png'.format(i+1) for i in range(20)]\n",
    "for fname in fnames:\n",
    "  src = os.path.join(AIDataDir, fname)\n",
    "  dst = os.path.join(trainAIDir, fname)\n",
    "  shutil.copyfile(src, dst)\n",
    "\n",
    "fnames = ['Max {}.png'.format(i+1) for i in range(20, 40)]\n",
    "for fname in fnames:\n",
    "  src = os.path.join(AIDataDir, fname)\n",
    "  dst = os.path.join(validationAIDir, fname)\n",
    "  shutil.copyfile(src, dst)\n",
    "\n",
    "fnames = ['Irene {}.png'.format(i+1) for i in range(20, 40)]\n",
    "for fname in fnames:\n",
    "  src = os.path.join(AIDataDir, fname)\n",
    "  dst = os.path.join(validationAIDir, fname)\n",
    "  shutil.copyfile(src, dst)\n",
    "\n",
    "fnames = ['Vanilla {}.png'.format(i+1) for i in range(20)]\n",
    "for fname in fnames:\n",
    "  src = os.path.join(AIDataDir, fname)\n",
    "  dst = os.path.join(validationAIDir, fname)\n",
    "  shutil.copyfile(src, dst)\n",
    "\n",
    "fnames = ['Smoke {}.png'.format(i+1) for i in range(20)]\n",
    "for fname in fnames:\n",
    "  src = os.path.join(AIDataDir, fname)\n",
    "  dst = os.path.join(validationAIDir, fname)\n",
    "  shutil.copyfile(src, dst)\n",
    "\n",
    "fnames = ['Smoke {}.png'.format(i+1) for i in range(20, 50)]\n",
    "for fname in fnames:\n",
    "  src = os.path.join(AIDataDir, fname)\n",
    "  dst = os.path.join(testAIDir, fname)\n",
    "  shutil.copyfile(src, dst)\n",
    "\n",
    "fnames = ['Vanilla {}.png'.format(i+1) for i in range(20, 50)]\n",
    "for fname in fnames:\n",
    "  src = os.path.join(AIDataDir, fname)\n",
    "  dst = os.path.join(testAIDir, fname)\n",
    "  shutil.copyfile(src, dst)\n",
    "\n",
    "fnames = ['Max {}.png'.format(i+1) for i in range(40,50)]\n",
    "for fname in fnames:\n",
    "  src = os.path.join(AIDataDir, fname)\n",
    "  dst = os.path.join(testAIDir, fname)\n",
    "  shutil.copyfile(src, dst)\n",
    "\n",
    "fnames = ['Irene {}.png'.format(i+1) for i in range(40,50)]\n",
    "for fname in fnames:\n",
    "  src = os.path.join(AIDataDir, fname)\n",
    "  dst = os.path.join(testAIDir, fname)\n",
    "  shutil.copyfile(src, dst)"
   ]
  },
  {
   "cell_type": "code",
   "execution_count": 100,
   "metadata": {},
   "outputs": [],
   "source": [
    "# Copies Human voice Spectrogram \n",
    "\n",
    "fnames = ['Jean {}.png'.format(i+1) for i in range(50)]\n",
    "for fname in fnames:\n",
    "  src = os.path.join(HumanDataDir, fname)\n",
    "  dst = os.path.join(trainHumanDir, fname)\n",
    "  shutil.copyfile(src, dst)\n",
    "\n",
    "fnames = ['Tong {}.png'.format(i+1) for i in range(50)]\n",
    "for fname in fnames:\n",
    "  src = os.path.join(HumanDataDir, fname)\n",
    "  dst = os.path.join(trainHumanDir, fname)\n",
    "  shutil.copyfile(src, dst)\n",
    "\n",
    "fnames = ['Pom {}.png'.format(i+1) for i in range(20)]\n",
    "for fname in fnames:\n",
    "  src = os.path.join(HumanDataDir, fname)\n",
    "  dst = os.path.join(trainHumanDir, fname)\n",
    "  shutil.copyfile(src, dst)\n",
    "\n",
    "fnames = ['Pang {}.png'.format(i+1) for i in range(50)]\n",
    "for fname in fnames:\n",
    "  src = os.path.join(HumanDataDir, fname)\n",
    "  dst = os.path.join(trainHumanDir, fname)\n",
    "  shutil.copyfile(src, dst)\n",
    "\n",
    "fnames = ['Bright {}.png'.format(i+1) for i in range(50)]\n",
    "for fname in fnames:\n",
    "  src = os.path.join(HumanDataDir, fname)\n",
    "  dst = os.path.join(trainHumanDir, fname)\n",
    "  shutil.copyfile(src, dst)\n",
    "\n",
    "fnames = ['Mai {}.png'.format(i+1) for i in range(20)]\n",
    "for fname in fnames:\n",
    "  src = os.path.join(HumanDataDir, fname)\n",
    "  dst = os.path.join(trainHumanDir, fname)\n",
    "  shutil.copyfile(src, dst)\n",
    "\n",
    "fnames = ['Mai {}.png'.format(i+1) for i in range(20, 40)]\n",
    "for fname in fnames:\n",
    "  src = os.path.join(HumanDataDir, fname)\n",
    "  dst = os.path.join(validationHumanDir, fname)\n",
    "  shutil.copyfile(src, dst)\n",
    "\n",
    "fnames = ['Pom {}.png'.format(i+1) for i in range(20, 40)]\n",
    "for fname in fnames:\n",
    "  src = os.path.join(HumanDataDir, fname)\n",
    "  dst = os.path.join(validationHumanDir, fname)\n",
    "  shutil.copyfile(src, dst)\n",
    "\n",
    "fnames = ['Best {}.png'.format(i+1) for i in range(20)]\n",
    "for fname in fnames:\n",
    "  src = os.path.join(HumanDataDir, fname)\n",
    "  dst = os.path.join(validationHumanDir, fname)\n",
    "  shutil.copyfile(src, dst)\n",
    "\n",
    "fnames = ['Besty {}.png'.format(i+1) for i in range(20)]\n",
    "for fname in fnames:\n",
    "  src = os.path.join(HumanDataDir, fname)\n",
    "  dst = os.path.join(validationHumanDir, fname)\n",
    "  shutil.copyfile(src, dst)\n",
    "\n",
    "fnames = ['Best {}.png'.format(i+1) for i in range(20, 50)]\n",
    "for fname in fnames:\n",
    "  src = os.path.join(HumanDataDir, fname)\n",
    "  dst = os.path.join(testHumanDir, fname)\n",
    "  shutil.copyfile(src, dst)\n",
    "\n",
    "fnames = ['Besty {}.png'.format(i+1) for i in range(20, 50)]\n",
    "for fname in fnames:\n",
    "  src = os.path.join(HumanDataDir, fname)\n",
    "  dst = os.path.join(testHumanDir, fname)\n",
    "  shutil.copyfile(src, dst)\n",
    "\n",
    "fnames = ['Pom {}.png'.format(i+1) for i in range(40,50)]\n",
    "for fname in fnames:\n",
    "  src = os.path.join(HumanDataDir, fname)\n",
    "  dst = os.path.join(testHumanDir, fname)\n",
    "  shutil.copyfile(src, dst)\n",
    "\n",
    "fnames = ['Mai {}.png'.format(i+1) for i in range(40,50)]\n",
    "for fname in fnames:\n",
    "  src = os.path.join(HumanDataDir, fname)\n",
    "  dst = os.path.join(testHumanDir, fname)\n",
    "  shutil.copyfile(src, dst)"
   ]
  },
  {
   "cell_type": "code",
   "execution_count": 153,
   "metadata": {},
   "outputs": [
    {
     "name": "stdout",
     "output_type": "stream",
     "text": [
      "total training AI voice images: 240\n",
      "total training Human voice images: 240\n",
      "total validation AI voice images: 80\n",
      "total validation Human voice images: 80\n",
      "total test AI voice images: 80\n",
      "total test Human voice images: 80\n"
     ]
    }
   ],
   "source": [
    "print('total training AI voice images:', len(os.listdir(trainAIDir)))\n",
    "print('total training Human voice images:', len(os.listdir(trainHumanDir)))\n",
    "print('total validation AI voice images:', len(os.listdir(validationAIDir)))\n",
    "print('total validation Human voice images:', len(os.listdir(validationHumanDir)))\n",
    "print('total test AI voice images:', len(os.listdir(testAIDir)))\n",
    "print('total test Human voice images:', len(os.listdir(testHumanDir)))"
   ]
  },
  {
   "cell_type": "code",
   "execution_count": 154,
   "metadata": {},
   "outputs": [
    {
     "name": "stdout",
     "output_type": "stream",
     "text": [
      "Found 480 files belonging to 2 classes.\n"
     ]
    },
    {
     "name": "stdout",
     "output_type": "stream",
     "text": [
      "Found 160 files belonging to 2 classes.\n",
      "Found 160 files belonging to 2 classes.\n"
     ]
    }
   ],
   "source": [
    "trainSet = image_dataset_from_directory(\n",
    "    trainDir,\n",
    "    image_size = (224,224),\n",
    "    batch_size = 64\n",
    ")\n",
    "valSet = image_dataset_from_directory(\n",
    "    validationDir,\n",
    "    image_size = (224,224),\n",
    "    batch_size = 64\n",
    ")\n",
    "testSet = image_dataset_from_directory(\n",
    "    testDir,\n",
    "    image_size = (224,224),\n",
    "    batch_size = 64\n",
    ")"
   ]
  },
  {
   "cell_type": "code",
   "execution_count": 155,
   "metadata": {},
   "outputs": [
    {
     "name": "stdout",
     "output_type": "stream",
     "text": [
      "class: AI --> 0\n",
      "class: Human --> 1\n"
     ]
    }
   ],
   "source": [
    "classLabel = trainSet.class_names\n",
    "\n",
    "for label, className in enumerate(classLabel):\n",
    "    print(\"class: {} --> {}\".format(className, label))\n"
   ]
  },
  {
   "cell_type": "code",
   "execution_count": 156,
   "metadata": {},
   "outputs": [
    {
     "name": "stdout",
     "output_type": "stream",
     "text": [
      "data batch shape (64, 224, 224, 3)\n",
      "label batch shape (64,)\n",
      "labels_batch tf.Tensor(\n",
      "[0 1 1 0 1 1 1 0 0 1 1 0 1 1 1 1 1 0 0 0 1 1 0 1 1 1 1 0 1 1 1 0 0 1 1 1 0\n",
      " 0 0 0 0 1 0 0 1 0 1 0 0 0 0 1 1 0 0 1 1 1 0 0 0 0 1 1], shape=(64,), dtype=int32)\n"
     ]
    }
   ],
   "source": [
    "for data_batch, labels_batch in trainSet.take(1):\n",
    "  print(\"data batch shape\", data_batch.shape) # 64 224x224 3 c channels\n",
    "  print(\"label batch shape\", labels_batch.shape)\n",
    "  print(\"labels_batch\", labels_batch) # 0 AI, 1 Human"
   ]
  },
  {
   "cell_type": "markdown",
   "metadata": {},
   "source": [
    "__<h2>Call Back 👹</h2>__"
   ]
  },
  {
   "cell_type": "code",
   "execution_count": 145,
   "metadata": {},
   "outputs": [],
   "source": [
    "early_stopping_cb = EarlyStopping(monitor='val_accuracy', patience=5, restore_best_weights=True)\n",
    "model_checkpoint_cb1 = ModelCheckpoint('model_scratch/woaugment', monitor='val_loss',save_best_only=True, save_weights_only=True)\n",
    "model_checkpoint_cb2 = ModelCheckpoint('model_scratch/waugment', monitor='val_loss',save_best_only=True, save_weights_only=True)\n",
    "model_checkpoint_cb3 = ModelCheckpoint('model_feature_extraction/woaugment', monitor='val_loss',save_best_only=True, save_weights_only=True)\n",
    "model_checkpoint_cb4 = ModelCheckpoint('model_feature_extraction/waugment', monitor='val_loss',save_best_only=True, save_weights_only=True)\n",
    "model_checkpoint_cb5 = ModelCheckpoint('model_fine_tuning/woaugment', monitor='val_loss',save_best_only=True,save_weights_only=True)\n",
    "model_checkpoint_cb6 = ModelCheckpoint('model_fine_tuning/waugment', monitor='val_loss',save_best_only=True,save_weights_only=True)\n",
    "reduce_lr_cb = ReduceLROnPlateau(min_lr=0.001)"
   ]
  },
  {
   "cell_type": "markdown",
   "metadata": {},
   "source": [
    "__<h2>Build Model 🫠</h2>__"
   ]
  },
  {
   "cell_type": "markdown",
   "metadata": {},
   "source": [
    "__<h4>Let's Try Train from scratch</h4>__"
   ]
  },
  {
   "cell_type": "code",
   "execution_count": 20,
   "metadata": {},
   "outputs": [
    {
     "name": "stdout",
     "output_type": "stream",
     "text": [
      "Found 480 images belonging to 2 classes.\n"
     ]
    }
   ],
   "source": [
    "# # data augmentation\n",
    "# datagen = ImageDataGenerator(\n",
    "# rescale=1./255, \n",
    "# rotation_range=15, # random rotation up to x degrees\n",
    "# width_shift_range=0.1, # \n",
    "# height_shift_range=0.1,\n",
    "# horizontal_flip=True, # horizontal flip\n",
    "# vertical_flip=False # vartival flip\n",
    "# )\n",
    "\n",
    "# # prepare iterator\n",
    "# it_train = datagen.flow_from_directory(\n",
    "#    trainDir,\n",
    "#    target_size=(224, 224),\n",
    "#    batch_size=64,\n",
    "#    class_mode='binary') # binary class"
   ]
  },
  {
   "cell_type": "code",
   "execution_count": 161,
   "metadata": {},
   "outputs": [],
   "source": [
    "# training from scratch\n",
    "def build_model_scratch2():\n",
    "  model = Sequential()\n",
    "  model.add(Input((224,224,3)))\n",
    "  # model.add(data_augmentation) \n",
    "  model.add(Rescaling(1./255)) # normalize colors pixcel from 0 = black, 255 = white --> length 0-1\n",
    "  \n",
    "  model.add(Conv2D(filters=32,kernel_size=3,padding='same',activation='relu'))\n",
    "  # model.add(MaxPooling2D(pool_size=2))\n",
    "  model.add(BatchNormalization())\n",
    "  model.add(Dropout(0.6))\n",
    "\n",
    "  model.add(Conv2D(filters=32,kernel_size=3,padding='same',activation='relu'))\n",
    "  model.add(MaxPooling2D(pool_size=2))\n",
    "  model.add(BatchNormalization())\n",
    "  model.add(Dropout(0.6))\n",
    "\n",
    "  # model.add(Conv2D(filters=64,kernel_size=3,padding='same',activation='relu'))\n",
    "  # model.add(BatchNormalization())\n",
    "  # model.add(Dropout(0.3))\n",
    "\n",
    "  # model.add(Conv2D(filters=64,kernel_size=3,padding='same',activation='relu'))\n",
    "  # model.add(MaxPooling2D(pool_size=2))\n",
    "  # model.add(BatchNormalization())\n",
    "  # model.add(Dropout(0.3))\n",
    "\n",
    "  # model.add(Conv2D(filters=128,kernel_size=3,padding='same',activation='relu'))\n",
    "  # model.add(BatchNormalization())\n",
    "  # model.add(Dropout(0.3))\n",
    "  \n",
    "  # model.add(Conv2D(filters=128,kernel_size=3,padding='same',activation='relu'))\n",
    "  # model.add(MaxPooling2D(pool_size=2))\n",
    "  # model.add(BatchNormalization())\n",
    "  # model.add(Dropout(0.3))\n",
    "\n",
    "  model.add(Flatten())\n",
    "  model.add(BatchNormalization())\n",
    "  model.add(Dense(50, activation='relu', kernel_regularizer=l2(0.001)))\n",
    "  model.add(BatchNormalization())\n",
    "  model.add(Dropout(0.6))\n",
    "  model.add(Dense(1, activation='sigmoid'))\n",
    "\n",
    "  return model"
   ]
  },
  {
   "cell_type": "code",
   "execution_count": 162,
   "metadata": {},
   "outputs": [
    {
     "name": "stdout",
     "output_type": "stream",
     "text": [
      "Model: \"sequential_16\"\n",
      "_________________________________________________________________\n",
      " Layer (type)                Output Shape              Param #   \n",
      "=================================================================\n",
      " rescaling_16 (Rescaling)    (None, 224, 224, 3)       0         \n",
      "                                                                 \n",
      " conv2d_23 (Conv2D)          (None, 224, 224, 32)      896       \n",
      "                                                                 \n",
      " batch_normalization_55 (Ba  (None, 224, 224, 32)      128       \n",
      " tchNormalization)                                               \n",
      "                                                                 \n",
      " dropout_39 (Dropout)        (None, 224, 224, 32)      0         \n",
      "                                                                 \n",
      " conv2d_24 (Conv2D)          (None, 224, 224, 32)      9248      \n",
      "                                                                 \n",
      " max_pooling2d_23 (MaxPooli  (None, 112, 112, 32)      0         \n",
      " ng2D)                                                           \n",
      "                                                                 \n",
      " batch_normalization_56 (Ba  (None, 112, 112, 32)      128       \n",
      " tchNormalization)                                               \n",
      "                                                                 \n",
      " dropout_40 (Dropout)        (None, 112, 112, 32)      0         \n",
      "                                                                 \n",
      " flatten_16 (Flatten)        (None, 401408)            0         \n",
      "                                                                 \n",
      " batch_normalization_57 (Ba  (None, 401408)            1605632   \n",
      " tchNormalization)                                               \n",
      "                                                                 \n",
      " dense_32 (Dense)            (None, 50)                20070450  \n",
      "                                                                 \n",
      " batch_normalization_58 (Ba  (None, 50)                200       \n",
      " tchNormalization)                                               \n",
      "                                                                 \n",
      " dropout_41 (Dropout)        (None, 50)                0         \n",
      "                                                                 \n",
      " dense_33 (Dense)            (None, 1)                 51        \n",
      "                                                                 \n",
      "=================================================================\n",
      "Total params: 21686733 (82.73 MB)\n",
      "Trainable params: 20883689 (79.66 MB)\n",
      "Non-trainable params: 803044 (3.06 MB)\n",
      "_________________________________________________________________\n",
      "Epoch 1/10\n",
      "8/8 [==============================] - 41s 5s/step - loss: 0.4897 - accuracy: 0.8521 - val_loss: 0.8995 - val_accuracy: 0.5000 - lr: 1.0000e-04\n",
      "Epoch 2/10\n",
      "8/8 [==============================] - 38s 5s/step - loss: 0.1610 - accuracy: 0.9792 - val_loss: 1.5607 - val_accuracy: 0.5000 - lr: 1.0000e-04\n",
      "Epoch 3/10\n",
      "8/8 [==============================] - 37s 5s/step - loss: 0.1338 - accuracy: 0.9937 - val_loss: 2.1128 - val_accuracy: 0.5000 - lr: 1.0000e-04\n",
      "Epoch 4/10\n",
      "8/8 [==============================] - 37s 5s/step - loss: 0.1293 - accuracy: 0.9979 - val_loss: 2.5018 - val_accuracy: 0.5000 - lr: 1.0000e-04\n",
      "Epoch 5/10\n",
      "8/8 [==============================] - 37s 4s/step - loss: 0.1274 - accuracy: 0.9917 - val_loss: 2.7929 - val_accuracy: 0.5000 - lr: 1.0000e-04\n",
      "Epoch 6/10\n",
      "8/8 [==============================] - 37s 4s/step - loss: 0.1211 - accuracy: 0.9979 - val_loss: 3.0251 - val_accuracy: 0.5000 - lr: 1.0000e-04\n"
     ]
    }
   ],
   "source": [
    "model = build_model_scratch2()\n",
    "model.summary()\n",
    "model.compile(optimizer=Adam(learning_rate=0.0001, beta_1=0.9, beta_2=0.999),\n",
    "                loss='binary_crossentropy',\n",
    "                metrics=['accuracy'])\n",
    "\n",
    "history = model.fit(trainSet, epochs=10, validation_data=valSet, verbose=1,\n",
    "                    callbacks=[early_stopping_cb,model_checkpoint_cb2,reduce_lr_cb])\n",
    "\n",
    "# history = model.fit(trainSet, epochs=10, validation_data=valSet, verbose=1)"
   ]
  },
  {
   "cell_type": "code",
   "execution_count": 163,
   "metadata": {},
   "outputs": [
    {
     "data": {
      "image/png": "[encoded data removed]",
      "text/plain": [
       "<Figure size 1400x600 with 2 Axes>"
      ]
     },
     "metadata": {},
     "output_type": "display_data"
    }
   ],
   "source": [
    "def plot_training_history(history):\n",
    "    acc = history.history['accuracy']\n",
    "    val_acc = history.history['val_accuracy']\n",
    "    loss = history.history['loss']\n",
    "    val_loss = history.history['val_loss']\n",
    "    epochs_range = range(len(acc))\n",
    "    \n",
    "    plt.figure(figsize=(14, 6))\n",
    "    plt.subplot(1, 2, 1)\n",
    "    plt.plot(epochs_range, acc, label='Training Accuracy')\n",
    "    plt.plot(epochs_range, val_acc, label='Validation Accuracy')\n",
    "    plt.legend(loc='lower right')\n",
    "    plt.title('Training and Validation Accuracy')\n",
    "    \n",
    "    plt.subplot(1, 2, 2)\n",
    "    plt.plot(epochs_range, loss, label='Training Loss')\n",
    "    plt.plot(epochs_range, val_loss, label='Validation Loss')\n",
    "    plt.legend(loc='upper right')\n",
    "    plt.title('Training and Validation Loss')\n",
    "    plt.show()\n",
    "\n",
    "plot_training_history(history)"
   ]
  },
  {
   "cell_type": "code",
   "execution_count": 131,
   "metadata": {},
   "outputs": [
    {
     "name": "stdout",
     "output_type": "stream",
     "text": [
      "3/3 [==============================] - 1s 183ms/step - loss: 1.7938 - accuracy: 0.5063\n",
      "test_oss: 1.7937915325164795\n",
      "test_acc: 0.5062500238418579\n"
     ]
    }
   ],
   "source": [
    "# test set\n",
    "loss, acc = model.evaluate(testSet)\n",
    "print('test_oss:', loss)\n",
    "print('test_acc:', acc)"
   ]
  },
  {
   "cell_type": "code",
   "execution_count": 133,
   "metadata": {},
   "outputs": [
    {
     "name": "stdout",
     "output_type": "stream",
     "text": [
      "3/3 [==============================] - 1s 191ms/step\n",
      "Sample 1: Predicted Class=0,   Actual Class=1,   Probability Scores=[0.9630241]\n",
      "Sample 2: Predicted Class=0,   Actual Class=0,   Probability Scores=[0.7152182]\n",
      "Sample 3: Predicted Class=0,   Actual Class=1,   Probability Scores=[0.8221617]\n",
      "Sample 4: Predicted Class=0,   Actual Class=1,   Probability Scores=[0.967774]\n",
      "Sample 5: Predicted Class=0,   Actual Class=1,   Probability Scores=[0.9541432]\n",
      "Sample 6: Predicted Class=0,   Actual Class=0,   Probability Scores=[0.61647403]\n",
      "Sample 7: Predicted Class=0,   Actual Class=1,   Probability Scores=[0.98013806]\n",
      "Sample 8: Predicted Class=0,   Actual Class=1,   Probability Scores=[0.96771187]\n",
      "Sample 9: Predicted Class=0,   Actual Class=1,   Probability Scores=[0.8893137]\n",
      "Sample 10: Predicted Class=0,   Actual Class=1,   Probability Scores=[0.8896782]\n",
      "Sample 11: Predicted Class=0,   Actual Class=1,   Probability Scores=[0.9159576]\n",
      "Sample 12: Predicted Class=0,   Actual Class=0,   Probability Scores=[0.9333741]\n",
      "Sample 13: Predicted Class=0,   Actual Class=1,   Probability Scores=[0.9653399]\n",
      "Sample 14: Predicted Class=0,   Actual Class=1,   Probability Scores=[0.96587956]\n",
      "Sample 15: Predicted Class=0,   Actual Class=1,   Probability Scores=[0.84450084]\n",
      "Sample 16: Predicted Class=0,   Actual Class=0,   Probability Scores=[0.8432599]\n",
      "Sample 17: Predicted Class=0,   Actual Class=0,   Probability Scores=[0.93689156]\n",
      "Sample 18: Predicted Class=0,   Actual Class=0,   Probability Scores=[0.9254994]\n",
      "Sample 19: Predicted Class=0,   Actual Class=0,   Probability Scores=[0.71116257]\n",
      "Sample 20: Predicted Class=0,   Actual Class=0,   Probability Scores=[0.7594452]\n",
      "Sample 21: Predicted Class=0,   Actual Class=1,   Probability Scores=[0.97628963]\n",
      "Sample 22: Predicted Class=0,   Actual Class=1,   Probability Scores=[0.97536075]\n",
      "Sample 23: Predicted Class=0,   Actual Class=0,   Probability Scores=[0.97216475]\n",
      "Sample 24: Predicted Class=0,   Actual Class=0,   Probability Scores=[0.9679019]\n",
      "Sample 25: Predicted Class=0,   Actual Class=1,   Probability Scores=[0.575423]\n",
      "Sample 26: Predicted Class=0,   Actual Class=0,   Probability Scores=[0.70034915]\n",
      "Sample 27: Predicted Class=0,   Actual Class=0,   Probability Scores=[0.6894511]\n",
      "Sample 28: Predicted Class=0,   Actual Class=0,   Probability Scores=[0.58644825]\n",
      "Sample 29: Predicted Class=0,   Actual Class=0,   Probability Scores=[0.71129835]\n",
      "Sample 30: Predicted Class=0,   Actual Class=1,   Probability Scores=[0.6391689]\n",
      "Sample 31: Predicted Class=0,   Actual Class=0,   Probability Scores=[0.94571793]\n",
      "Sample 32: Predicted Class=0,   Actual Class=1,   Probability Scores=[0.5598841]\n",
      "Sample 33: Predicted Class=0,   Actual Class=1,   Probability Scores=[0.9545071]\n",
      "Sample 34: Predicted Class=0,   Actual Class=1,   Probability Scores=[0.8747483]\n",
      "Sample 35: Predicted Class=0,   Actual Class=1,   Probability Scores=[0.75574017]\n",
      "Sample 36: Predicted Class=0,   Actual Class=1,   Probability Scores=[0.97192204]\n",
      "Sample 37: Predicted Class=0,   Actual Class=1,   Probability Scores=[0.95590293]\n",
      "Sample 38: Predicted Class=0,   Actual Class=0,   Probability Scores=[0.6573042]\n",
      "Sample 39: Predicted Class=0,   Actual Class=1,   Probability Scores=[0.9519433]\n",
      "Sample 40: Predicted Class=0,   Actual Class=1,   Probability Scores=[0.69027495]\n",
      "Sample 41: Predicted Class=0,   Actual Class=1,   Probability Scores=[0.80867654]\n",
      "Sample 42: Predicted Class=0,   Actual Class=1,   Probability Scores=[0.95948595]\n",
      "Sample 43: Predicted Class=0,   Actual Class=0,   Probability Scores=[0.97708565]\n",
      "Sample 44: Predicted Class=0,   Actual Class=1,   Probability Scores=[0.9402121]\n",
      "Sample 45: Predicted Class=0,   Actual Class=0,   Probability Scores=[0.9582119]\n",
      "Sample 46: Predicted Class=0,   Actual Class=1,   Probability Scores=[0.72172403]\n",
      "Sample 47: Predicted Class=0,   Actual Class=1,   Probability Scores=[0.92566544]\n",
      "Sample 48: Predicted Class=0,   Actual Class=1,   Probability Scores=[0.8215352]\n",
      "Sample 49: Predicted Class=0,   Actual Class=1,   Probability Scores=[0.7469234]\n",
      "Sample 50: Predicted Class=0,   Actual Class=0,   Probability Scores=[0.8748898]\n",
      "Sample 51: Predicted Class=0,   Actual Class=0,   Probability Scores=[0.5837689]\n",
      "Sample 52: Predicted Class=0,   Actual Class=0,   Probability Scores=[0.9511634]\n",
      "Sample 53: Predicted Class=0,   Actual Class=1,   Probability Scores=[0.78607136]\n",
      "Sample 54: Predicted Class=0,   Actual Class=0,   Probability Scores=[0.9868092]\n",
      "Sample 55: Predicted Class=0,   Actual Class=1,   Probability Scores=[0.9314738]\n",
      "Sample 56: Predicted Class=0,   Actual Class=1,   Probability Scores=[0.84384584]\n",
      "Sample 57: Predicted Class=0,   Actual Class=0,   Probability Scores=[0.7910702]\n",
      "Sample 58: Predicted Class=0,   Actual Class=1,   Probability Scores=[0.7685816]\n",
      "Sample 59: Predicted Class=0,   Actual Class=0,   Probability Scores=[0.983725]\n",
      "Sample 60: Predicted Class=0,   Actual Class=1,   Probability Scores=[0.9595263]\n",
      "Sample 61: Predicted Class=0,   Actual Class=1,   Probability Scores=[0.64672905]\n",
      "Sample 62: Predicted Class=0,   Actual Class=0,   Probability Scores=[0.85568976]\n",
      "Sample 63: Predicted Class=0,   Actual Class=0,   Probability Scores=[0.861173]\n",
      "Sample 64: Predicted Class=0,   Actual Class=1,   Probability Scores=[0.96515334]\n",
      "Sample 65: Predicted Class=0,   Actual Class=1,   Probability Scores=[0.8178472]\n",
      "Sample 66: Predicted Class=0,   Actual Class=1,   Probability Scores=[0.8187549]\n",
      "Sample 67: Predicted Class=0,   Actual Class=1,   Probability Scores=[0.9550858]\n",
      "Sample 68: Predicted Class=0,   Actual Class=1,   Probability Scores=[0.7626274]\n",
      "Sample 69: Predicted Class=0,   Actual Class=1,   Probability Scores=[0.95523113]\n",
      "Sample 70: Predicted Class=0,   Actual Class=0,   Probability Scores=[0.9377447]\n",
      "Sample 71: Predicted Class=0,   Actual Class=0,   Probability Scores=[0.94011015]\n",
      "Sample 72: Predicted Class=0,   Actual Class=0,   Probability Scores=[0.94751376]\n",
      "Sample 73: Predicted Class=0,   Actual Class=0,   Probability Scores=[0.92423725]\n",
      "Sample 74: Predicted Class=0,   Actual Class=0,   Probability Scores=[0.97182727]\n",
      "Sample 75: Predicted Class=0,   Actual Class=1,   Probability Scores=[0.6919169]\n",
      "Sample 76: Predicted Class=0,   Actual Class=1,   Probability Scores=[0.8205621]\n",
      "Sample 77: Predicted Class=0,   Actual Class=0,   Probability Scores=[0.5675699]\n",
      "Sample 78: Predicted Class=0,   Actual Class=0,   Probability Scores=[0.9727416]\n",
      "Sample 79: Predicted Class=0,   Actual Class=0,   Probability Scores=[0.8811457]\n",
      "Sample 80: Predicted Class=0,   Actual Class=1,   Probability Scores=[0.77268857]\n",
      "Sample 81: Predicted Class=0,   Actual Class=1,   Probability Scores=[0.94513667]\n",
      "Sample 82: Predicted Class=0,   Actual Class=1,   Probability Scores=[0.81429404]\n",
      "Sample 83: Predicted Class=0,   Actual Class=0,   Probability Scores=[0.94392365]\n",
      "Sample 84: Predicted Class=0,   Actual Class=1,   Probability Scores=[0.94078916]\n",
      "Sample 85: Predicted Class=0,   Actual Class=0,   Probability Scores=[0.86887497]\n",
      "Sample 86: Predicted Class=0,   Actual Class=0,   Probability Scores=[0.8632034]\n",
      "Sample 87: Predicted Class=0,   Actual Class=1,   Probability Scores=[0.94253033]\n",
      "Sample 88: Predicted Class=0,   Actual Class=0,   Probability Scores=[0.8516933]\n",
      "Sample 89: Predicted Class=0,   Actual Class=0,   Probability Scores=[0.42601773]\n",
      "Sample 90: Predicted Class=0,   Actual Class=0,   Probability Scores=[0.9590599]\n",
      "Sample 91: Predicted Class=0,   Actual Class=0,   Probability Scores=[0.54002744]\n",
      "Sample 92: Predicted Class=0,   Actual Class=1,   Probability Scores=[0.616294]\n",
      "Sample 93: Predicted Class=0,   Actual Class=1,   Probability Scores=[0.9656489]\n",
      "Sample 94: Predicted Class=0,   Actual Class=0,   Probability Scores=[0.9446964]\n",
      "Sample 95: Predicted Class=0,   Actual Class=1,   Probability Scores=[0.65690225]\n",
      "Sample 96: Predicted Class=0,   Actual Class=0,   Probability Scores=[0.97774625]\n",
      "Sample 97: Predicted Class=0,   Actual Class=1,   Probability Scores=[0.96153975]\n",
      "Sample 98: Predicted Class=0,   Actual Class=1,   Probability Scores=[0.8876767]\n",
      "Sample 99: Predicted Class=0,   Actual Class=0,   Probability Scores=[0.9812724]\n",
      "Sample 100: Predicted Class=0,   Actual Class=1,   Probability Scores=[0.714399]\n",
      "Sample 101: Predicted Class=0,   Actual Class=0,   Probability Scores=[0.9758618]\n",
      "Sample 102: Predicted Class=0,   Actual Class=0,   Probability Scores=[0.95949394]\n",
      "Sample 103: Predicted Class=0,   Actual Class=0,   Probability Scores=[0.71481925]\n",
      "Sample 104: Predicted Class=0,   Actual Class=0,   Probability Scores=[0.974727]\n",
      "Sample 105: Predicted Class=0,   Actual Class=1,   Probability Scores=[0.7437358]\n",
      "Sample 106: Predicted Class=0,   Actual Class=0,   Probability Scores=[0.60880274]\n",
      "Sample 107: Predicted Class=0,   Actual Class=1,   Probability Scores=[0.9231658]\n",
      "Sample 108: Predicted Class=0,   Actual Class=0,   Probability Scores=[0.7828919]\n",
      "Sample 109: Predicted Class=0,   Actual Class=0,   Probability Scores=[0.8660648]\n",
      "Sample 110: Predicted Class=0,   Actual Class=0,   Probability Scores=[0.6382902]\n",
      "Sample 111: Predicted Class=0,   Actual Class=0,   Probability Scores=[0.7677473]\n",
      "Sample 112: Predicted Class=0,   Actual Class=0,   Probability Scores=[0.45190045]\n",
      "Sample 113: Predicted Class=0,   Actual Class=1,   Probability Scores=[0.3686989]\n",
      "Sample 114: Predicted Class=0,   Actual Class=1,   Probability Scores=[0.98424935]\n",
      "Sample 115: Predicted Class=0,   Actual Class=0,   Probability Scores=[0.76194423]\n",
      "Sample 116: Predicted Class=0,   Actual Class=0,   Probability Scores=[0.91756344]\n",
      "Sample 117: Predicted Class=0,   Actual Class=1,   Probability Scores=[0.7243456]\n",
      "Sample 118: Predicted Class=0,   Actual Class=1,   Probability Scores=[0.91327435]\n",
      "Sample 119: Predicted Class=0,   Actual Class=0,   Probability Scores=[0.8984683]\n",
      "Sample 120: Predicted Class=0,   Actual Class=0,   Probability Scores=[0.9433065]\n",
      "Sample 121: Predicted Class=0,   Actual Class=1,   Probability Scores=[0.9093598]\n",
      "Sample 122: Predicted Class=0,   Actual Class=0,   Probability Scores=[0.98312205]\n",
      "Sample 123: Predicted Class=0,   Actual Class=1,   Probability Scores=[0.93486446]\n",
      "Sample 124: Predicted Class=0,   Actual Class=0,   Probability Scores=[0.89703536]\n",
      "Sample 125: Predicted Class=0,   Actual Class=0,   Probability Scores=[0.9825263]\n",
      "Sample 126: Predicted Class=0,   Actual Class=1,   Probability Scores=[0.7775931]\n",
      "Sample 127: Predicted Class=0,   Actual Class=0,   Probability Scores=[0.94256806]\n",
      "Sample 128: Predicted Class=0,   Actual Class=1,   Probability Scores=[0.8614584]\n",
      "Sample 129: Predicted Class=0,   Actual Class=1,   Probability Scores=[0.9458002]\n",
      "Sample 130: Predicted Class=0,   Actual Class=0,   Probability Scores=[0.9052716]\n",
      "Sample 131: Predicted Class=0,   Actual Class=0,   Probability Scores=[0.8880921]\n",
      "Sample 132: Predicted Class=0,   Actual Class=0,   Probability Scores=[0.98031867]\n",
      "Sample 133: Predicted Class=0,   Actual Class=0,   Probability Scores=[0.76725924]\n",
      "Sample 134: Predicted Class=0,   Actual Class=0,   Probability Scores=[0.89628816]\n",
      "Sample 135: Predicted Class=0,   Actual Class=0,   Probability Scores=[0.90321803]\n",
      "Sample 136: Predicted Class=0,   Actual Class=1,   Probability Scores=[0.9507583]\n",
      "Sample 137: Predicted Class=0,   Actual Class=1,   Probability Scores=[0.6355512]\n",
      "Sample 138: Predicted Class=0,   Actual Class=0,   Probability Scores=[0.9601354]\n",
      "Sample 139: Predicted Class=0,   Actual Class=0,   Probability Scores=[0.97048366]\n",
      "Sample 140: Predicted Class=0,   Actual Class=0,   Probability Scores=[0.8348497]\n",
      "Sample 141: Predicted Class=0,   Actual Class=0,   Probability Scores=[0.46028897]\n",
      "Sample 142: Predicted Class=0,   Actual Class=1,   Probability Scores=[0.8718306]\n",
      "Sample 143: Predicted Class=0,   Actual Class=0,   Probability Scores=[0.9013953]\n",
      "Sample 144: Predicted Class=0,   Actual Class=1,   Probability Scores=[0.66869575]\n",
      "Sample 145: Predicted Class=0,   Actual Class=0,   Probability Scores=[0.97569865]\n",
      "Sample 146: Predicted Class=0,   Actual Class=1,   Probability Scores=[0.9447854]\n",
      "Sample 147: Predicted Class=0,   Actual Class=1,   Probability Scores=[0.7490262]\n",
      "Sample 148: Predicted Class=0,   Actual Class=0,   Probability Scores=[0.84162503]\n",
      "Sample 149: Predicted Class=0,   Actual Class=0,   Probability Scores=[0.54812473]\n",
      "Sample 150: Predicted Class=0,   Actual Class=1,   Probability Scores=[0.8686902]\n",
      "Sample 151: Predicted Class=0,   Actual Class=0,   Probability Scores=[0.94500685]\n",
      "Sample 152: Predicted Class=0,   Actual Class=0,   Probability Scores=[0.96254784]\n",
      "Sample 153: Predicted Class=0,   Actual Class=1,   Probability Scores=[0.84106016]\n",
      "Sample 154: Predicted Class=0,   Actual Class=1,   Probability Scores=[0.8793546]\n",
      "Sample 155: Predicted Class=0,   Actual Class=0,   Probability Scores=[0.95294017]\n",
      "Sample 156: Predicted Class=0,   Actual Class=1,   Probability Scores=[0.73306894]\n",
      "Sample 157: Predicted Class=0,   Actual Class=1,   Probability Scores=[0.7262375]\n",
      "Sample 158: Predicted Class=0,   Actual Class=0,   Probability Scores=[0.6648653]\n",
      "Sample 159: Predicted Class=0,   Actual Class=1,   Probability Scores=[0.95530206]\n",
      "Sample 160: Predicted Class=0,   Actual Class=1,   Probability Scores=[0.68100244]\n"
     ]
    }
   ],
   "source": [
    "predictions = model.predict(valSet)\n",
    "acClass = []\n",
    "for x, labels in valSet:\n",
    "    acClass.extend(labels)\n",
    "\n",
    "for i in range(len(predictions)):\n",
    "    predicted_class = np.argmax(predictions[i])\n",
    "    actual_class = acClass[i]\n",
    "    probability_scores = predictions[i]\n",
    "\n",
    "    print(f\"Sample {i + 1}: Predicted Class={predicted_class},   Actual Class={actual_class},   Probability Scores={probability_scores}\")"
   ]
  },
  {
   "cell_type": "code",
   "execution_count": 134,
   "metadata": {},
   "outputs": [
    {
     "data": {
      "image/png": "[encoded data removed]",
      "text/plain": [
       "<Figure size 800x800 with 1 Axes>"
      ]
     },
     "metadata": {},
     "output_type": "display_data"
    }
   ],
   "source": [
    "fpr, tpr, _ = roc_curve(acClass, predictions)\n",
    "roc_auc = auc(fpr, tpr)\n",
    "\n",
    "plt.figure(figsize=(8, 8))\n",
    "plt.plot(fpr, tpr, color='darkorange', lw=2, label='ROC curve (area = {:.2f})'.format(roc_auc))\n",
    "plt.plot([0, 1], [0, 1], color='navy', lw=2, linestyle='--')\n",
    "plt.xlim([0.0, 1.0])\n",
    "plt.ylim([0.0, 1.05])\n",
    "plt.xlabel('False Positive Rate')\n",
    "plt.ylabel('True Positive Rate')\n",
    "plt.title('Receiver Operating Characteristic (ROC) Curve')\n",
    "plt.legend(loc=\"lower right\")\n",
    "plt.show()"
   ]
  },
  {
   "cell_type": "code",
   "execution_count": 139,
   "metadata": {},
   "outputs": [
    {
     "name": "stdout",
     "output_type": "stream",
     "text": [
      "Class Names: ['AI', 'Human']\n",
      "True Labels: [0 1 1 0 1 1 1 0 0 1 0 1 0 0 1 1 0 0 0 1 0 0 0 0 1 1 0 0 1 1 0 1 0 0 0 0 1\n",
      " 1 0 0 0 0 0 0 1 1 1 1 0 1 1 1 1 1 0 1 1 0 0 1 1 0 1 0 1 1 1 0 1 1 1 0 0 0\n",
      " 0 1 1 1 0 0 1 0 0 1 0 0 1 0 0 1 1 1 0 1 1 1 1 0 0 1 1 0 1 1 1 1 1 0 1 0 1\n",
      " 0 0 1 0 1 1 0 0 0 0 1 1 1 0 0 1 0 0 1 1 0 1 0 0 0 1 0 0 0 1 0 0 1 1 0 0 1\n",
      " 1 1 0 0 1 1 0 1 0 0 0 1]\n"
     ]
    }
   ],
   "source": [
    "class_names = valSet.class_names\n",
    "print(\"Class Names:\", class_names)\n",
    "\n",
    "true_labels = valSet.map(lambda x, y: y)\n",
    "true_labels = np.concatenate(list(true_labels.as_numpy_iterator()))\n",
    "print(\"True Labels:\", true_labels)"
   ]
  },
  {
   "cell_type": "code",
   "execution_count": 140,
   "metadata": {},
   "outputs": [
    {
     "name": "stdout",
     "output_type": "stream",
     "text": [
      "3/3 [==============================] - 1s 219ms/step\n",
      "Optimal Threshold: 0.42601773142814636\n",
      "New Accuracy: 0.5\n"
     ]
    }
   ],
   "source": [
    "# Assuming `validation_generator` is your validation dataset generator\n",
    "# Make sure to set shuffle=False for consistent ordering\n",
    "predictions = model.predict(valSet)\n",
    "# true_labels = valSet.classes  # Ensure this matches your validation data\n",
    "\n",
    "# Compute precision-recall pairs for different probability thresholds\n",
    "precisions, recalls, thresholds = precision_recall_curve(true_labels, predictions)\n",
    "\n",
    "# Example: Choose a threshold that balances precision and recall\n",
    "# This is a simplistic approach; consider your specific application needs\n",
    "optimal_idx = np.argmax(precisions + recalls)\n",
    "optimal_threshold = thresholds[optimal_idx]\n",
    "\n",
    "print(f\"Optimal Threshold: {optimal_threshold}\")\n",
    "\n",
    "# Convert probabilities to class predictions based on the new threshold\n",
    "new_predictions = (predictions > optimal_threshold).astype(int)\n",
    "\n",
    "# Example: Evaluate performance with the new threshold\n",
    "from sklearn.metrics import accuracy_score\n",
    "new_accuracy = accuracy_score(true_labels, new_predictions)\n",
    "print(f\"New Accuracy: {new_accuracy}\")"
   ]
  },
  {
   "cell_type": "markdown",
   "metadata": {},
   "source": [
    "__<h2>🤖 Data Augmentation 🤖</h2>__"
   ]
  },
  {
   "cell_type": "code",
   "execution_count": 32,
   "metadata": {},
   "outputs": [],
   "source": [
    "def spec_augment(spectrogram, num_mask=2, freq_masking_max_percentage=0.15, time_masking_max_percentage=0.3):\n",
    "    \"\"\"\n",
    "    Apply SpecAugment on a spectrogram.\n",
    "    \n",
    "    Parameters:\n",
    "    - spectrogram: The input spectrogram.\n",
    "    - num_mask: Number of masks to apply for both frequency and time masking.\n",
    "    - freq_masking_max_percentage: Maximum percentage of frequency bands to mask.\n",
    "    - time_masking_max_percentage: Maximum percentage of time steps to mask.\n",
    "    \"\"\"\n",
    "    freq_channels = spectrogram.shape[0]\n",
    "    time_channels = spectrogram.shape[1]\n",
    "    \n",
    "    # Frequency masking\n",
    "    for _ in range(num_mask):\n",
    "        freq_band = np.random.uniform(low=0.0, high=freq_masking_max_percentage * freq_channels)\n",
    "        freq_base = np.random.uniform(low=0.0, high=freq_channels - freq_band)\n",
    "        spectrogram[int(freq_base):int(freq_base+freq_band), :] = 0\n",
    "    \n",
    "    # Time masking\n",
    "    for _ in range(num_mask):\n",
    "        time_band = np.random.uniform(low=0.0, high=time_masking_max_percentage * time_channels)\n",
    "        time_base = np.random.uniform(low=0.0, high=time_channels - time_band)\n",
    "        spectrogram[:, int(time_base):int(time_base+time_band)] = 0\n",
    "    \n",
    "    return spectrogram\n",
    "\n",
    "def data_generator(batch_size, dataset):\n",
    "    \"\"\"\n",
    "    A generator that yields batches of augmented spectrograms.\n",
    "    \n",
    "    Parameters:\n",
    "    - batch_size: Size of the batch.\n",
    "    - dataset: The dataset to iterate over.\n",
    "    \"\"\"\n",
    "    while True:\n",
    "        batch_features = []\n",
    "        batch_labels = []\n",
    "        \n",
    "        for features, label in dataset:\n",
    "            augmented_features = spec_augment(features.numpy())\n",
    "            batch_features.append(augmented_features)\n",
    "            batch_labels.append(label)\n",
    "            \n",
    "            if len(batch_features) == batch_size:\n",
    "                yield np.array(batch_features), np.array(batch_labels)\n",
    "                batch_features = []\n",
    "                batch_labels = []\n",
    "\n",
    "# trainSet object containing your spectrogram data\n",
    "batch_size = 64\n",
    "augmented_train_dataset = data_generator(batch_size, trainSet)\n",
    "augmented_val_dataset = data_generator(batch_size, valSet)"
   ]
  },
  {
   "cell_type": "code",
   "execution_count": null,
   "metadata": {},
   "outputs": [],
   "source": [
    "file1 = \"Human\"\n",
    "source_dir = \"C:/Users/jeant/OneDrive - Chulalongkorn University/Desktop/Senior Project/Convertor code/Model/data1/validation/{}/\".format(file1)\n",
    "target_dir = \"C:/Users/jeant/OneDrive - Chulalongkorn University/Desktop/Senior Project/Convertor code/Model/data1/augmentedValSet/{}/\".format(file1)\n",
    "os.makedirs(target_dir, exist_ok=True)\n",
    "\n",
    "def save_augmented_images(source_dir, target_dir, augment_function):\n",
    "    image_files = [f for f in os.listdir(source_dir) if f.endswith('.png')]\n",
    "    for image_file in image_files:\n",
    "        # Load the image\n",
    "        image_path = os.path.join(source_dir, image_file)\n",
    "        image = Image.open(image_path)\n",
    "        image_array = np.array(image)\n",
    "\n",
    "        # Augment the image\n",
    "        augmented_image_array = augment_function(image_array)\n",
    "\n",
    "        # Save the augmented image\n",
    "        augmented_image = Image.fromarray(augmented_image_array)\n",
    "        augmented_image_path = os.path.join(target_dir, f\"aug_{image_file}\")\n",
    "        augmented_image.save(augmented_image_path)\n",
    "\n",
    "    print(f\"Total images after augmentation: {len(os.listdir(target_dir))}\")\n",
    "\n",
    "save_augmented_images(source_dir, target_dir, spec_augment)"
   ]
  },
  {
   "cell_type": "code",
   "execution_count": 68,
   "metadata": {},
   "outputs": [],
   "source": [
    "augTrain = \"C:/Users/jeant/OneDrive - Chulalongkorn University/Desktop/Senior Project/Convertor code/Model/data1/augmentedTrainSet\"\n",
    "augVal = \"C:/Users/jeant/OneDrive - Chulalongkorn University/Desktop/Senior Project/Convertor code/Model/data1/augmentedValSet\""
   ]
  },
  {
   "cell_type": "code",
   "execution_count": 89,
   "metadata": {},
   "outputs": [
    {
     "name": "stdout",
     "output_type": "stream",
     "text": [
      "Found 960 files belonging to 2 classes.\n",
      "Found 320 files belonging to 2 classes.\n"
     ]
    }
   ],
   "source": [
    "newTrainSet = image_dataset_from_directory(\n",
    "    augTrain,\n",
    "    image_size = (224,224),\n",
    "    batch_size = 64\n",
    ")\n",
    "\n",
    "newValSet = image_dataset_from_directory(\n",
    "    augVal,\n",
    "    image_size = (224,224),\n",
    "    batch_size = 64\n",
    ")"
   ]
  },
  {
   "cell_type": "code",
   "execution_count": 90,
   "metadata": {},
   "outputs": [],
   "source": [
    "# training from scratch\n",
    "def build_model_scratch3():\n",
    "  model = Sequential()\n",
    "  model.add(Input((224,224,3)))\n",
    "  model.add(Rescaling(1./255)) # normalize colors pixcel from 0 = black, 255 = white --> length 0-1\n",
    "  \n",
    "  model.add(Conv2D(filters=32,kernel_size=3,padding='same',activation='relu'))\n",
    "  model.add(MaxPooling2D(pool_size=2))\n",
    "  model.add(BatchNormalization())\n",
    "  model.add(Dropout(0.5))\n",
    "\n",
    "  # model.add(Conv2D(filters=32,kernel_size=3,padding='same',activation='relu'))\n",
    "  # model.add(MaxPooling2D(pool_size=2))\n",
    "  # model.add(BatchNormalization())\n",
    "  # model.add(Dropout(0.6))\n",
    "\n",
    "  model.add(Flatten())\n",
    "  model.add(BatchNormalization())\n",
    "  model.add(Dense(50, activation='relu', kernel_regularizer=l2(0.01)))\n",
    "  model.add(BatchNormalization())\n",
    "  model.add(Dropout(0.5))\n",
    "  model.add(Dense(1, activation='sigmoid'))\n",
    "\n",
    "  return model"
   ]
  },
  {
   "cell_type": "code",
   "execution_count": 91,
   "metadata": {},
   "outputs": [
    {
     "name": "stdout",
     "output_type": "stream",
     "text": [
      "Model: \"sequential_11\"\n",
      "_________________________________________________________________\n",
      " Layer (type)                Output Shape              Param #   \n",
      "=================================================================\n",
      " rescaling_11 (Rescaling)    (None, 224, 224, 3)       0         \n",
      "                                                                 \n",
      " conv2d_17 (Conv2D)          (None, 224, 224, 32)      896       \n",
      "                                                                 \n",
      " max_pooling2d_17 (MaxPooli  (None, 112, 112, 32)      0         \n",
      " ng2D)                                                           \n",
      "                                                                 \n",
      " batch_normalization_39 (Ba  (None, 112, 112, 32)      128       \n",
      " tchNormalization)                                               \n",
      "                                                                 \n",
      " dropout_28 (Dropout)        (None, 112, 112, 32)      0         \n",
      "                                                                 \n",
      " flatten_11 (Flatten)        (None, 401408)            0         \n",
      "                                                                 \n",
      " batch_normalization_40 (Ba  (None, 401408)            1605632   \n",
      " tchNormalization)                                               \n",
      "                                                                 \n",
      " dense_22 (Dense)            (None, 50)                20070450  \n",
      "                                                                 \n",
      " batch_normalization_41 (Ba  (None, 50)                200       \n",
      " tchNormalization)                                               \n",
      "                                                                 \n",
      " dropout_29 (Dropout)        (None, 50)                0         \n",
      "                                                                 \n",
      " dense_23 (Dense)            (None, 1)                 51        \n",
      "                                                                 \n",
      "=================================================================\n",
      "Total params: 21677357 (82.69 MB)\n",
      "Trainable params: 20874377 (79.63 MB)\n",
      "Non-trainable params: 802980 (3.06 MB)\n",
      "_________________________________________________________________\n",
      "Epoch 1/20\n",
      "15/15 [==============================] - 27s 2s/step - loss: 3.2449 - accuracy: 0.8667 - val_loss: 5.5206 - val_accuracy: 0.5063 - lr: 0.0010\n",
      "Epoch 2/20\n",
      "15/15 [==============================] - 25s 2s/step - loss: 4.3778 - accuracy: 0.9760 - val_loss: 5.1598 - val_accuracy: 0.5000 - lr: 0.0010\n",
      "Epoch 3/20\n",
      "15/15 [==============================] - 24s 2s/step - loss: 3.5795 - accuracy: 0.9875 - val_loss: 4.1850 - val_accuracy: 0.5000 - lr: 0.0010\n",
      "Epoch 4/20\n",
      "15/15 [==============================] - 24s 2s/step - loss: 2.6694 - accuracy: 0.9958 - val_loss: 3.4392 - val_accuracy: 0.5000 - lr: 0.0010\n",
      "Epoch 5/20\n",
      "15/15 [==============================] - 26s 2s/step - loss: 1.9913 - accuracy: 0.9948 - val_loss: 2.7964 - val_accuracy: 0.5000 - lr: 0.0010\n",
      "Epoch 6/20\n",
      "15/15 [==============================] - 25s 2s/step - loss: 1.5511 - accuracy: 0.9979 - val_loss: 2.3761 - val_accuracy: 0.5000 - lr: 0.0010\n"
     ]
    }
   ],
   "source": [
    "model = build_model_scratch3()\n",
    "model.summary()\n",
    "model.compile(optimizer=Adam(learning_rate=0.001, beta_1=0.9, beta_2=0.999),\n",
    "                loss='binary_crossentropy',\n",
    "                metrics=['accuracy'])\n",
    "\n",
    "history = model.fit(newTrainSet, epochs=20, validation_data=newValSet, verbose=1,\n",
    "                    batch_size = 64, callbacks=[early_stopping_cb,model_checkpoint_cb2,reduce_lr_cb])\n",
    "\n",
    "# history = model.fit(trainSet, epochs=10, validation_data=valSet, verbose=1)"
   ]
  },
  {
   "cell_type": "code",
   "execution_count": 127,
   "metadata": {},
   "outputs": [
    {
     "data": {
      "image/png": "[encoded data removed]",
      "text/plain": [
       "<Figure size 1200x600 with 2 Axes>"
      ]
     },
     "metadata": {},
     "output_type": "display_data"
    }
   ],
   "source": [
    "def plot_training_history(history):\n",
    "    acc = history.history['accuracy']\n",
    "    val_acc = history.history['val_accuracy']\n",
    "    loss = history.history['loss']\n",
    "    val_loss = history.history['val_loss']\n",
    "    epochs_range = range(len(acc))\n",
    "    \n",
    "    plt.figure(figsize=(12, 6))\n",
    "    plt.subplot(1, 2, 1)\n",
    "    plt.plot(epochs_range, acc, label='Training Accuracy')\n",
    "    plt.plot(epochs_range, val_acc, label='Validation Accuracy')\n",
    "    plt.legend(loc='lower right')\n",
    "    plt.title('Training and Validation Accuracy')\n",
    "    \n",
    "    plt.subplot(1, 2, 2)\n",
    "    plt.plot(epochs_range, loss, label='Training Loss')\n",
    "    plt.plot(epochs_range, val_loss, label='Validation Loss')\n",
    "    plt.legend(loc='upper right')\n",
    "    plt.title('Training and Validation Loss')\n",
    "    plt.show()\n",
    "\n",
    "plot_training_history(history)"
   ]
  },
  {
   "cell_type": "code",
   "execution_count": 128,
   "metadata": {},
   "outputs": [
    {
     "name": "stdout",
     "output_type": "stream",
     "text": [
      "3/3 [==============================] - 1s 184ms/step - loss: 1.7938 - accuracy: 0.5063\n",
      "test_oss: 1.7937915325164795\n",
      "test_acc: 0.5062500238418579\n"
     ]
    }
   ],
   "source": [
    "# test set\n",
    "loss, acc = model.evaluate(testSet)\n",
    "print('test_oss:', loss)\n",
    "print('test_acc:', acc)"
   ]
  }
 ],
 "metadata": {
  "kernelspec": {
   "display_name": "Python 3",
   "language": "python",
   "name": "python3"
  },
  "language_info": {
   "codemirror_mode": {
    "name": "ipython",
    "version": 3
   },
   "file_extension": ".py",
   "mimetype": "text/x-python",
   "name": "python",
   "nbconvert_exporter": "python",
   "pygments_lexer": "ipython3",
   "version": "3.10.1"
  }
 },
 "nbformat": 4,
 "nbformat_minor": 2
}
