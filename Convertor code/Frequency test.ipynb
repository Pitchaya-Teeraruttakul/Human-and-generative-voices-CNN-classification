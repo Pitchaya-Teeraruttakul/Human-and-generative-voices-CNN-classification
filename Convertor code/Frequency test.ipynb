{
 "cells": [
  {
   "cell_type": "markdown",
   "metadata": {},
   "source": [
    "__<h3>Check frequency of .wav audio file format (Not loop yet)</h3>__"
   ]
  },
  {
   "cell_type": "code",
   "execution_count": 2,
   "metadata": {},
   "outputs": [
    {
     "name": "stdout",
     "output_type": "stream",
     "text": [
      "Sampling rate of 'Alan 1.wav': 22050 Hz\n"
     ]
    }
   ],
   "source": [
    "import wave\n",
    "\n",
    "def get_sampling_rate(filename):\n",
    "  \"\"\"\n",
    "  Extracts the sampling rate from a WAV file.\n",
    "\n",
    "  Args:\n",
    "    filename: Path to the WAV file.\n",
    "\n",
    "  Returns:\n",
    "    The sampling rate of the WAV file as an integer (samples per second).\n",
    "  \"\"\"\n",
    "  with wave.open(filename, 'rb') as wav_file:\n",
    "    # Read the WAVE file header\n",
    "    num_channels, sample_width, sampling_rate, num_frames, compression_code, a = wav_file.getparams()\n",
    "    \n",
    "  return sampling_rate\n",
    "\n",
    "# Example usage\n",
    "# filename1 = \"test1.wav\"\n",
    "# filename2 = \"Test 12345.wav\"\n",
    "# filename3 = \"Test test 1234af.wav\"\n",
    "# filename4 = \"C:/Users/jeant/OneDrive - Chulalongkorn University/Desktop/Senior Project/Dataset/AI voice (16000)/Ava/Ava 1\"\n",
    "\n",
    "filename = \"Alan 1.wav\"\n",
    "\n",
    "# sampling_rate1 = get_sampling_rate(filename1)\n",
    "# sampling_rate2 = get_sampling_rate(filename2)\n",
    "# sampling_rate3 = get_sampling_rate(filename3)\n",
    "# sampling_rate4 = get_sampling_rate(filename4)\n",
    "\n",
    "sampling_rate = get_sampling_rate(filename)\n",
    "\n",
    "# print(f\"Sampling rate of '{filename1}': {sampling_rate1} Hz\")\n",
    "# print(f\"Sampling rate of '{filename2}': {sampling_rate2} Hz\")\n",
    "# print(f\"Sampling rate of '{filename3}': {sampling_rate2} Hz\")\n",
    "# print(f\"Sampling rate of '{filename4}': {sampling_rate4} Hz\")\n",
    "\n",
    "print(f\"Sampling rate of '{filename}': {sampling_rate} Hz\")"
   ]
  },
  {
   "cell_type": "markdown",
   "metadata": {},
   "source": [
    "__<h3>Compress .wav file which have frequency 44100 Hz to 16000 Hz</h3>__"
   ]
  },
  {
   "cell_type": "code",
   "execution_count": 3,
   "metadata": {},
   "outputs": [
    {
     "name": "stdout",
     "output_type": "stream",
     "text": [
      "Downsampled audio written to: Saree 1af.wav\n"
     ]
    }
   ],
   "source": [
    "import soundfile as sf\n",
    "from scipy.signal import resample_poly\n",
    "\n",
    "# Define input and output filenames\n",
    "input_file = \"Saree 1.wav\"\n",
    "output_file = \"Saree 1af.wav\"\n",
    "\n",
    "# Read the audio data from the input file\n",
    "audio_data, sampling_rate = sf.read(input_file)\n",
    "\n",
    "# Check if sampling rate is already 16,000 Hz\n",
    "if sampling_rate == 16000:\n",
    "  print(\"Audio already at desired sampling rate\")\n",
    "  exit(0)\n",
    "\n",
    "resampling_factor = sampling_rate / 16000\n",
    "\n",
    "# Resample the audio data to 16,000 Hz\n",
    "new_audio_data = resample_poly(audio_data, up=1, down=int(resampling_factor))\n",
    "\n",
    "# Write the downsampled data to the output file\n",
    "sf.write(output_file, new_audio_data, 16000)\n",
    "\n",
    "print(f\"Downsampled audio written to: {output_file}\")"
   ]
  },
  {
   "cell_type": "code",
   "execution_count": 9,
   "metadata": {},
   "outputs": [],
   "source": [
    "import os\n",
    "import soundfile as sf\n",
    "from scipy.signal import resample_poly\n",
    "\n",
    "# Specify the input and output paths\n",
    "input_path = \"C:/Users/jeant/OneDrive - Chulalongkorn University/Desktop/Senior Project/Dataset/AI voice (16000)/Vanilla/\"\n",
    "output_path = \"C:/Users/jeant/OneDrive - Chulalongkorn University/Desktop/Senior Project/Dataset/AI voice (16000)/Vanilla Downsampling/\"\n",
    "\n",
    "# Iterate through all files in the input path\n",
    "for filename in os.listdir(input_path):\n",
    "    if filename.endswith(\".wav\"):\n",
    "        # Construct full input and output file paths\n",
    "        input_file = os.path.join(input_path, filename)\n",
    "        output_file = os.path.join(output_path, filename[:-4] + \".wav\")\n",
    "\n",
    "        # Read the audio data from the input file\n",
    "        audio_data, sampling_rate = sf.read(input_file)\n",
    "\n",
    "        # Check if sampling rate is already 16,000 Hz\n",
    "        if sampling_rate == 16000:\n",
    "            print(\"Audio already at desired sampling rate\")\n",
    "            exit(0)\n",
    "\n",
    "        resampling_factor = sampling_rate / 16000\n",
    "\n",
    "        # Resample the audio data to 16,000 Hz\n",
    "        new_audio_data = resample_poly(audio_data, up=1, down=int(resampling_factor))\n",
    "\n",
    "        # Write the downsampled data to the output file\n",
    "        sf.write(output_file, new_audio_data, 16000)"
   ]
  },
  {
   "cell_type": "markdown",
   "metadata": {},
   "source": [
    "__<h3>Upsampling .wav file which have frequency 16000 Hz to 44100 Hz</h3>__"
   ]
  },
  {
   "cell_type": "code",
   "execution_count": 15,
   "metadata": {},
   "outputs": [],
   "source": [
    "# ! pip install -q resampy==0.2.2"
   ]
  },
  {
   "cell_type": "code",
   "execution_count": 22,
   "metadata": {},
   "outputs": [
    {
     "name": "stdout",
     "output_type": "stream",
     "text": [
      "0.2.2\n"
     ]
    }
   ],
   "source": [
    "import resampy\n",
    "print(resampy.__version__)"
   ]
  },
  {
   "cell_type": "code",
   "execution_count": 35,
   "metadata": {},
   "outputs": [
    {
     "name": "stdout",
     "output_type": "stream",
     "text": [
      "Upsampled audio written to: Test test 1234af.wav\n"
     ]
    }
   ],
   "source": [
    "import librosa\n",
    "import soundfile as sf\n",
    "from scipy.signal import resample_poly\n",
    "\n",
    "# Define input and output filenames\n",
    "input_file = \"Test test 1234.wav\"\n",
    "output_file = \"Test test 1234af.wav\"\n",
    "\n",
    "audio_data, sampling_rate = librosa.load(input_file, sr=None)\n",
    "\n",
    "if sampling_rate == 44100:\n",
    "    print(\"Audio already at desired sampling rate\")\n",
    "    exit(0)\n",
    "\n",
    "# Upsample using librosa.resample\n",
    "target_sr = 44100\n",
    "upsampled_data = librosa.resample(audio_data, orig_sr=sampling_rate, target_sr=target_sr)\n",
    "\n",
    "# Save upsampled audio\n",
    "sf.write(output_file, upsampled_data, target_sr)\n",
    "\n",
    "print(f\"Upsampled audio written to: {output_file}\")"
   ]
  }
 ],
 "metadata": {
  "kernelspec": {
   "display_name": "Python 3",
   "language": "python",
   "name": "python3"
  },
  "language_info": {
   "codemirror_mode": {
    "name": "ipython",
    "version": 3
   },
   "file_extension": ".py",
   "mimetype": "text/x-python",
   "name": "python",
   "nbconvert_exporter": "python",
   "pygments_lexer": "ipython3",
   "version": "3.10.1"
  }
 },
 "nbformat": 4,
 "nbformat_minor": 2
}
