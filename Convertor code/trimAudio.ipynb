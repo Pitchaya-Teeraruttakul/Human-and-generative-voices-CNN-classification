{
 "cells": [
  {
   "cell_type": "markdown",
   "metadata": {},
   "source": [
    "# __Trim the Audio file which exceed 2 second__ &#11088;"
   ]
  },
  {
   "cell_type": "code",
   "execution_count": 4,
   "metadata": {},
   "outputs": [],
   "source": [
    "import os\n",
    "from pydub import AudioSegment\n",
    "import librosa"
   ]
  },
  {
   "cell_type": "code",
   "execution_count": 31,
   "metadata": {},
   "outputs": [],
   "source": [
    "mode = \"AI\"\n",
    "name = \"Vanilla\""
   ]
  },
  {
   "cell_type": "code",
   "execution_count": 32,
   "metadata": {},
   "outputs": [
    {
     "name": "stdout",
     "output_type": "stream",
     "text": [
      "C:/Users/jeant/OneDrive - Chulalongkorn University/Desktop/Senior Project/Dataset/AI voice (16000)/Vanilla/Vanilla 1.wav\n",
      "C:/Users/jeant/OneDrive - Chulalongkorn University/Desktop/Senior Project/Dataset/AI voice (16000)/Vanilla/Vanilla 10.wav\n",
      "C:/Users/jeant/OneDrive - Chulalongkorn University/Desktop/Senior Project/Dataset/AI voice (16000)/Vanilla/Vanilla 11.wav\n",
      "C:/Users/jeant/OneDrive - Chulalongkorn University/Desktop/Senior Project/Dataset/AI voice (16000)/Vanilla/Vanilla 12.wav\n",
      "C:/Users/jeant/OneDrive - Chulalongkorn University/Desktop/Senior Project/Dataset/AI voice (16000)/Vanilla/Vanilla 13.wav\n",
      "C:/Users/jeant/OneDrive - Chulalongkorn University/Desktop/Senior Project/Dataset/AI voice (16000)/Vanilla/Vanilla 14.wav\n",
      "C:/Users/jeant/OneDrive - Chulalongkorn University/Desktop/Senior Project/Dataset/AI voice (16000)/Vanilla/Vanilla 15.wav\n",
      "C:/Users/jeant/OneDrive - Chulalongkorn University/Desktop/Senior Project/Dataset/AI voice (16000)/Vanilla/Vanilla 16.wav\n",
      "C:/Users/jeant/OneDrive - Chulalongkorn University/Desktop/Senior Project/Dataset/AI voice (16000)/Vanilla/Vanilla 17.wav\n",
      "C:/Users/jeant/OneDrive - Chulalongkorn University/Desktop/Senior Project/Dataset/AI voice (16000)/Vanilla/Vanilla 18.wav\n",
      "C:/Users/jeant/OneDrive - Chulalongkorn University/Desktop/Senior Project/Dataset/AI voice (16000)/Vanilla/Vanilla 19.wav\n",
      "C:/Users/jeant/OneDrive - Chulalongkorn University/Desktop/Senior Project/Dataset/AI voice (16000)/Vanilla/Vanilla 2.wav\n",
      "C:/Users/jeant/OneDrive - Chulalongkorn University/Desktop/Senior Project/Dataset/AI voice (16000)/Vanilla/Vanilla 20.wav\n",
      "C:/Users/jeant/OneDrive - Chulalongkorn University/Desktop/Senior Project/Dataset/AI voice (16000)/Vanilla/Vanilla 21.wav\n",
      "C:/Users/jeant/OneDrive - Chulalongkorn University/Desktop/Senior Project/Dataset/AI voice (16000)/Vanilla/Vanilla 22.wav\n",
      "C:/Users/jeant/OneDrive - Chulalongkorn University/Desktop/Senior Project/Dataset/AI voice (16000)/Vanilla/Vanilla 23.wav\n",
      "C:/Users/jeant/OneDrive - Chulalongkorn University/Desktop/Senior Project/Dataset/AI voice (16000)/Vanilla/Vanilla 24.wav\n",
      "C:/Users/jeant/OneDrive - Chulalongkorn University/Desktop/Senior Project/Dataset/AI voice (16000)/Vanilla/Vanilla 25.wav\n",
      "C:/Users/jeant/OneDrive - Chulalongkorn University/Desktop/Senior Project/Dataset/AI voice (16000)/Vanilla/Vanilla 26.wav\n",
      "C:/Users/jeant/OneDrive - Chulalongkorn University/Desktop/Senior Project/Dataset/AI voice (16000)/Vanilla/Vanilla 27.wav\n",
      "C:/Users/jeant/OneDrive - Chulalongkorn University/Desktop/Senior Project/Dataset/AI voice (16000)/Vanilla/Vanilla 28.wav\n",
      "C:/Users/jeant/OneDrive - Chulalongkorn University/Desktop/Senior Project/Dataset/AI voice (16000)/Vanilla/Vanilla 29.wav\n",
      "C:/Users/jeant/OneDrive - Chulalongkorn University/Desktop/Senior Project/Dataset/AI voice (16000)/Vanilla/Vanilla 3.wav\n",
      "C:/Users/jeant/OneDrive - Chulalongkorn University/Desktop/Senior Project/Dataset/AI voice (16000)/Vanilla/Vanilla 30.wav\n",
      "C:/Users/jeant/OneDrive - Chulalongkorn University/Desktop/Senior Project/Dataset/AI voice (16000)/Vanilla/Vanilla 31.wav\n",
      "C:/Users/jeant/OneDrive - Chulalongkorn University/Desktop/Senior Project/Dataset/AI voice (16000)/Vanilla/Vanilla 32.wav\n",
      "C:/Users/jeant/OneDrive - Chulalongkorn University/Desktop/Senior Project/Dataset/AI voice (16000)/Vanilla/Vanilla 33.wav\n",
      "C:/Users/jeant/OneDrive - Chulalongkorn University/Desktop/Senior Project/Dataset/AI voice (16000)/Vanilla/Vanilla 34.wav\n",
      "C:/Users/jeant/OneDrive - Chulalongkorn University/Desktop/Senior Project/Dataset/AI voice (16000)/Vanilla/Vanilla 35.wav\n",
      "C:/Users/jeant/OneDrive - Chulalongkorn University/Desktop/Senior Project/Dataset/AI voice (16000)/Vanilla/Vanilla 36.wav\n",
      "C:/Users/jeant/OneDrive - Chulalongkorn University/Desktop/Senior Project/Dataset/AI voice (16000)/Vanilla/Vanilla 37.wav\n",
      "C:/Users/jeant/OneDrive - Chulalongkorn University/Desktop/Senior Project/Dataset/AI voice (16000)/Vanilla/Vanilla 38.wav\n",
      "C:/Users/jeant/OneDrive - Chulalongkorn University/Desktop/Senior Project/Dataset/AI voice (16000)/Vanilla/Vanilla 39.wav\n",
      "C:/Users/jeant/OneDrive - Chulalongkorn University/Desktop/Senior Project/Dataset/AI voice (16000)/Vanilla/Vanilla 4.wav\n",
      "C:/Users/jeant/OneDrive - Chulalongkorn University/Desktop/Senior Project/Dataset/AI voice (16000)/Vanilla/Vanilla 40.wav\n",
      "C:/Users/jeant/OneDrive - Chulalongkorn University/Desktop/Senior Project/Dataset/AI voice (16000)/Vanilla/Vanilla 41.wav\n",
      "C:/Users/jeant/OneDrive - Chulalongkorn University/Desktop/Senior Project/Dataset/AI voice (16000)/Vanilla/Vanilla 42.wav\n",
      "C:/Users/jeant/OneDrive - Chulalongkorn University/Desktop/Senior Project/Dataset/AI voice (16000)/Vanilla/Vanilla 43.wav\n",
      "C:/Users/jeant/OneDrive - Chulalongkorn University/Desktop/Senior Project/Dataset/AI voice (16000)/Vanilla/Vanilla 44.wav\n",
      "C:/Users/jeant/OneDrive - Chulalongkorn University/Desktop/Senior Project/Dataset/AI voice (16000)/Vanilla/Vanilla 45.wav\n",
      "C:/Users/jeant/OneDrive - Chulalongkorn University/Desktop/Senior Project/Dataset/AI voice (16000)/Vanilla/Vanilla 46.wav\n",
      "C:/Users/jeant/OneDrive - Chulalongkorn University/Desktop/Senior Project/Dataset/AI voice (16000)/Vanilla/Vanilla 47.wav\n",
      "C:/Users/jeant/OneDrive - Chulalongkorn University/Desktop/Senior Project/Dataset/AI voice (16000)/Vanilla/Vanilla 48.wav\n",
      "C:/Users/jeant/OneDrive - Chulalongkorn University/Desktop/Senior Project/Dataset/AI voice (16000)/Vanilla/Vanilla 49.wav\n",
      "C:/Users/jeant/OneDrive - Chulalongkorn University/Desktop/Senior Project/Dataset/AI voice (16000)/Vanilla/Vanilla 5.wav\n",
      "C:/Users/jeant/OneDrive - Chulalongkorn University/Desktop/Senior Project/Dataset/AI voice (16000)/Vanilla/Vanilla 50.wav\n",
      "C:/Users/jeant/OneDrive - Chulalongkorn University/Desktop/Senior Project/Dataset/AI voice (16000)/Vanilla/Vanilla 6.wav\n",
      "C:/Users/jeant/OneDrive - Chulalongkorn University/Desktop/Senior Project/Dataset/AI voice (16000)/Vanilla/Vanilla 7.wav\n",
      "C:/Users/jeant/OneDrive - Chulalongkorn University/Desktop/Senior Project/Dataset/AI voice (16000)/Vanilla/Vanilla 8.wav\n",
      "C:/Users/jeant/OneDrive - Chulalongkorn University/Desktop/Senior Project/Dataset/AI voice (16000)/Vanilla/Vanilla 9.wav\n"
     ]
    }
   ],
   "source": [
    "directory = \"C:/Users/jeant/OneDrive - Chulalongkorn University/Desktop/Senior Project/Dataset/{} voice (16000)/{}/\".format(mode,name)\n",
    "# directory = \"C:/Users/jeant/OneDrive - Chulalongkorn University/Desktop/Senior Project/Dataset/{} voice (16000)/{}.wav/\".format(mode,name)\n",
    "for filename in os.listdir(directory):\n",
    "    if filename.endswith(\".wav\"):\n",
    "        fullPath = os.path.join(directory, filename)\n",
    "        print(fullPath)"
   ]
  },
  {
   "cell_type": "code",
   "execution_count": 33,
   "metadata": {},
   "outputs": [
    {
     "name": "stdout",
     "output_type": "stream",
     "text": [
      "Trimmed Vanilla 1.wav and saved as Vanilla 1.wav\n",
      "Trimmed Vanilla 10.wav and saved as Vanilla 10.wav\n",
      "Trimmed Vanilla 11.wav and saved as Vanilla 11.wav\n",
      "Trimmed Vanilla 12.wav and saved as Vanilla 12.wav\n",
      "Trimmed Vanilla 13.wav and saved as Vanilla 13.wav\n",
      "Trimmed Vanilla 14.wav and saved as Vanilla 14.wav\n",
      "Trimmed Vanilla 15.wav and saved as Vanilla 15.wav\n",
      "Trimmed Vanilla 16.wav and saved as Vanilla 16.wav\n",
      "Trimmed Vanilla 17.wav and saved as Vanilla 17.wav\n",
      "Trimmed Vanilla 18.wav and saved as Vanilla 18.wav\n",
      "Trimmed Vanilla 19.wav and saved as Vanilla 19.wav\n",
      "Trimmed Vanilla 2.wav and saved as Vanilla 2.wav\n",
      "Trimmed Vanilla 20.wav and saved as Vanilla 20.wav\n",
      "Trimmed Vanilla 21.wav and saved as Vanilla 21.wav\n",
      "Trimmed Vanilla 22.wav and saved as Vanilla 22.wav\n",
      "Trimmed Vanilla 23.wav and saved as Vanilla 23.wav\n",
      "Trimmed Vanilla 24.wav and saved as Vanilla 24.wav\n",
      "Trimmed Vanilla 25.wav and saved as Vanilla 25.wav\n",
      "Trimmed Vanilla 26.wav and saved as Vanilla 26.wav\n",
      "Trimmed Vanilla 27.wav and saved as Vanilla 27.wav\n",
      "Trimmed Vanilla 28.wav and saved as Vanilla 28.wav\n",
      "Trimmed Vanilla 29.wav and saved as Vanilla 29.wav\n",
      "Trimmed Vanilla 3.wav and saved as Vanilla 3.wav\n",
      "Trimmed Vanilla 30.wav and saved as Vanilla 30.wav\n",
      "Trimmed Vanilla 31.wav and saved as Vanilla 31.wav\n",
      "Trimmed Vanilla 32.wav and saved as Vanilla 32.wav\n",
      "Trimmed Vanilla 33.wav and saved as Vanilla 33.wav\n",
      "Trimmed Vanilla 34.wav and saved as Vanilla 34.wav\n",
      "Trimmed Vanilla 35.wav and saved as Vanilla 35.wav\n",
      "Trimmed Vanilla 36.wav and saved as Vanilla 36.wav\n",
      "Trimmed Vanilla 37.wav and saved as Vanilla 37.wav\n",
      "Trimmed Vanilla 38.wav and saved as Vanilla 38.wav\n",
      "Trimmed Vanilla 39.wav and saved as Vanilla 39.wav\n",
      "Trimmed Vanilla 4.wav and saved as Vanilla 4.wav\n",
      "Trimmed Vanilla 40.wav and saved as Vanilla 40.wav\n",
      "Trimmed Vanilla 41.wav and saved as Vanilla 41.wav\n",
      "Trimmed Vanilla 42.wav and saved as Vanilla 42.wav\n",
      "Trimmed Vanilla 43.wav and saved as Vanilla 43.wav\n",
      "Trimmed Vanilla 44.wav and saved as Vanilla 44.wav\n",
      "Trimmed Vanilla 45.wav and saved as Vanilla 45.wav\n",
      "Trimmed Vanilla 46.wav and saved as Vanilla 46.wav\n",
      "Trimmed Vanilla 47.wav and saved as Vanilla 47.wav\n",
      "Trimmed Vanilla 48.wav and saved as Vanilla 48.wav\n",
      "Trimmed Vanilla 49.wav and saved as Vanilla 49.wav\n",
      "Trimmed Vanilla 5.wav and saved as Vanilla 5.wav\n",
      "Trimmed Vanilla 50.wav and saved as Vanilla 50.wav\n",
      "Trimmed Vanilla 6.wav and saved as Vanilla 6.wav\n",
      "Trimmed Vanilla 7.wav and saved as Vanilla 7.wav\n",
      "Trimmed Vanilla 8.wav and saved as Vanilla 8.wav\n",
      "Trimmed Vanilla 9.wav and saved as Vanilla 9.wav\n"
     ]
    }
   ],
   "source": [
    "# directory = \"C:/Users/jeant/OneDrive - Chulalongkorn University/Desktop/Senior Project/Dataset/Wav voice (16000)/Bright.wav/\"\n",
    "# directory = \"C:/Users/jeant/OneDrive - Chulalongkorn University/Desktop/Senior Project/Dataset/Wav voice (16000)/{}.wav/\".format(name)\n",
    "\n",
    "# output_dir = \"C:/Users/jeant/OneDrive - Chulalongkorn University/Desktop/Senior Project/Dataset/Wav voice (16000)/{} (trimmed)/\".format(name)\n",
    "output_dir = \"C:/Users/jeant/OneDrive - Chulalongkorn University/Desktop/Senior Project/Dataset/{} voice (16000)/{} 22500 trimmed/\".format(mode,name)\n",
    "os.makedirs(output_dir, exist_ok=True)  # Create the directory if it doesn't exist\n",
    "\n",
    "for filename in os.listdir(directory):\n",
    "    if filename.endswith(\".wav\"):  # Check for supported audio formats\n",
    "        full_path = os.path.join(directory, filename)\n",
    "\n",
    "         # Load the audio file using Pydub\n",
    "        sound = AudioSegment.from_file(full_path, format=\"wav\")\n",
    "\n",
    "        # Cut the first two seconds\n",
    "        two_seconds = sound[:2000]  # 2000 milliseconds = 2 seconds\n",
    "\n",
    "        # Generate a new filename for the trimmed audio\n",
    "        output_filename = f\"{filename}\"\n",
    "        output_path = os.path.join(output_dir, output_filename)\n",
    "\n",
    "        # Export the trimmed audio\n",
    "        two_seconds.export(output_path, format=\"wav\")\n",
    "\n",
    "        print(f\"Trimmed {filename} and saved as {output_filename}\")"
   ]
  },
  {
   "cell_type": "code",
   "execution_count": 34,
   "metadata": {},
   "outputs": [
    {
     "name": "stdout",
     "output_type": "stream",
     "text": [
      "The duration of the audio file Vanilla 1.wav is: 1.96 seconds\n",
      "The duration of the audio file Vanilla 10.wav is: 1.41 seconds\n",
      "The duration of the audio file Vanilla 11.wav is: 1.76 seconds\n",
      "The duration of the audio file Vanilla 12.wav is: 1.86 seconds\n",
      "The duration of the audio file Vanilla 13.wav is: 1.17 seconds\n",
      "The duration of the audio file Vanilla 14.wav is: 1.75 seconds\n",
      "The duration of the audio file Vanilla 15.wav is: 1.37 seconds\n",
      "The duration of the audio file Vanilla 16.wav is: 1.37 seconds\n",
      "The duration of the audio file Vanilla 17.wav is: 1.70 seconds\n",
      "The duration of the audio file Vanilla 18.wav is: 1.58 seconds\n",
      "The duration of the audio file Vanilla 19.wav is: 1.13 seconds\n",
      "The duration of the audio file Vanilla 2.wav is: 1.74 seconds\n",
      "The duration of the audio file Vanilla 20.wav is: 1.62 seconds\n",
      "The duration of the audio file Vanilla 21.wav is: 1.37 seconds\n",
      "The duration of the audio file Vanilla 22.wav is: 1.70 seconds\n",
      "The duration of the audio file Vanilla 23.wav is: 1.55 seconds\n",
      "The duration of the audio file Vanilla 24.wav is: 1.35 seconds\n",
      "The duration of the audio file Vanilla 25.wav is: 1.80 seconds\n",
      "The duration of the audio file Vanilla 26.wav is: 1.30 seconds\n",
      "The duration of the audio file Vanilla 27.wav is: 1.47 seconds\n",
      "The duration of the audio file Vanilla 28.wav is: 1.73 seconds\n",
      "The duration of the audio file Vanilla 29.wav is: 1.73 seconds\n",
      "The duration of the audio file Vanilla 3.wav is: 1.61 seconds\n",
      "The duration of the audio file Vanilla 30.wav is: 1.74 seconds\n",
      "The duration of the audio file Vanilla 31.wav is: 2.00 seconds\n",
      "The duration of the audio file Vanilla 32.wav is: 1.67 seconds\n",
      "The duration of the audio file Vanilla 33.wav is: 1.67 seconds\n",
      "The duration of the audio file Vanilla 34.wav is: 1.31 seconds\n",
      "The duration of the audio file Vanilla 35.wav is: 2.00 seconds\n",
      "The duration of the audio file Vanilla 36.wav is: 1.64 seconds\n",
      "The duration of the audio file Vanilla 37.wav is: 1.43 seconds\n",
      "The duration of the audio file Vanilla 38.wav is: 1.14 seconds\n",
      "The duration of the audio file Vanilla 39.wav is: 1.65 seconds\n",
      "The duration of the audio file Vanilla 4.wav is: 1.64 seconds\n",
      "The duration of the audio file Vanilla 40.wav is: 1.25 seconds\n",
      "The duration of the audio file Vanilla 41.wav is: 1.17 seconds\n",
      "The duration of the audio file Vanilla 42.wav is: 1.37 seconds\n",
      "The duration of the audio file Vanilla 43.wav is: 1.78 seconds\n",
      "The duration of the audio file Vanilla 44.wav is: 1.31 seconds\n",
      "The duration of the audio file Vanilla 45.wav is: 1.84 seconds\n",
      "The duration of the audio file Vanilla 46.wav is: 1.18 seconds\n",
      "The duration of the audio file Vanilla 47.wav is: 1.31 seconds\n",
      "The duration of the audio file Vanilla 48.wav is: 1.41 seconds\n",
      "The duration of the audio file Vanilla 49.wav is: 1.21 seconds\n",
      "The duration of the audio file Vanilla 5.wav is: 1.88 seconds\n",
      "The duration of the audio file Vanilla 50.wav is: 1.49 seconds\n",
      "The duration of the audio file Vanilla 6.wav is: 1.80 seconds\n",
      "The duration of the audio file Vanilla 7.wav is: 1.21 seconds\n",
      "The duration of the audio file Vanilla 8.wav is: 1.42 seconds\n",
      "The duration of the audio file Vanilla 9.wav is: 1.73 seconds\n"
     ]
    }
   ],
   "source": [
    "# file_path = \"C:/Users/jeant/OneDrive - Chulalongkorn University/Desktop/Senior Project/Dataset/Wav voice (16000)/{} (trimmed)/\".format(name)\n",
    "file_path = \"C:/Users/jeant/OneDrive - Chulalongkorn University/Desktop/Senior Project/Dataset/{} voice (16000)/{} 22500 trimmed/\".format(mode,name)\n",
    "\n",
    "for filename in os.listdir(directory):\n",
    "    if filename.endswith(\".wav\"):\n",
    "        audio_file_path = os.path.join(file_path, filename)\n",
    "        try:\n",
    "            y, sr = librosa.load(audio_file_path)\n",
    "\n",
    "            duration = librosa.get_duration(y=y, sr=sr)\n",
    "\n",
    "            print(f\"The duration of the audio file {filename} is: {duration:.2f} seconds\")\n",
    "\n",
    "        except Exception as e:\n",
    "            print(f\"Error processing {filename}: {e}\")  # Catch potential errors"
   ]
  },
  {
   "cell_type": "code",
   "execution_count": 5,
   "metadata": {},
   "outputs": [
    {
     "name": "stdout",
     "output_type": "stream",
     "text": [
      "The duration of the audio file is: 2.00 seconds\n"
     ]
    }
   ],
   "source": [
    "x = \"C:/Users/jeant/OneDrive - Chulalongkorn University/Desktop/Senior Project/Dataset/Human augment voice/Jean 1.wav\"\n",
    "try:\n",
    "    y, sr = librosa.load(x)\n",
    "\n",
    "    duration = librosa.get_duration(y=y, sr=sr)\n",
    "\n",
    "    print(f\"The duration of the audio file is: {duration:.2f} seconds\")\n",
    "\n",
    "except Exception as e:\n",
    "    print(f\"Error processing : {e}\")  # Catch potential errors"
   ]
  }
 ],
 "metadata": {
  "kernelspec": {
   "display_name": "Python 3",
   "language": "python",
   "name": "python3"
  },
  "language_info": {
   "codemirror_mode": {
    "name": "ipython",
    "version": 3
   },
   "file_extension": ".py",
   "mimetype": "text/x-python",
   "name": "python",
   "nbconvert_exporter": "python",
   "pygments_lexer": "ipython3",
   "version": "3.10.1"
  }
 },
 "nbformat": 4,
 "nbformat_minor": 2
}
