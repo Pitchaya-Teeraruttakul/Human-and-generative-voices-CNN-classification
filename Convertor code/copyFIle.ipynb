{
 "cells": [
  {
   "cell_type": "code",
   "execution_count": 1,
   "metadata": {},
   "outputs": [],
   "source": [
    "import shutil\n",
    "import os"
   ]
  },
  {
   "cell_type": "code",
   "execution_count": 5,
   "metadata": {},
   "outputs": [],
   "source": [
    "def copy_files(src_dir, dst_dir):\n",
    "    # Create destination directory if it doesn't exist\n",
    "    if not os.path.exists(dst_dir):\n",
    "        os.makedirs(dst_dir)\n",
    "\n",
    "    # Iterate over files in source directory\n",
    "    for filename in os.listdir(src_dir):\n",
    "        src_file = os.path.join(src_dir, filename)\n",
    "        dst_file = os.path.join(dst_dir, filename)\n",
    "\n",
    "        # Check if the current item is a file\n",
    "        if os.path.isfile(src_file):\n",
    "            shutil.copy2(src_file, dst_file)"
   ]
  },
  {
   "cell_type": "code",
   "execution_count": 6,
   "metadata": {},
   "outputs": [],
   "source": [
    "AI = [\"Alan\", \"Top\", \"Smoke\", \"Max\", \"Ava\", \"Irene\", \"Saree\", \"Vanilla\"]\n",
    "Human = [\"Jean\", \"Best\", \"Tong\", \"Pom\", \"Pang\", \"Mai\", \"Bright\", \"Besty\"]"
   ]
  },
  {
   "cell_type": "code",
   "execution_count": 7,
   "metadata": {},
   "outputs": [],
   "source": [
    "for i in AI:\n",
    "    source_directory = \"C:/Users/jeant/OneDrive - Chulalongkorn University/Desktop/Senior Project/Dataset/AI voice (16000)/{} 22500 trimmed\".format(i)\n",
    "    destination_directory = \"C:/Users/jeant/OneDrive - Chulalongkorn University/Desktop/Senior Project/Dataset/AI augment voice\"\n",
    "    copy_files(source_directory, destination_directory)"
   ]
  },
  {
   "cell_type": "code",
   "execution_count": 8,
   "metadata": {},
   "outputs": [],
   "source": [
    "for i in Human:\n",
    "    source_directory = \"C:/Users/jeant/OneDrive - Chulalongkorn University/Desktop/Senior Project/Dataset/Wav voice (16000)/{}.wav (trimmed)\".format(i)\n",
    "    destination_directory = \"C:/Users/jeant/OneDrive - Chulalongkorn University/Desktop/Senior Project/Dataset/Human augment voice\"\n",
    "    copy_files(source_directory, destination_directory)"
   ]
  }
 ],
 "metadata": {
  "kernelspec": {
   "display_name": "Python 3",
   "language": "python",
   "name": "python3"
  },
  "language_info": {
   "codemirror_mode": {
    "name": "ipython",
    "version": 3
   },
   "file_extension": ".py",
   "mimetype": "text/x-python",
   "name": "python",
   "nbconvert_exporter": "python",
   "pygments_lexer": "ipython3",
   "version": "3.10.1"
  }
 },
 "nbformat": 4,
 "nbformat_minor": 2
}
