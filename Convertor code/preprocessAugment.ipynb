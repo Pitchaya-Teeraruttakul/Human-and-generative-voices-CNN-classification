{
 "cells": [
  {
   "cell_type": "code",
   "execution_count": 5,
   "metadata": {},
   "outputs": [],
   "source": [
    "import os\n",
    "import librosa\n",
    "import soundfile as sf\n"
   ]
  },
  {
   "cell_type": "code",
   "execution_count": 4,
   "metadata": {},
   "outputs": [],
   "source": [
    "modifications = [\n",
    "    (0.9, -2), \n",
    "    (0.9, 2),\n",
    "    (1.1, -2),\n",
    "    (1.1, 2),\n",
    "]"
   ]
  },
  {
   "cell_type": "code",
   "execution_count": 3,
   "metadata": {},
   "outputs": [],
   "source": [
    "def modify_audio(audio_path, time_stretch_factor, pitch_shift_semitones,modification_id): # [1, 0]\n",
    "    \"\"\"\n",
    "    Modify an audio file by applying time stretching and pitch shifting.\n",
    "\n",
    "    Parameters:\n",
    "    - audio_path: Path to the input audio file.\n",
    "    - time_stretch_factor: Factor for time stretching. Values > 1 will slow down the audio, values < 1 will speed it up.\n",
    "    - pitch_shift_semitones: Number of semitones to shift the pitch. Positive values raise the pitch, negative values lower it.\n",
    "    \"\"\"\n",
    "\n",
    "    y, sr = librosa.load(audio_path)\n",
    "\n",
    "    y_stretched = librosa.effects.time_stretch(y, rate=time_stretch_factor)\n",
    "\n",
    "    # Apply pitch shifting\n",
    "    y_shifted = librosa.effects.pitch_shift(y_stretched, sr=sr, n_steps=pitch_shift_semitones)\n",
    "\n",
    "    base_filename = os.path.splitext(os.path.basename(audio_path))[0]\n",
    "\n",
    "    output_filename = f\"{base_filename}M{modification_id}.wav\"\n",
    "    output_path = os.path.join(os.path.dirname(audio_path), output_filename)\n",
    "\n",
    "    sf.write(output_filename, y_shifted, sr)"
   ]
  },
  {
   "cell_type": "code",
   "execution_count": 6,
   "metadata": {},
   "outputs": [],
   "source": [
    "HumanDir = \"C:/Users/jeant/OneDrive - Chulalongkorn University/Desktop/Senior Project/Dataset/Human augment voice\"\n",
    "AIDir = \"C:/Users/jeant/OneDrive - Chulalongkorn University/Desktop/Senior Project/Dataset/AI augment voice\""
   ]
  },
  {
   "cell_type": "code",
   "execution_count": 11,
   "metadata": {},
   "outputs": [
    {
     "name": "stdout",
     "output_type": "stream",
     "text": [
      "Number of files in directory : 400\n"
     ]
    }
   ],
   "source": [
    "HumanFiles = [os.path.join(HumanDir, f) for f in os.listdir(HumanDir) if f.endswith('.wav')]\n",
    "print(\"Number of files in directory :\",len(HumanFiles))"
   ]
  },
  {
   "cell_type": "code",
   "execution_count": 12,
   "metadata": {},
   "outputs": [
    {
     "name": "stdout",
     "output_type": "stream",
     "text": [
      "Number of files in directory : 400\n"
     ]
    }
   ],
   "source": [
    "AIFiles = [os.path.join(AIDir, f) for f in os.listdir(AIDir) if f.endswith('.wav')]\n",
    "print(\"Number of files in directory :\",len(AIFiles))"
   ]
  },
  {
   "cell_type": "code",
   "execution_count": 13,
   "metadata": {},
   "outputs": [],
   "source": [
    "for audio_path in HumanFiles:\n",
    "    # Reset modification_id for each new file\n",
    "    modification_id = 1\n",
    "    # Apply each specified modification\n",
    "    for time_stretch_factor, pitch_shift_semitones in modifications:\n",
    "        modify_audio(audio_path, time_stretch_factor, pitch_shift_semitones, modification_id)\n",
    "        modification_id += 1  # Increment the modification ID for each new file"
   ]
  },
  {
   "cell_type": "code",
   "execution_count": 14,
   "metadata": {},
   "outputs": [],
   "source": [
    "for audio_path in AIFiles:\n",
    "    modification_id = 1\n",
    "    for time_stretch_factor, pitch_shift_semitones in modifications:\n",
    "        modify_audio(audio_path, time_stretch_factor, pitch_shift_semitones, modification_id)\n",
    "        modification_id += 1 "
   ]
  },
  {
   "cell_type": "code",
   "execution_count": 15,
   "metadata": {},
   "outputs": [
    {
     "name": "stdout",
     "output_type": "stream",
     "text": [
      "Number of files in directory : 2000\n"
     ]
    }
   ],
   "source": [
    "HumanFiles = [os.path.join(HumanDir, f) for f in os.listdir(HumanDir) if f.endswith('.wav')]\n",
    "print(\"Number of files in directory :\",len(HumanFiles))"
   ]
  },
  {
   "cell_type": "code",
   "execution_count": 16,
   "metadata": {},
   "outputs": [
    {
     "name": "stdout",
     "output_type": "stream",
     "text": [
      "Number of files in directory : 2000\n"
     ]
    }
   ],
   "source": [
    "AIFiles = [os.path.join(AIDir, f) for f in os.listdir(AIDir) if f.endswith('.wav')]\n",
    "print(\"Number of files in directory :\",len(AIFiles))"
   ]
  }
 ],
 "metadata": {
  "kernelspec": {
   "display_name": "Python 3",
   "language": "python",
   "name": "python3"
  },
  "language_info": {
   "codemirror_mode": {
    "name": "ipython",
    "version": 3
   },
   "file_extension": ".py",
   "mimetype": "text/x-python",
   "name": "python",
   "nbconvert_exporter": "python",
   "pygments_lexer": "ipython3",
   "version": "3.10.1"
  }
 },
 "nbformat": 4,
 "nbformat_minor": 2
}
